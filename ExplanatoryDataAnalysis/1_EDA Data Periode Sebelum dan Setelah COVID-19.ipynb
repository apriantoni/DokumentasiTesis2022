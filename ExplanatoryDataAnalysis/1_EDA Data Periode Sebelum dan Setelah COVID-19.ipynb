{
 "cells": [
  {
   "cell_type": "markdown",
   "metadata": {},
   "source": [
    "# Melihat Data yang Diambil dari Twitter"
   ]
  },
  {
   "cell_type": "markdown",
   "metadata": {},
   "source": [
    "**Melakukan import Library**"
   ]
  },
  {
   "cell_type": "markdown",
   "metadata": {},
   "source": [
    "Pertama, lakukan import library yang dibutuhkan berikut:"
   ]
  },
  {
   "cell_type": "code",
   "execution_count": 1,
   "metadata": {},
   "outputs": [],
   "source": [
    "import pandas as pd\n",
    "import matplotlib.pyplot as plt\n",
    "import numpy as np\n",
    "import scipy.ndimage as ndi\n",
    "\n",
    "from matplotlib.widgets import Slider, Button, RadioButtons\n",
    "\n",
    "import math\n",
    "import operator\n",
    "import glob"
   ]
  },
  {
   "cell_type": "markdown",
   "metadata": {},
   "source": [
    "**Melakukan Persiapan Data**"
   ]
  },
  {
   "cell_type": "markdown",
   "metadata": {},
   "source": [
    "Membaca file CSV yang berisi scraping data Twitter pada periode sebelum terjadi COVID-19"
   ]
  },
  {
   "cell_type": "code",
   "execution_count": 2,
   "metadata": {},
   "outputs": [],
   "source": [
    "tweet_data_before_covid_df = pd.DataFrame()\n",
    "\n",
    "for files in glob.glob(\"data/noncovid/*.csv\"):\n",
    "    tweet_data_before_covid_files = pd.read_csv(files)\n",
    "    tweet_data_before_covid_df = tweet_data_before_covid_df.append(tweet_data_before_covid_files)\n",
    "    \n",
    "#menghapus rows yang redudant\n",
    "tweet_data_before_covid_df = pd.DataFrame.drop_duplicates(tweet_data_before_covid_df)"
   ]
  },
  {
   "cell_type": "markdown",
   "metadata": {},
   "source": [
    "Membaca file CSV yang berisi scraping data Twitter pada periode saat terjadi COVID-19"
   ]
  },
  {
   "cell_type": "code",
   "execution_count": 3,
   "metadata": {},
   "outputs": [],
   "source": [
    "tweet_data_during_covid_df = pd.DataFrame()\n",
    "\n",
    "for files in glob.glob(\"data/covid/*.csv\"):\n",
    "    tweet_data_during_covid_files = pd.read_csv(files)\n",
    "    tweet_data_during_covid_df = tweet_data_during_covid_df.append(tweet_data_during_covid_files)\n",
    "    \n",
    "#menghapus rows yang redudant\n",
    "tweet_data_during_covid_df = pd.DataFrame.drop_duplicates(tweet_data_during_covid_df)"
   ]
  },
  {
   "cell_type": "markdown",
   "metadata": {},
   "source": [
    "# Melakukan Analisis Data Twitter"
   ]
  },
  {
   "cell_type": "markdown",
   "metadata": {},
   "source": [
    "Analisis data ini menggunakan data Twitter dengan dua periode waktu, yaitu:\n",
    "1. Periode Sebelum Pandemi COVID-19 (01-01-2020 sampai 08-02-2020)\n",
    "1. Periode Saat Pandemi COVID-19 (01-04-2020 sampai 08-05-2020)"
   ]
  },
  {
   "cell_type": "markdown",
   "metadata": {},
   "source": [
    "Deklarasi function untuk menampilkan column value setiap grafik"
   ]
  },
  {
   "cell_type": "code",
   "execution_count": 4,
   "metadata": {},
   "outputs": [],
   "source": [
    "def autolabel(rects):\n",
    "    for rect in rects:\n",
    "        height = rect.get_height()\n",
    "        plt.text(rect.get_x() + rect.get_width()/2., 1.000*height, \n",
    "             '%d'%int(height),\n",
    "             ha = 'center', va = 'bottom', rotation = 0, \n",
    "    fontsize=9)\n",
    "\n",
    "        \n",
    "def grouped_autolabel(rects):\n",
    "    \"\"\"Attach a text label above each bar in *rects*, displaying its height.\"\"\"\n",
    "    for rect in rects:\n",
    "        height = rect.get_height()\n",
    "        ax.annotate('{}'.format(height),\n",
    "                    xy=(rect.get_x() + rect.get_width() / 2, height),\n",
    "                    xytext=(0, 3),  # 3 points vertical offset\n",
    "                    textcoords=\"offset points\",\n",
    "                    ha='center', va='bottom')"
   ]
  },
  {
   "cell_type": "markdown",
   "metadata": {},
   "source": [
    "Deklarasi function untuk menampilkan keterangan grafik"
   ]
  },
  {
   "cell_type": "code",
   "execution_count": 5,
   "metadata": {},
   "outputs": [],
   "source": [
    "def graphics_explanation(xlabel, ylabel, title):\n",
    "    plt.xlabel(xlabel)\n",
    "    plt.ylabel(ylabel)\n",
    "    plt.title(title)"
   ]
  },
  {
   "cell_type": "markdown",
   "metadata": {},
   "source": [
    "**Berdasarkan Jumlah Pengguna per Periode**"
   ]
  },
  {
   "cell_type": "markdown",
   "metadata": {},
   "source": [
    "**1. Total Jumlah Pengguna** "
   ]
  },
  {
   "cell_type": "markdown",
   "metadata": {},
   "source": [
    "Jumlah pengguna sebelum pandemi COVID-19 dan saat pandemi COVID-19"
   ]
  },
  {
   "cell_type": "code",
   "execution_count": 6,
   "metadata": {},
   "outputs": [
    {
     "data": {
      "image/png": "[encoded data removed]",
      "text/plain": [
       "<Figure size 432x288 with 1 Axes>"
      ]
     },
     "metadata": {
      "needs_background": "light"
     },
     "output_type": "display_data"
    }
   ],
   "source": [
    "user_before_covid_count = len(pd.unique(tweet_data_before_covid_df['username']))\n",
    "user_during_covid_count = len(pd.unique(tweet_data_during_covid_df['username']))\n",
    "\n",
    "user_period = ['Sebelum COVID-19','Saat COVID-19']\n",
    "user_count = [user_before_covid_count, user_during_covid_count]\n",
    "\n",
    "user_count_bar = plt.bar(user_period,user_count, align='center')\n",
    "plt.subplots_adjust(left=0.1, bottom=0.1, right=0.9, top=1.1)\n",
    "\n",
    "autolabel(user_count_bar)\n",
    "graphics_explanation('Periode', 'Jumlah Pengguna', 'Grafik Jumlah Pengguna')\n",
    "\n",
    "plt.show()"
   ]
  },
  {
   "cell_type": "markdown",
   "metadata": {},
   "source": [
    "**2. Persentase Jumlah Pengguna**"
   ]
  },
  {
   "cell_type": "markdown",
   "metadata": {},
   "source": [
    "Melihat perbandingan persentase dari dua periode tersebut"
   ]
  },
  {
   "cell_type": "code",
   "execution_count": 7,
   "metadata": {},
   "outputs": [
    {
     "name": "stdout",
     "output_type": "stream",
     "text": [
      "\n",
      "Persentase Pengguna sebelum Pandemi COVID-19: 54.97 %\n",
      "Persentase Pengguna saat Pandemi COVID-19: 45.03 %\n"
     ]
    }
   ],
   "source": [
    "user_count_before_covid_percentage = (user_before_covid_count/(user_before_covid_count+user_during_covid_count)*100)\n",
    "user_count_during_covid_percentage = (user_during_covid_count/(user_before_covid_count+user_during_covid_count)*100)\n",
    "\n",
    "print('')\n",
    "print('Persentase Pengguna sebelum Pandemi COVID-19:', round(user_count_before_covid_percentage, 2),'%')\n",
    "print('Persentase Pengguna saat Pandemi COVID-19:', round(user_count_during_covid_percentage, 2),'%')"
   ]
  },
  {
   "cell_type": "markdown",
   "metadata": {},
   "source": [
    "**Berdasarkan Jumlah Tweet per Periode**"
   ]
  },
  {
   "cell_type": "markdown",
   "metadata": {},
   "source": [
    "**1. Total Jumlah Tweet**"
   ]
  },
  {
   "cell_type": "markdown",
   "metadata": {},
   "source": [
    "Jumlah postingan sebelum pandemi COVID-19 dan saat pandemi COVID-19"
   ]
  },
  {
   "cell_type": "code",
   "execution_count": 8,
   "metadata": {},
   "outputs": [
    {
     "data": {
      "image/png": "[encoded data removed]",
      "text/plain": [
       "<Figure size 432x288 with 1 Axes>"
      ]
     },
     "metadata": {
      "needs_background": "light"
     },
     "output_type": "display_data"
    }
   ],
   "source": [
    "post_before_covid_count = len(tweet_data_before_covid_df.index)\n",
    "post_during_covid_count = len(tweet_data_during_covid_df.index)\n",
    "\n",
    "post_period = ['Sebelum COVID-19','Saat COVID-19']\n",
    "post_count = [post_before_covid_count, post_during_covid_count]\n",
    "\n",
    "post_count_bar = plt.bar(post_period,post_count, align='center')\n",
    "plt.subplots_adjust(left=0.1, bottom=0.1, right=0.9, top=1.1)\n",
    "\n",
    "autolabel(post_count_bar)\n",
    "graphics_explanation('Periode', 'Jumlah Postingan', 'Grafik Jumlah Postingan')\n",
    "\n",
    "plt.show()"
   ]
  },
  {
   "cell_type": "markdown",
   "metadata": {},
   "source": [
    "**2. Persentase Jumlah Postingan**"
   ]
  },
  {
   "cell_type": "markdown",
   "metadata": {},
   "source": [
    "Melihat perbandingan persentase psotingan dari dua periode tersebut"
   ]
  },
  {
   "cell_type": "code",
   "execution_count": 9,
   "metadata": {},
   "outputs": [
    {
     "name": "stdout",
     "output_type": "stream",
     "text": [
      "\n",
      "Persentase Postingan sebelum Pandemi COVID-19: 46.62 %\n",
      "Persentase Postingan saat Pandemi COVID-19: 53.38 %\n"
     ]
    }
   ],
   "source": [
    "post_count_before_covid_percentage = (post_before_covid_count/(post_before_covid_count+post_during_covid_count)*100)\n",
    "post_count_during_covid_percentage = (post_during_covid_count/(post_before_covid_count+post_during_covid_count)*100)\n",
    "\n",
    "print('')\n",
    "print('Persentase Postingan sebelum Pandemi COVID-19:', round(post_count_before_covid_percentage, 2),'%')\n",
    "print('Persentase Postingan saat Pandemi COVID-19:', round(post_count_during_covid_percentage, 2),'%')"
   ]
  },
  {
   "cell_type": "markdown",
   "metadata": {},
   "source": [
    "**Berdasarkan Jumlah Postingan dan Waktu**"
   ]
  },
  {
   "cell_type": "markdown",
   "metadata": {},
   "source": [
    "**1. Postingan Perhari**"
   ]
  },
  {
   "cell_type": "markdown",
   "metadata": {},
   "source": [
    "a. Jumlah postingan per-hari sebelum pandemi COVID-19"
   ]
  },
  {
   "cell_type": "code",
   "execution_count": 10,
   "metadata": {},
   "outputs": [
    {
     "data": {
      "text/html": [
       "<div>\n",
       "<style scoped>\n",
       "    .dataframe tbody tr th:only-of-type {\n",
       "        vertical-align: middle;\n",
       "    }\n",
       "\n",
       "    .dataframe tbody tr th {\n",
       "        vertical-align: top;\n",
       "    }\n",
       "\n",
       "    .dataframe thead th {\n",
       "        text-align: right;\n",
       "    }\n",
       "</style>\n",
       "<table border=\"1\" class=\"dataframe\">\n",
       "  <thead>\n",
       "    <tr style=\"text-align: right;\">\n",
       "      <th></th>\n",
       "      <th>tweet_count</th>\n",
       "      <th>percentage (%)</th>\n",
       "    </tr>\n",
       "    <tr>\n",
       "      <th>date</th>\n",
       "      <th></th>\n",
       "      <th></th>\n",
       "    </tr>\n",
       "  </thead>\n",
       "  <tbody>\n",
       "    <tr>\n",
       "      <th>2019-12-14</th>\n",
       "      <td>12599</td>\n",
       "      <td>0.89</td>\n",
       "    </tr>\n",
       "    <tr>\n",
       "      <th>2019-12-15</th>\n",
       "      <td>15399</td>\n",
       "      <td>1.09</td>\n",
       "    </tr>\n",
       "    <tr>\n",
       "      <th>2019-12-16</th>\n",
       "      <td>15399</td>\n",
       "      <td>1.09</td>\n",
       "    </tr>\n",
       "    <tr>\n",
       "      <th>2019-12-17</th>\n",
       "      <td>16499</td>\n",
       "      <td>1.17</td>\n",
       "    </tr>\n",
       "    <tr>\n",
       "      <th>2019-12-18</th>\n",
       "      <td>15291</td>\n",
       "      <td>1.08</td>\n",
       "    </tr>\n",
       "    <tr>\n",
       "      <th>...</th>\n",
       "      <td>...</td>\n",
       "      <td>...</td>\n",
       "    </tr>\n",
       "    <tr>\n",
       "      <th>2020-03-10</th>\n",
       "      <td>16445</td>\n",
       "      <td>1.16</td>\n",
       "    </tr>\n",
       "    <tr>\n",
       "      <th>2020-03-11</th>\n",
       "      <td>17307</td>\n",
       "      <td>1.23</td>\n",
       "    </tr>\n",
       "    <tr>\n",
       "      <th>2020-03-12</th>\n",
       "      <td>17759</td>\n",
       "      <td>1.26</td>\n",
       "    </tr>\n",
       "    <tr>\n",
       "      <th>2020-03-13</th>\n",
       "      <td>17005</td>\n",
       "      <td>1.20</td>\n",
       "    </tr>\n",
       "    <tr>\n",
       "      <th>2020-03-14</th>\n",
       "      <td>2428</td>\n",
       "      <td>0.17</td>\n",
       "    </tr>\n",
       "  </tbody>\n",
       "</table>\n",
       "<p>86 rows × 2 columns</p>\n",
       "</div>"
      ],
      "text/plain": [
       "            tweet_count  percentage (%)\n",
       "date                                   \n",
       "2019-12-14        12599            0.89\n",
       "2019-12-15        15399            1.09\n",
       "2019-12-16        15399            1.09\n",
       "2019-12-17        16499            1.17\n",
       "2019-12-18        15291            1.08\n",
       "...                 ...             ...\n",
       "2020-03-10        16445            1.16\n",
       "2020-03-11        17307            1.23\n",
       "2020-03-12        17759            1.26\n",
       "2020-03-13        17005            1.20\n",
       "2020-03-14         2428            0.17\n",
       "\n",
       "[86 rows x 2 columns]"
      ]
     },
     "execution_count": 10,
     "metadata": {},
     "output_type": "execute_result"
    }
   ],
   "source": [
    "#deklarasi sebuah dataframe\n",
    "tweet_each_day_before_covid_df = pd.DataFrame([])\n",
    "\n",
    "#jumlahkan postingan yang berada setiap perhari \n",
    "tweet_each_day_before_covid = tweet_data_before_covid_df.groupby(\"date\")[\"date\"].count()\n",
    "\n",
    "#masukkan data jumlah psotingan setiap hari ke dataframe\n",
    "tweet_each_day_before_covid_df = pd.DataFrame(tweet_each_day_before_covid)\n",
    "tweet_each_day_before_covid_df = tweet_each_day_before_covid_df.rename(columns={'date': 'tweet_count'})\n",
    "\n",
    "#buat sebuah list yang berisi persentase postingan setiap harinya\n",
    "tweet_each_day_before_covid_percentage = []\n",
    "for i, row in tweet_each_day_before_covid_df.iterrows():\n",
    "    tweet_each_day_before_covid_percentage.append(round((row['tweet_count']/tweet_each_day_before_covid_df['tweet_count'].sum())*100,2))\n",
    "\n",
    "#tambahkan list persentase postingan ke dataframe\n",
    "tweet_each_day_before_covid_df['percentage (%)'] = tweet_each_day_before_covid_percentage\n",
    "\n",
    "tweet_each_day_before_covid_df"
   ]
  },
  {
   "cell_type": "markdown",
   "metadata": {},
   "source": [
    "b. Jumlah postingan per-hari saat pandemi COVID-19"
   ]
  },
  {
   "cell_type": "code",
   "execution_count": 11,
   "metadata": {},
   "outputs": [
    {
     "data": {
      "text/html": [
       "<div>\n",
       "<style scoped>\n",
       "    .dataframe tbody tr th:only-of-type {\n",
       "        vertical-align: middle;\n",
       "    }\n",
       "\n",
       "    .dataframe tbody tr th {\n",
       "        vertical-align: top;\n",
       "    }\n",
       "\n",
       "    .dataframe thead th {\n",
       "        text-align: right;\n",
       "    }\n",
       "</style>\n",
       "<table border=\"1\" class=\"dataframe\">\n",
       "  <thead>\n",
       "    <tr style=\"text-align: right;\">\n",
       "      <th></th>\n",
       "      <th>tweet_count</th>\n",
       "      <th>percentage (%)</th>\n",
       "    </tr>\n",
       "    <tr>\n",
       "      <th>date</th>\n",
       "      <th></th>\n",
       "      <th></th>\n",
       "    </tr>\n",
       "  </thead>\n",
       "  <tbody>\n",
       "    <tr>\n",
       "      <th>2020-03-14</th>\n",
       "      <td>19201</td>\n",
       "      <td>1.19</td>\n",
       "    </tr>\n",
       "    <tr>\n",
       "      <th>2020-03-15</th>\n",
       "      <td>19759</td>\n",
       "      <td>1.22</td>\n",
       "    </tr>\n",
       "    <tr>\n",
       "      <th>2020-03-16</th>\n",
       "      <td>20151</td>\n",
       "      <td>1.25</td>\n",
       "    </tr>\n",
       "    <tr>\n",
       "      <th>2020-03-17</th>\n",
       "      <td>18868</td>\n",
       "      <td>1.17</td>\n",
       "    </tr>\n",
       "    <tr>\n",
       "      <th>2020-03-18</th>\n",
       "      <td>18940</td>\n",
       "      <td>1.17</td>\n",
       "    </tr>\n",
       "    <tr>\n",
       "      <th>...</th>\n",
       "      <td>...</td>\n",
       "      <td>...</td>\n",
       "    </tr>\n",
       "    <tr>\n",
       "      <th>5/27/20</th>\n",
       "      <td>15665</td>\n",
       "      <td>0.97</td>\n",
       "    </tr>\n",
       "    <tr>\n",
       "      <th>5/28/20</th>\n",
       "      <td>15571</td>\n",
       "      <td>0.96</td>\n",
       "    </tr>\n",
       "    <tr>\n",
       "      <th>5/29/20</th>\n",
       "      <td>15113</td>\n",
       "      <td>0.93</td>\n",
       "    </tr>\n",
       "    <tr>\n",
       "      <th>5/30/20</th>\n",
       "      <td>15572</td>\n",
       "      <td>0.96</td>\n",
       "    </tr>\n",
       "    <tr>\n",
       "      <th>5/31/20</th>\n",
       "      <td>17045</td>\n",
       "      <td>1.05</td>\n",
       "    </tr>\n",
       "  </tbody>\n",
       "</table>\n",
       "<p>93 rows × 2 columns</p>\n",
       "</div>"
      ],
      "text/plain": [
       "            tweet_count  percentage (%)\n",
       "date                                   \n",
       "2020-03-14        19201            1.19\n",
       "2020-03-15        19759            1.22\n",
       "2020-03-16        20151            1.25\n",
       "2020-03-17        18868            1.17\n",
       "2020-03-18        18940            1.17\n",
       "...                 ...             ...\n",
       "5/27/20           15665            0.97\n",
       "5/28/20           15571            0.96\n",
       "5/29/20           15113            0.93\n",
       "5/30/20           15572            0.96\n",
       "5/31/20           17045            1.05\n",
       "\n",
       "[93 rows x 2 columns]"
      ]
     },
     "execution_count": 11,
     "metadata": {},
     "output_type": "execute_result"
    }
   ],
   "source": [
    "#deklarasi sebuah dataframe\n",
    "tweet_each_day_during_covid_df = pd.DataFrame([])\n",
    "\n",
    "#jumlahkan postingan yang berada setiap perhari \n",
    "tweet_each_day_during_covid = tweet_data_during_covid_df.groupby(\"date\")[\"date\"].count()\n",
    "\n",
    "#masukkan data jumlah psotingan setiap hari ke dataframe\n",
    "tweet_each_day_during_covid_df = pd.DataFrame(tweet_each_day_during_covid)\n",
    "tweet_each_day_during_covid_df = tweet_each_day_during_covid_df.rename(columns={'date': 'tweet_count'})\n",
    "\n",
    "#buat sebuah list yang berisi persentase postingan setiap harinya\n",
    "tweet_each_day_during_covid_percentage = []\n",
    "for i, row in tweet_each_day_during_covid_df.iterrows():\n",
    "    tweet_each_day_during_covid_percentage.append(round((row['tweet_count']/tweet_each_day_during_covid_df['tweet_count'].sum())*100,2))\n",
    "\n",
    "#tambahkan list persentase postingan ke dataframe\n",
    "tweet_each_day_during_covid_df['percentage (%)'] = tweet_each_day_during_covid_percentage\n",
    "\n",
    "tweet_each_day_during_covid_df"
   ]
  },
  {
   "cell_type": "markdown",
   "metadata": {},
   "source": [
    "Menambahkan kolom date ke dataframe **tweet_data_before_covid_sort** dan **tweet_data_during_covid_sort**"
   ]
  },
  {
   "cell_type": "code",
   "execution_count": 12,
   "metadata": {},
   "outputs": [],
   "source": [
    "#menambahkan kolom date ke dataframe tweet_data_before_covid_sort\n",
    "tweet_data_before_covid_sort = tweet_data_before_covid_df['date'].sort_values(ascending=True)\n",
    "date_before_covid_sort = tweet_data_before_covid_sort.unique().tolist()\n",
    "\n",
    "tweet_each_day_before_covid_df['date'] = date_before_covid_sort\n",
    "\n",
    "#menambahkan kolom date ke dataframe tweet_data_before_covid_sort\n",
    "tweet_data_during_covid_sort = tweet_data_during_covid_df['date'].sort_values(ascending=True)\n",
    "date_during_covid_sort = tweet_data_during_covid_sort.unique().tolist()\n",
    "\n",
    "tweet_each_day_during_covid_df['date'] = date_during_covid_sort"
   ]
  },
  {
   "cell_type": "markdown",
   "metadata": {},
   "source": [
    "**2. Jumlah Postingan per-Hari**"
   ]
  },
  {
   "cell_type": "markdown",
   "metadata": {},
   "source": [
    "Membuat fungsi convert date, untuk mengecek nilai kolom date apakah merupakan format date atau tidak, kemudian dikonversi dari tipe date string string ke datestring objects."
   ]
  },
  {
   "cell_type": "code",
   "execution_count": 13,
   "metadata": {},
   "outputs": [],
   "source": [
    "def dateOrNotToDate(date_str):\n",
    "    return datetime.strptime(date_str, '%Y-%m-%d')"
   ]
  },
  {
   "cell_type": "markdown",
   "metadata": {},
   "source": [
    "Melakukan convert date untuk setiap data"
   ]
  },
  {
   "cell_type": "code",
   "execution_count": 14,
   "metadata": {},
   "outputs": [],
   "source": [
    "import datetime\n",
    "from datetime import datetime\n",
    "\n",
    "def convert_dates(df):\n",
    "    for i, date in enumerate(df['date']):\n",
    "        df.iloc[i, df.columns.get_loc('date')] = dateOrNotToDate(date)\n",
    "        \n",
    "#convert_dates(tweet_each_day_before_covid_df)\n",
    "#convert_dates(tweet_each_day_during_covid_df)"
   ]
  },
  {
   "cell_type": "markdown",
   "metadata": {},
   "source": [
    "Fungsi untuk mengecek nama hari berdasarkan tanggal tertentu"
   ]
  },
  {
   "cell_type": "code",
   "execution_count": 15,
   "metadata": {},
   "outputs": [
    {
     "name": "stdout",
     "output_type": "stream",
     "text": [
      "Hari:  Wednesday\n"
     ]
    }
   ],
   "source": [
    "import datetime\n",
    "from datetime import datetime\n",
    "\n",
    "days = [\n",
    "    'Monday',\n",
    "    'Tuesday', \n",
    "    'Wednesday',\n",
    "    'Thursday',\n",
    "    'Friday',\n",
    "    'Saturday',\n",
    "    'Sunday'\n",
    "]\n",
    "\n",
    "date_label = datetime.strptime('2020-01-01', '%Y-%m-%d')\n",
    "print('Hari: ',days[date_label.weekday()])"
   ]
  },
  {
   "cell_type": "markdown",
   "metadata": {},
   "source": [
    "Menambahkan kolom day ke dalam dataframe **tweet_each_day_before_covid_df** dan **tweet_each_day_during_covid_df**"
   ]
  },
  {
   "cell_type": "code",
   "execution_count": 16,
   "metadata": {},
   "outputs": [],
   "source": [
    "#menambahkan data sebelum COVID-19\n",
    "day_name_before_covid = []\n",
    "for i, row in tweet_each_day_before_covid_df.iterrows():\n",
    "    try:\n",
    "        date_value = datetime.strptime(row['date'], '%Y-%m-%d')\n",
    "    except:\n",
    "        date_value = datetime.strptime(row['date'], '%m/%d/%y')\n",
    "    day_name_before_covid.append(days[date_value.weekday()])\n",
    "    \n",
    "#menambahkan data saat COVID-19\n",
    "day_name_during_covid = []\n",
    "for i, row in tweet_each_day_during_covid_df.iterrows():\n",
    "    try:\n",
    "        date_value = datetime.strptime(row['date'], '%Y-%m-%d')\n",
    "    except:\n",
    "        date_value = datetime.strptime(row['date'], '%m/%d/%y')\n",
    "    day_name_during_covid.append(days[date_value.weekday()])"
   ]
  },
  {
   "cell_type": "markdown",
   "metadata": {},
   "source": [
    "menambahkan list day_name ke dalam dataframe **tweet_each_day_before_covid_df** dan **tweet_each_day_during_covid_df**"
   ]
  },
  {
   "cell_type": "code",
   "execution_count": 17,
   "metadata": {},
   "outputs": [],
   "source": [
    "#menambahkan list day_name\n",
    "tweet_each_day_before_covid_df['day_name'] = day_name_before_covid\n",
    "tweet_each_day_during_covid_df['day_name'] = day_name_during_covid\n",
    "\n",
    "#jumlahkan postingan yang berada setiap day_name\n",
    "tweet_each_dayname_before_covid = tweet_each_day_before_covid_df.groupby(['day_name'])['tweet_count'].sum().reset_index()\n",
    "tweet_each_dayname_during_covid = tweet_each_day_during_covid_df.groupby(['day_name'])['tweet_count'].sum().reset_index()"
   ]
  },
  {
   "cell_type": "markdown",
   "metadata": {},
   "source": [
    "a. Menampilkan grafik data setiap label hari pada periode sebelum COVID-19"
   ]
  },
  {
   "cell_type": "code",
   "execution_count": 18,
   "metadata": {},
   "outputs": [
    {
     "data": {
      "image/png": "[encoded data removed]",
      "text/plain": [
       "<Figure size 432x288 with 1 Axes>"
      ]
     },
     "metadata": {},
     "output_type": "display_data"
    }
   ],
   "source": [
    "labels = tweet_each_dayname_before_covid['day_name'].tolist()\n",
    "sizes = tweet_each_dayname_before_covid['tweet_count'].tolist()\n",
    "explode = (0, 0, 0, 0, 0, 0, 0)  \n",
    "\n",
    "fig1, ax1 = plt.subplots()\n",
    "ax1.pie(sizes, explode=explode, labels=labels, autopct='%1.1f%%',\n",
    "        shadow=True, startangle=90)\n",
    "\n",
    "ax1.axis('equal') \n",
    "\n",
    "graphics_explanation('', '', 'Grafis Persentase Postingan berdasarkan Hari')\n",
    "\n",
    "plt.show()"
   ]
  },
  {
   "cell_type": "markdown",
   "metadata": {},
   "source": [
    "b. Menampilkan grafik data setiap label hari pada periode saat COVID-19"
   ]
  },
  {
   "cell_type": "code",
   "execution_count": 19,
   "metadata": {},
   "outputs": [
    {
     "data": {
      "image/png": "[encoded data removed]",
      "text/plain": [
       "<Figure size 432x288 with 1 Axes>"
      ]
     },
     "metadata": {},
     "output_type": "display_data"
    }
   ],
   "source": [
    "labels = tweet_each_dayname_during_covid['day_name'].tolist()\n",
    "sizes = tweet_each_dayname_during_covid['tweet_count'].tolist()\n",
    "explode = (0, 0, 0, 0, 0, 0, 0)\n",
    "\n",
    "fig1, ax1 = plt.subplots()\n",
    "ax1.pie(sizes, explode=explode, labels=labels, autopct='%1.1f%%',\n",
    "        shadow=True, startangle=90)\n",
    "ax1.axis('equal') \n",
    "\n",
    "graphics_explanation('', '', 'Grafis Persentase Postingan berdasarkan Hari')\n",
    "\n",
    "plt.show()"
   ]
  },
  {
   "cell_type": "markdown",
   "metadata": {},
   "source": [
    "Melihat perbandingan postingan ketika belum COVID-19 dan saat COVID-19"
   ]
  },
  {
   "cell_type": "code",
   "execution_count": 20,
   "metadata": {},
   "outputs": [
    {
     "data": {
      "image/png": "[encoded data removed]",
      "text/plain": [
       "<Figure size 1080x360 with 1 Axes>"
      ]
     },
     "metadata": {
      "needs_background": "light"
     },
     "output_type": "display_data"
    }
   ],
   "source": [
    "day_labels = tweet_each_dayname_during_covid['day_name'].tolist()\n",
    "each_day_before_covid = tweet_each_dayname_before_covid['tweet_count'].tolist()\n",
    "each_day_during_covid = tweet_each_dayname_during_covid['tweet_count'].tolist()\n",
    "\n",
    "x = np.arange(len(day_labels))  # the label locations\n",
    "width = 0.3  # the width of the bars\n",
    "\n",
    "fig, ax = plt.subplots(figsize=((15, 5)))\n",
    "rects1 = ax.bar(x - width/2, each_day_before_covid, width, label='Before COVID-19')\n",
    "rects2 = ax.bar(x + width/2, each_day_during_covid, width, label='During COVID-19')\n",
    "\n",
    "# Add some text for labels, title and custom x-axis tick labels, etc.\n",
    "ax.set_ylabel('Total Post')\n",
    "ax.set_title('Total Post - Before and During COVID-19')\n",
    "ax.set_xticks(x)\n",
    "ax.set_xticklabels(day_labels)\n",
    "ax.legend()\n",
    "\n",
    "grouped_autolabel(rects1)\n",
    "grouped_autolabel(rects2)\n",
    "\n",
    "fig.tight_layout()\n",
    "\n",
    "plt.show()"
   ]
  },
  {
   "cell_type": "markdown",
   "metadata": {},
   "source": [
    "Jumlah user aktif pada setiap hari sebelum COVID-19"
   ]
  },
  {
   "cell_type": "code",
   "execution_count": 21,
   "metadata": {},
   "outputs": [
    {
     "data": {
      "text/html": [
       "<div>\n",
       "<style scoped>\n",
       "    .dataframe tbody tr th:only-of-type {\n",
       "        vertical-align: middle;\n",
       "    }\n",
       "\n",
       "    .dataframe tbody tr th {\n",
       "        vertical-align: top;\n",
       "    }\n",
       "\n",
       "    .dataframe thead th {\n",
       "        text-align: right;\n",
       "    }\n",
       "</style>\n",
       "<table border=\"1\" class=\"dataframe\">\n",
       "  <thead>\n",
       "    <tr style=\"text-align: right;\">\n",
       "      <th></th>\n",
       "      <th>user_count</th>\n",
       "      <th>percentage (%)</th>\n",
       "    </tr>\n",
       "    <tr>\n",
       "      <th>date</th>\n",
       "      <th></th>\n",
       "      <th></th>\n",
       "    </tr>\n",
       "  </thead>\n",
       "  <tbody>\n",
       "    <tr>\n",
       "      <th>2019-12-14</th>\n",
       "      <td>12599</td>\n",
       "      <td>0.89</td>\n",
       "    </tr>\n",
       "    <tr>\n",
       "      <th>2019-12-15</th>\n",
       "      <td>15399</td>\n",
       "      <td>1.09</td>\n",
       "    </tr>\n",
       "    <tr>\n",
       "      <th>2019-12-16</th>\n",
       "      <td>15399</td>\n",
       "      <td>1.09</td>\n",
       "    </tr>\n",
       "    <tr>\n",
       "      <th>2019-12-17</th>\n",
       "      <td>16499</td>\n",
       "      <td>1.17</td>\n",
       "    </tr>\n",
       "    <tr>\n",
       "      <th>2019-12-18</th>\n",
       "      <td>15291</td>\n",
       "      <td>1.08</td>\n",
       "    </tr>\n",
       "    <tr>\n",
       "      <th>...</th>\n",
       "      <td>...</td>\n",
       "      <td>...</td>\n",
       "    </tr>\n",
       "    <tr>\n",
       "      <th>2020-03-10</th>\n",
       "      <td>16445</td>\n",
       "      <td>1.16</td>\n",
       "    </tr>\n",
       "    <tr>\n",
       "      <th>2020-03-11</th>\n",
       "      <td>17307</td>\n",
       "      <td>1.23</td>\n",
       "    </tr>\n",
       "    <tr>\n",
       "      <th>2020-03-12</th>\n",
       "      <td>17759</td>\n",
       "      <td>1.26</td>\n",
       "    </tr>\n",
       "    <tr>\n",
       "      <th>2020-03-13</th>\n",
       "      <td>17005</td>\n",
       "      <td>1.20</td>\n",
       "    </tr>\n",
       "    <tr>\n",
       "      <th>2020-03-14</th>\n",
       "      <td>2428</td>\n",
       "      <td>0.17</td>\n",
       "    </tr>\n",
       "  </tbody>\n",
       "</table>\n",
       "<p>86 rows × 2 columns</p>\n",
       "</div>"
      ],
      "text/plain": [
       "            user_count  percentage (%)\n",
       "date                                  \n",
       "2019-12-14       12599            0.89\n",
       "2019-12-15       15399            1.09\n",
       "2019-12-16       15399            1.09\n",
       "2019-12-17       16499            1.17\n",
       "2019-12-18       15291            1.08\n",
       "...                ...             ...\n",
       "2020-03-10       16445            1.16\n",
       "2020-03-11       17307            1.23\n",
       "2020-03-12       17759            1.26\n",
       "2020-03-13       17005            1.20\n",
       "2020-03-14        2428            0.17\n",
       "\n",
       "[86 rows x 2 columns]"
      ]
     },
     "execution_count": 21,
     "metadata": {},
     "output_type": "execute_result"
    }
   ],
   "source": [
    "#deklarasi sebuah dataframe\n",
    "useractive_each_day_before_covid_df = pd.DataFrame([])\n",
    "\n",
    "#jumlahkan postingan yang berada setiap perhari \n",
    "useractive_each_day_before_covid = tweet_data_before_covid_df.groupby(\"date\")[\"username\"].count()\n",
    "\n",
    "#masukkan data jumlah postingan setiap hari ke dataframe\n",
    "useractive_each_day_before_covid_df = pd.DataFrame(useractive_each_day_before_covid)\n",
    "useractive_each_day_before_covid_df = useractive_each_day_before_covid_df.rename(columns={'username': 'user_count'})\n",
    "\n",
    "#buat sebuah list yang berisi persentase postingan setiap harinya\n",
    "useractive_each_day_before_covid_percentage = []\n",
    "for i, row in useractive_each_day_before_covid_df.iterrows():\n",
    "    useractive_each_day_before_covid_percentage.append(round((row['user_count']/useractive_each_day_before_covid_df['user_count'].sum())*100,2))\n",
    "\n",
    "#tambahkan list persentase postingan ke dataframe\n",
    "useractive_each_day_before_covid_df['percentage (%)'] = useractive_each_day_before_covid_percentage\n",
    "\n",
    "useractive_each_day_before_covid_df"
   ]
  },
  {
   "cell_type": "markdown",
   "metadata": {},
   "source": [
    "Jumlah user aktif pada setiap hari saat COVID-19"
   ]
  },
  {
   "cell_type": "code",
   "execution_count": 22,
   "metadata": {},
   "outputs": [
    {
     "data": {
      "text/html": [
       "<div>\n",
       "<style scoped>\n",
       "    .dataframe tbody tr th:only-of-type {\n",
       "        vertical-align: middle;\n",
       "    }\n",
       "\n",
       "    .dataframe tbody tr th {\n",
       "        vertical-align: top;\n",
       "    }\n",
       "\n",
       "    .dataframe thead th {\n",
       "        text-align: right;\n",
       "    }\n",
       "</style>\n",
       "<table border=\"1\" class=\"dataframe\">\n",
       "  <thead>\n",
       "    <tr style=\"text-align: right;\">\n",
       "      <th></th>\n",
       "      <th>user_count</th>\n",
       "      <th>percentage (%)</th>\n",
       "    </tr>\n",
       "    <tr>\n",
       "      <th>date</th>\n",
       "      <th></th>\n",
       "      <th></th>\n",
       "    </tr>\n",
       "  </thead>\n",
       "  <tbody>\n",
       "    <tr>\n",
       "      <th>2020-03-14</th>\n",
       "      <td>19201</td>\n",
       "      <td>1.19</td>\n",
       "    </tr>\n",
       "    <tr>\n",
       "      <th>2020-03-15</th>\n",
       "      <td>19759</td>\n",
       "      <td>1.22</td>\n",
       "    </tr>\n",
       "    <tr>\n",
       "      <th>2020-03-16</th>\n",
       "      <td>20151</td>\n",
       "      <td>1.25</td>\n",
       "    </tr>\n",
       "    <tr>\n",
       "      <th>2020-03-17</th>\n",
       "      <td>18868</td>\n",
       "      <td>1.17</td>\n",
       "    </tr>\n",
       "    <tr>\n",
       "      <th>2020-03-18</th>\n",
       "      <td>18940</td>\n",
       "      <td>1.17</td>\n",
       "    </tr>\n",
       "    <tr>\n",
       "      <th>...</th>\n",
       "      <td>...</td>\n",
       "      <td>...</td>\n",
       "    </tr>\n",
       "    <tr>\n",
       "      <th>5/27/20</th>\n",
       "      <td>15665</td>\n",
       "      <td>0.97</td>\n",
       "    </tr>\n",
       "    <tr>\n",
       "      <th>5/28/20</th>\n",
       "      <td>15571</td>\n",
       "      <td>0.96</td>\n",
       "    </tr>\n",
       "    <tr>\n",
       "      <th>5/29/20</th>\n",
       "      <td>15113</td>\n",
       "      <td>0.93</td>\n",
       "    </tr>\n",
       "    <tr>\n",
       "      <th>5/30/20</th>\n",
       "      <td>15572</td>\n",
       "      <td>0.96</td>\n",
       "    </tr>\n",
       "    <tr>\n",
       "      <th>5/31/20</th>\n",
       "      <td>17045</td>\n",
       "      <td>1.05</td>\n",
       "    </tr>\n",
       "  </tbody>\n",
       "</table>\n",
       "<p>93 rows × 2 columns</p>\n",
       "</div>"
      ],
      "text/plain": [
       "            user_count  percentage (%)\n",
       "date                                  \n",
       "2020-03-14       19201            1.19\n",
       "2020-03-15       19759            1.22\n",
       "2020-03-16       20151            1.25\n",
       "2020-03-17       18868            1.17\n",
       "2020-03-18       18940            1.17\n",
       "...                ...             ...\n",
       "5/27/20          15665            0.97\n",
       "5/28/20          15571            0.96\n",
       "5/29/20          15113            0.93\n",
       "5/30/20          15572            0.96\n",
       "5/31/20          17045            1.05\n",
       "\n",
       "[93 rows x 2 columns]"
      ]
     },
     "execution_count": 22,
     "metadata": {},
     "output_type": "execute_result"
    }
   ],
   "source": [
    "#deklarasi sebuah dataframe\n",
    "useractive_each_day_during_covid_df = pd.DataFrame([])\n",
    "\n",
    "#jumlahkan postingan yang berada setiap perhari \n",
    "useractive_each_day_during_covid = tweet_data_during_covid_df.groupby(\"date\")[\"username\"].count()\n",
    "\n",
    "#masukkan data jumlah postingan setiap hari ke dataframe\n",
    "useractive_each_day_during_covid_df = pd.DataFrame(useractive_each_day_during_covid)\n",
    "useractive_each_day_during_covid_df = useractive_each_day_during_covid_df.rename(columns={'username': 'user_count'})\n",
    "\n",
    "#buat sebuah list yang berisi persentase postingan setiap harinya\n",
    "useractive_each_day_during_covid_percentage = []\n",
    "for i, row in useractive_each_day_during_covid_df.iterrows():\n",
    "    useractive_each_day_during_covid_percentage.append(round((row['user_count']/useractive_each_day_during_covid_df['user_count'].sum())*100,2))\n",
    "\n",
    "#tambahkan list persentase postingan ke dataframe\n",
    "useractive_each_day_during_covid_df['percentage (%)'] = useractive_each_day_during_covid_percentage\n",
    "\n",
    "useractive_each_day_during_covid_df"
   ]
  },
  {
   "cell_type": "markdown",
   "metadata": {},
   "source": [
    "**Melihat berdasarkan Jam**"
   ]
  },
  {
   "cell_type": "markdown",
   "metadata": {},
   "source": [
    "a. Melihat jumlah tweets berdasarkan jam pada periode sebelum COVID-19"
   ]
  },
  {
   "cell_type": "code",
   "execution_count": 23,
   "metadata": {},
   "outputs": [
    {
     "data": {
      "text/html": [
       "<div>\n",
       "<style scoped>\n",
       "    .dataframe tbody tr th:only-of-type {\n",
       "        vertical-align: middle;\n",
       "    }\n",
       "\n",
       "    .dataframe tbody tr th {\n",
       "        vertical-align: top;\n",
       "    }\n",
       "\n",
       "    .dataframe thead th {\n",
       "        text-align: right;\n",
       "    }\n",
       "</style>\n",
       "<table border=\"1\" class=\"dataframe\">\n",
       "  <thead>\n",
       "    <tr style=\"text-align: right;\">\n",
       "      <th></th>\n",
       "      <th>tweet_count</th>\n",
       "      <th>percentage (%)</th>\n",
       "    </tr>\n",
       "    <tr>\n",
       "      <th>hour</th>\n",
       "      <th></th>\n",
       "      <th></th>\n",
       "    </tr>\n",
       "  </thead>\n",
       "  <tbody>\n",
       "    <tr>\n",
       "      <th>12</th>\n",
       "      <td>73929</td>\n",
       "      <td>5.24</td>\n",
       "    </tr>\n",
       "    <tr>\n",
       "      <th>13</th>\n",
       "      <td>73639</td>\n",
       "      <td>5.21</td>\n",
       "    </tr>\n",
       "    <tr>\n",
       "      <th>15</th>\n",
       "      <td>73307</td>\n",
       "      <td>5.19</td>\n",
       "    </tr>\n",
       "    <tr>\n",
       "      <th>14</th>\n",
       "      <td>73215</td>\n",
       "      <td>5.18</td>\n",
       "    </tr>\n",
       "    <tr>\n",
       "      <th>11</th>\n",
       "      <td>73100</td>\n",
       "      <td>5.18</td>\n",
       "    </tr>\n",
       "    <tr>\n",
       "      <th>16</th>\n",
       "      <td>71398</td>\n",
       "      <td>5.06</td>\n",
       "    </tr>\n",
       "    <tr>\n",
       "      <th>22</th>\n",
       "      <td>71189</td>\n",
       "      <td>5.04</td>\n",
       "    </tr>\n",
       "    <tr>\n",
       "      <th>10</th>\n",
       "      <td>69471</td>\n",
       "      <td>4.92</td>\n",
       "    </tr>\n",
       "    <tr>\n",
       "      <th>17</th>\n",
       "      <td>68863</td>\n",
       "      <td>4.88</td>\n",
       "    </tr>\n",
       "    <tr>\n",
       "      <th>21</th>\n",
       "      <td>68622</td>\n",
       "      <td>4.86</td>\n",
       "    </tr>\n",
       "    <tr>\n",
       "      <th>18</th>\n",
       "      <td>67703</td>\n",
       "      <td>4.79</td>\n",
       "    </tr>\n",
       "    <tr>\n",
       "      <th>20</th>\n",
       "      <td>65631</td>\n",
       "      <td>4.65</td>\n",
       "    </tr>\n",
       "    <tr>\n",
       "      <th>19</th>\n",
       "      <td>65433</td>\n",
       "      <td>4.63</td>\n",
       "    </tr>\n",
       "    <tr>\n",
       "      <th>9</th>\n",
       "      <td>64366</td>\n",
       "      <td>4.56</td>\n",
       "    </tr>\n",
       "    <tr>\n",
       "      <th>23</th>\n",
       "      <td>63873</td>\n",
       "      <td>4.52</td>\n",
       "    </tr>\n",
       "    <tr>\n",
       "      <th>8</th>\n",
       "      <td>59246</td>\n",
       "      <td>4.20</td>\n",
       "    </tr>\n",
       "    <tr>\n",
       "      <th>0</th>\n",
       "      <td>52153</td>\n",
       "      <td>3.69</td>\n",
       "    </tr>\n",
       "    <tr>\n",
       "      <th>7</th>\n",
       "      <td>51077</td>\n",
       "      <td>3.62</td>\n",
       "    </tr>\n",
       "    <tr>\n",
       "      <th>6</th>\n",
       "      <td>42544</td>\n",
       "      <td>3.01</td>\n",
       "    </tr>\n",
       "    <tr>\n",
       "      <th>1</th>\n",
       "      <td>39744</td>\n",
       "      <td>2.81</td>\n",
       "    </tr>\n",
       "    <tr>\n",
       "      <th>5</th>\n",
       "      <td>33407</td>\n",
       "      <td>2.37</td>\n",
       "    </tr>\n",
       "    <tr>\n",
       "      <th>2</th>\n",
       "      <td>32606</td>\n",
       "      <td>2.31</td>\n",
       "    </tr>\n",
       "    <tr>\n",
       "      <th>3</th>\n",
       "      <td>29211</td>\n",
       "      <td>2.07</td>\n",
       "    </tr>\n",
       "    <tr>\n",
       "      <th>4</th>\n",
       "      <td>28375</td>\n",
       "      <td>2.01</td>\n",
       "    </tr>\n",
       "  </tbody>\n",
       "</table>\n",
       "</div>"
      ],
      "text/plain": [
       "      tweet_count  percentage (%)\n",
       "hour                             \n",
       "12          73929            5.24\n",
       "13          73639            5.21\n",
       "15          73307            5.19\n",
       "14          73215            5.18\n",
       "11          73100            5.18\n",
       "16          71398            5.06\n",
       "22          71189            5.04\n",
       "10          69471            4.92\n",
       "17          68863            4.88\n",
       "21          68622            4.86\n",
       "18          67703            4.79\n",
       "20          65631            4.65\n",
       "19          65433            4.63\n",
       "9           64366            4.56\n",
       "23          63873            4.52\n",
       "8           59246            4.20\n",
       "0           52153            3.69\n",
       "7           51077            3.62\n",
       "6           42544            3.01\n",
       "1           39744            2.81\n",
       "5           33407            2.37\n",
       "2           32606            2.31\n",
       "3           29211            2.07\n",
       "4           28375            2.01"
      ]
     },
     "execution_count": 23,
     "metadata": {},
     "output_type": "execute_result"
    }
   ],
   "source": [
    "#memisahkan hour dari kolom nilai time\n",
    "tweet_each_hour_before_covid_filter = pd.to_datetime(tweet_data_before_covid_df['time'], format='%H:%M:%S').dt.hour\n",
    "\n",
    "#menambahkan kolom baru dengan nilai hour\n",
    "tweet_each_hour_before_covid = tweet_data_before_covid_df.copy()\n",
    "tweet_each_hour_before_covid['hour'] = tweet_each_hour_before_covid_filter\n",
    "\n",
    "#jumlahkan tweets setiap jam \n",
    "tweet_each_hour_before_covid_count = tweet_each_hour_before_covid.groupby(\"hour\")[\"hour\"].count()\n",
    "\n",
    "#masukkan data jumlah postingan setiap jam ke dataframe\n",
    "tweet_each_hour_before_covid_df = pd.DataFrame(tweet_each_hour_before_covid_count)\n",
    "tweet_each_hour_before_covid_df = tweet_each_hour_before_covid_df.rename(columns={'hour': 'tweet_count'})\n",
    "\n",
    "#buat sebuah list yang berisi persentase postingan setiap harinya\n",
    "tweet_each_hour_before_covid_percentage = []\n",
    "for i, row in tweet_each_hour_before_covid_df.iterrows():\n",
    "    tweet_each_hour_before_covid_percentage.append(round((row['tweet_count']/tweet_each_hour_before_covid_df['tweet_count'].sum())*100,2))\n",
    "\n",
    "#tambahkan list persentase postingan ke dataframe\n",
    "tweet_each_hour_before_covid_df['percentage (%)'] = tweet_each_hour_before_covid_percentage\n",
    "\n",
    "tweet_each_hour_before_covid_df = tweet_each_hour_before_covid_df.sort_values(by=['hour'], ascending=True)\n",
    "\n",
    "tweet_each_hour_before_covid_df.sort_values(by=['tweet_count'], ascending=False)"
   ]
  },
  {
   "cell_type": "markdown",
   "metadata": {},
   "source": [
    "b. Melihat jumlah tweets berdasarkan jam pada periode saat COVID-19"
   ]
  },
  {
   "cell_type": "code",
   "execution_count": 24,
   "metadata": {},
   "outputs": [
    {
     "data": {
      "text/html": [
       "<div>\n",
       "<style scoped>\n",
       "    .dataframe tbody tr th:only-of-type {\n",
       "        vertical-align: middle;\n",
       "    }\n",
       "\n",
       "    .dataframe tbody tr th {\n",
       "        vertical-align: top;\n",
       "    }\n",
       "\n",
       "    .dataframe thead th {\n",
       "        text-align: right;\n",
       "    }\n",
       "</style>\n",
       "<table border=\"1\" class=\"dataframe\">\n",
       "  <thead>\n",
       "    <tr style=\"text-align: right;\">\n",
       "      <th></th>\n",
       "      <th>tweet_count</th>\n",
       "      <th>percentage (%)</th>\n",
       "    </tr>\n",
       "    <tr>\n",
       "      <th>hour</th>\n",
       "      <th></th>\n",
       "      <th></th>\n",
       "    </tr>\n",
       "  </thead>\n",
       "  <tbody>\n",
       "    <tr>\n",
       "      <th>12</th>\n",
       "      <td>100967</td>\n",
       "      <td>6.24</td>\n",
       "    </tr>\n",
       "    <tr>\n",
       "      <th>13</th>\n",
       "      <td>100525</td>\n",
       "      <td>6.22</td>\n",
       "    </tr>\n",
       "    <tr>\n",
       "      <th>11</th>\n",
       "      <td>99891</td>\n",
       "      <td>6.18</td>\n",
       "    </tr>\n",
       "    <tr>\n",
       "      <th>14</th>\n",
       "      <td>98603</td>\n",
       "      <td>6.10</td>\n",
       "    </tr>\n",
       "    <tr>\n",
       "      <th>15</th>\n",
       "      <td>98354</td>\n",
       "      <td>6.08</td>\n",
       "    </tr>\n",
       "    <tr>\n",
       "      <th>10</th>\n",
       "      <td>85806</td>\n",
       "      <td>5.31</td>\n",
       "    </tr>\n",
       "    <tr>\n",
       "      <th>16</th>\n",
       "      <td>85537</td>\n",
       "      <td>5.29</td>\n",
       "    </tr>\n",
       "    <tr>\n",
       "      <th>9</th>\n",
       "      <td>78134</td>\n",
       "      <td>4.83</td>\n",
       "    </tr>\n",
       "    <tr>\n",
       "      <th>5</th>\n",
       "      <td>78087</td>\n",
       "      <td>4.83</td>\n",
       "    </tr>\n",
       "    <tr>\n",
       "      <th>6</th>\n",
       "      <td>76768</td>\n",
       "      <td>4.75</td>\n",
       "    </tr>\n",
       "    <tr>\n",
       "      <th>4</th>\n",
       "      <td>75990</td>\n",
       "      <td>4.70</td>\n",
       "    </tr>\n",
       "    <tr>\n",
       "      <th>8</th>\n",
       "      <td>73875</td>\n",
       "      <td>4.57</td>\n",
       "    </tr>\n",
       "    <tr>\n",
       "      <th>7</th>\n",
       "      <td>73572</td>\n",
       "      <td>4.55</td>\n",
       "    </tr>\n",
       "    <tr>\n",
       "      <th>3</th>\n",
       "      <td>70376</td>\n",
       "      <td>4.35</td>\n",
       "    </tr>\n",
       "    <tr>\n",
       "      <th>17</th>\n",
       "      <td>64593</td>\n",
       "      <td>3.99</td>\n",
       "    </tr>\n",
       "    <tr>\n",
       "      <th>2</th>\n",
       "      <td>64488</td>\n",
       "      <td>3.99</td>\n",
       "    </tr>\n",
       "    <tr>\n",
       "      <th>1</th>\n",
       "      <td>52491</td>\n",
       "      <td>3.25</td>\n",
       "    </tr>\n",
       "    <tr>\n",
       "      <th>18</th>\n",
       "      <td>42284</td>\n",
       "      <td>2.61</td>\n",
       "    </tr>\n",
       "    <tr>\n",
       "      <th>0</th>\n",
       "      <td>40539</td>\n",
       "      <td>2.51</td>\n",
       "    </tr>\n",
       "    <tr>\n",
       "      <th>21</th>\n",
       "      <td>36500</td>\n",
       "      <td>2.26</td>\n",
       "    </tr>\n",
       "    <tr>\n",
       "      <th>23</th>\n",
       "      <td>32785</td>\n",
       "      <td>2.03</td>\n",
       "    </tr>\n",
       "    <tr>\n",
       "      <th>22</th>\n",
       "      <td>31364</td>\n",
       "      <td>1.94</td>\n",
       "    </tr>\n",
       "    <tr>\n",
       "      <th>19</th>\n",
       "      <td>28357</td>\n",
       "      <td>1.75</td>\n",
       "    </tr>\n",
       "    <tr>\n",
       "      <th>20</th>\n",
       "      <td>27215</td>\n",
       "      <td>1.68</td>\n",
       "    </tr>\n",
       "  </tbody>\n",
       "</table>\n",
       "</div>"
      ],
      "text/plain": [
       "      tweet_count  percentage (%)\n",
       "hour                             \n",
       "12         100967            6.24\n",
       "13         100525            6.22\n",
       "11          99891            6.18\n",
       "14          98603            6.10\n",
       "15          98354            6.08\n",
       "10          85806            5.31\n",
       "16          85537            5.29\n",
       "9           78134            4.83\n",
       "5           78087            4.83\n",
       "6           76768            4.75\n",
       "4           75990            4.70\n",
       "8           73875            4.57\n",
       "7           73572            4.55\n",
       "3           70376            4.35\n",
       "17          64593            3.99\n",
       "2           64488            3.99\n",
       "1           52491            3.25\n",
       "18          42284            2.61\n",
       "0           40539            2.51\n",
       "21          36500            2.26\n",
       "23          32785            2.03\n",
       "22          31364            1.94\n",
       "19          28357            1.75\n",
       "20          27215            1.68"
      ]
     },
     "execution_count": 24,
     "metadata": {},
     "output_type": "execute_result"
    }
   ],
   "source": [
    "#memisahkan hour dari kolom nilai time\n",
    "tweet_each_hour_during_covid_filter = pd.to_datetime(tweet_data_during_covid_df['time'], format='%H:%M:%S').dt.hour\n",
    "\n",
    "#menambahkan kolom baru dengan nilai hour\n",
    "tweet_each_hour_during_covid = tweet_data_during_covid_df.copy()\n",
    "tweet_each_hour_during_covid['hour'] = tweet_each_hour_during_covid_filter\n",
    "\n",
    "#jumlahkan tweets setiap jam \n",
    "tweet_each_hour_during_covid_count = tweet_each_hour_during_covid.groupby(\"hour\")[\"hour\"].count()\n",
    "\n",
    "#masukkan data jumlah postingan setiap jam ke dataframe\n",
    "tweet_each_hour_during_covid_df = pd.DataFrame(tweet_each_hour_during_covid_count)\n",
    "tweet_each_hour_during_covid_df = tweet_each_hour_during_covid_df.rename(columns={'hour': 'tweet_count'})\n",
    "\n",
    "#buat sebuah list yang berisi persentase postingan setiap harinya\n",
    "tweet_each_hour_during_covid_percentage = []\n",
    "for i, row in tweet_each_hour_during_covid_df.iterrows():\n",
    "    tweet_each_hour_during_covid_percentage.append(round((row['tweet_count']/tweet_each_hour_during_covid_df['tweet_count'].sum())*100,2))\n",
    "\n",
    "#tambahkan list persentase postingan ke dataframe\n",
    "tweet_each_hour_during_covid_df['percentage (%)'] = tweet_each_hour_during_covid_percentage\n",
    "\n",
    "tweet_each_hour_during_covid_df = tweet_each_hour_during_covid_df.sort_values(by=['hour'], ascending=False)\n",
    "\n",
    "tweet_each_hour_during_covid_df.sort_values(by=['tweet_count'], ascending=False)"
   ]
  },
  {
   "cell_type": "markdown",
   "metadata": {},
   "source": [
    "Grafik perbandingan sebelum dan saat COVID-19 berdasarkan Jam"
   ]
  },
  {
   "cell_type": "code",
   "execution_count": 25,
   "metadata": {},
   "outputs": [
    {
     "data": {
      "image/png": "[encoded data removed]",
      "text/plain": [
       "<Figure size 1440x360 with 1 Axes>"
      ]
     },
     "metadata": {
      "needs_background": "light"
     },
     "output_type": "display_data"
    }
   ],
   "source": [
    "time_labels = tweet_each_hour_before_covid_df.index.tolist()\n",
    "each_hour_before_covid = tweet_each_hour_before_covid_df['tweet_count'].tolist()\n",
    "each_hour_during_covid = tweet_each_hour_during_covid_df['tweet_count'].tolist()\n",
    "\n",
    "x = np.arange(len(time_labels))  # the label locations\n",
    "width = 0.3  # the width of the bars\n",
    "\n",
    "fig, ax = plt.subplots(figsize=((20, 5)))\n",
    "rects1 = ax.bar(x - width/2, each_hour_before_covid, width, label='Before COVID-19')\n",
    "rects2 = ax.bar(x + width/2, each_hour_during_covid, width, label='During COVID-19')\n",
    "\n",
    "# Add some text for labels, title and custom x-axis tick labels, etc.\n",
    "ax.set_ylabel('Total Post')\n",
    "ax.set_title('Total Post - Before and During COVID-19')\n",
    "ax.set_xticks(x)\n",
    "ax.set_xticklabels(time_labels)\n",
    "ax.legend()\n",
    "\n",
    "grouped_autolabel(rects1)\n",
    "grouped_autolabel(rects2)\n",
    "\n",
    "fig.tight_layout()\n",
    "\n",
    "plt.show()"
   ]
  },
  {
   "cell_type": "markdown",
   "metadata": {},
   "source": [
    "**Melihat Data Jumlah Aktivitas Tweet**"
   ]
  },
  {
   "cell_type": "markdown",
   "metadata": {},
   "source": [
    "**1. Berdasarkan Pengguna**"
   ]
  },
  {
   "cell_type": "markdown",
   "metadata": {},
   "source": [
    "a. Melihat jumlah postingan berdasarkan pengguna pada periode sebelum COVID-19"
   ]
  },
  {
   "cell_type": "code",
   "execution_count": 26,
   "metadata": {},
   "outputs": [
    {
     "name": "stdout",
     "output_type": "stream",
     "text": [
      "Melihat pengguna yang paling sering melakukan tweet\n",
      "username\n",
      "hidayathhp        7498\n",
      "eattyl            5105\n",
      "askmearmything    4804\n",
      "mauludirfd        4131\n",
      "bentarabumi       3948\n",
      "bangwird_         3805\n",
      "rockerspantura    2789\n",
      "sonorafm92        2764\n",
      "kangsemproel      2758\n",
      "ma69num           2567\n",
      "Name: username, dtype: int64\n"
     ]
    }
   ],
   "source": [
    "#jumlahkan postingan yang berada setiap perhari \n",
    "tweet_by_user_before_covid = tweet_data_before_covid_df.groupby(\"username\")[\"username\"].count()\n",
    "\n",
    "print('Melihat pengguna yang paling sering melakukan tweet')\n",
    "print(tweet_by_user_before_covid.sort_values(ascending=False).head(10))\n",
    "#print('')\n",
    "#print('Melihat pengguna yang paling jarang melakukan tweet')\n",
    "#print(tweet_by_user_before_covid.sort_values(ascending=True).head(10))"
   ]
  },
  {
   "cell_type": "markdown",
   "metadata": {},
   "source": [
    "b. Melihat jumlah postingan berdasarkan pengguna pada periode saat COVID-19"
   ]
  },
  {
   "cell_type": "code",
   "execution_count": 27,
   "metadata": {},
   "outputs": [
    {
     "name": "stdout",
     "output_type": "stream",
     "text": [
      "Melihat pengguna yang paling sering melakukan tweet\n",
      "username\n",
      "eattyl            8578\n",
      "sindonews         6042\n",
      "hidayathhp        5940\n",
      "mrpluviophile     5261\n",
      "bagaswdykt        5103\n",
      "cagubnyinyir2     4971\n",
      "psybougenville    4557\n",
      "zae25__           4378\n",
      "initioo           4091\n",
      "evianafs          3893\n",
      "Name: username, dtype: int64\n"
     ]
    }
   ],
   "source": [
    "#jumlahkan postingan yang berada setiap perhari \n",
    "tweet_by_user_during_covid = tweet_data_during_covid_df.groupby(\"username\")[\"username\"].count()\n",
    "\n",
    "print('Melihat pengguna yang paling sering melakukan tweet')\n",
    "print(tweet_by_user_during_covid.sort_values(ascending=False).head(10))\n",
    "#print('')\n",
    "#print('Melihat pengguna yang paling jarang melakukan tweet')\n",
    "#print(tweet_by_user_during_covid.sort_values(ascending=True).head(10))"
   ]
  },
  {
   "cell_type": "markdown",
   "metadata": {},
   "source": [
    "Melihat perubahan jumlah Tweet dari pengguna tertentu"
   ]
  },
  {
   "cell_type": "code",
   "execution_count": 28,
   "metadata": {},
   "outputs": [
    {
     "name": "stdout",
     "output_type": "stream",
     "text": [
      "Username: hidayathhp\n",
      "Jumlah sebelum COVID-19: 7498\n",
      "Jumlah saat COVID-19: 5940\n"
     ]
    }
   ],
   "source": [
    "#cek perbedaan pada user tertentu\n",
    "print('Username:', 'hidayathhp')\n",
    "print('Jumlah sebelum COVID-19:', tweet_by_user_before_covid['hidayathhp'])\n",
    "print('Jumlah saat COVID-19:', tweet_by_user_during_covid['hidayathhp'])"
   ]
  },
  {
   "cell_type": "markdown",
   "metadata": {},
   "source": [
    "**Melihat aktivitas jumlah mentions dan reply_to**"
   ]
  },
  {
   "cell_type": "markdown",
   "metadata": {},
   "source": [
    "**1. Berdasarkan Pengguna**"
   ]
  },
  {
   "cell_type": "markdown",
   "metadata": {},
   "source": [
    "a. Melihat jumlah mentions dan reply_to berdasarkan pengguna pada periode sebelum COVID-19"
   ]
  },
  {
   "cell_type": "code",
   "execution_count": 29,
   "metadata": {},
   "outputs": [
    {
     "name": "stdout",
     "output_type": "stream",
     "text": [
      "Melihat keseluruhan jumlah mentions 88055\n",
      "Melihat keseluruhan jumlah reply_to: 558520\n",
      "\n",
      "Melihat pengguna yang paling sering melakukan mentions\n",
      "username\n",
      "sonorafm92        2526\n",
      "cagubnyinyir2     1359\n",
      "dinsihcakung       794\n",
      "imam_rachman_      584\n",
      "agusawe            538\n",
      "alwike1            501\n",
      "hadiprayitno82     495\n",
      "idberry            382\n",
      "chairulachir       365\n",
      "ari_aditya         280\n",
      "Name: mentions, dtype: int64\n",
      "\n",
      "Melihat pengguna yang paling sering melakukan reply_to\n",
      "username\n",
      "hidayathhp        3915\n",
      "askmearmything    2889\n",
      "eattyl            2511\n",
      "bentarabumi       2227\n",
      "bangwird_         2205\n",
      "kangsemproel      2170\n",
      "mauludirfd        1899\n",
      "aselisini         1430\n",
      "ma69num           1396\n",
      "areefabdnas       1388\n",
      "Name: reply_to, dtype: int64\n"
     ]
    }
   ],
   "source": [
    "#jumlahkan mentions keseluruhan\n",
    "all_mentions_notnull_before_covid = tweet_data_before_covid_df[tweet_data_before_covid_df['mentions'] != '[]']\n",
    "all_mentions_by_user_before_covid = all_mentions_notnull_before_covid.count()\n",
    "\n",
    "#jumlahkan reply_to keseluruhan\n",
    "all_replyto_notnull_before_covid = tweet_data_before_covid_df[tweet_data_before_covid_df['reply_to'] != '[]']\n",
    "all_replyto_by_user_before_covid = all_replyto_notnull_before_covid.count()\n",
    "\n",
    "#jumlahkan mentions per user\n",
    "mentions_notnull_before_covid = tweet_data_before_covid_df[tweet_data_before_covid_df['mentions'] != '[]']\n",
    "mentions_by_user_before_covid = mentions_notnull_before_covid.groupby(\"username\")[\"mentions\"].count()\n",
    "\n",
    "#jumlahkan reply_to per user\n",
    "replyto_notnull_before_covid = tweet_data_before_covid_df[tweet_data_before_covid_df['reply_to'] != '[]']\n",
    "replyto_by_user_before_covid = replyto_notnull_before_covid.groupby(\"username\")[\"reply_to\"].count()\n",
    "\n",
    "print('Melihat keseluruhan jumlah mentions', all_mentions_by_user_before_covid['mentions'])\n",
    "print('Melihat keseluruhan jumlah reply_to:', all_replyto_by_user_before_covid['reply_to'])\n",
    "print('')\n",
    "print('Melihat pengguna yang paling sering melakukan mentions')\n",
    "print(mentions_by_user_before_covid.sort_values(ascending=False).head(10))\n",
    "print('')\n",
    "print('Melihat pengguna yang paling sering melakukan reply_to')\n",
    "print(replyto_by_user_before_covid.sort_values(ascending=False).head(10))"
   ]
  },
  {
   "cell_type": "markdown",
   "metadata": {},
   "source": [
    "b. Melihat jumlah mentions berdasarkan pengguna pada periode saat COVID-19"
   ]
  },
  {
   "cell_type": "code",
   "execution_count": 30,
   "metadata": {},
   "outputs": [
    {
     "name": "stdout",
     "output_type": "stream",
     "text": [
      "Melihat keseluruhan jumlah mentions 86378\n",
      "Melihat keseluruhan jumlah reply_to: 690716\n",
      "\n",
      "Melihat pengguna yang paling sering melakukan mentions\n",
      "username\n",
      "cagubnyinyir2     3838\n",
      "hadiprayitno82    1525\n",
      "dyangrenggani     1291\n",
      "dinsihcakung      1172\n",
      "mamavanenbas      1089\n",
      "idberry            621\n",
      "info4marwan        565\n",
      "chairulachir       337\n",
      "imam_rachman_      333\n",
      "ari_aditya         313\n",
      "Name: mentions, dtype: int64\n",
      "\n",
      "Melihat pengguna yang paling sering melakukan reply_to\n",
      "username\n",
      "eattyl             4387\n",
      "hidayathhp         3481\n",
      "mrpluviophile      3392\n",
      "bagaswdykt         2921\n",
      "psybougenville     2550\n",
      "initioo            2489\n",
      "evianafs           2330\n",
      "zae25__            2285\n",
      "kwhdirect3phase    2275\n",
      "kobarijakarta      1999\n",
      "Name: reply_to, dtype: int64\n"
     ]
    }
   ],
   "source": [
    "#jumlahkan mentions keseluruhan\n",
    "all_mentions_notnull_during_covid = tweet_data_during_covid_df[tweet_data_during_covid_df['mentions'] != '[]']\n",
    "all_mentions_by_user_during_covid = all_mentions_notnull_during_covid.count()\n",
    "\n",
    "#jumlahkan reply_to keseluruhan\n",
    "all_replyto_notnull_during_covid = tweet_data_during_covid_df[tweet_data_during_covid_df['reply_to'] != '[]']\n",
    "all_replyto_by_user_during_covid = all_replyto_notnull_during_covid.count()\n",
    "\n",
    "#jumlahkan mentions per user\n",
    "mentions_notnull_during_covid = tweet_data_during_covid_df[tweet_data_during_covid_df['mentions'] != '[]']\n",
    "mentions_by_user_during_covid = mentions_notnull_during_covid.groupby(\"username\")[\"mentions\"].count()\n",
    "\n",
    "#jumlahkan reply_to per user\n",
    "replyto_notnull_during_covid = tweet_data_during_covid_df[tweet_data_during_covid_df['reply_to'] != '[]']\n",
    "replyto_by_user_during_covid = replyto_notnull_during_covid.groupby(\"username\")[\"reply_to\"].count()\n",
    "\n",
    "print('Melihat keseluruhan jumlah mentions', all_mentions_by_user_during_covid['mentions'])\n",
    "print('Melihat keseluruhan jumlah reply_to:', all_replyto_by_user_during_covid['reply_to'])\n",
    "print('')\n",
    "print('Melihat pengguna yang paling sering melakukan mentions')\n",
    "print(mentions_by_user_during_covid.sort_values(ascending=False).head(10))\n",
    "print('')\n",
    "print('Melihat pengguna yang paling sering melakukan reply_to')\n",
    "print(replyto_by_user_during_covid.sort_values(ascending=False).head(10))"
   ]
  },
  {
   "cell_type": "markdown",
   "metadata": {},
   "source": [
    "**2. Berdasarkan Waktu Hari**"
   ]
  },
  {
   "cell_type": "markdown",
   "metadata": {},
   "source": [
    "a. Melihat jumlah mentions dan reply_to berdasarkan hari pada periode sebelum COVID-19"
   ]
  },
  {
   "cell_type": "code",
   "execution_count": 31,
   "metadata": {},
   "outputs": [
    {
     "name": "stdout",
     "output_type": "stream",
     "text": [
      "Melihat keseluruhan jumlah mentions 88055\n",
      "Melihat keseluruhan jumlah reply_to: 558520\n",
      "\n",
      "Melihat hari yang paling sering banyak mentions\n",
      "date\n",
      "2020-02-25    1749\n",
      "2020-01-01    1659\n",
      "2020-02-27    1332\n",
      "2020-02-23    1303\n",
      "2020-02-26    1292\n",
      "2019-12-18    1292\n",
      "2020-01-29    1271\n",
      "2020-01-31    1248\n",
      "2020-01-24    1210\n",
      "2019-12-17    1210\n",
      "Name: mentions, dtype: int64\n",
      "\n",
      "Melihat hari yang paling banyak reply_to\n",
      "date\n",
      "2020-01-01    9316\n",
      "2020-02-25    9204\n",
      "2020-01-15    8422\n",
      "2020-01-29    7843\n",
      "2020-01-13    7701\n",
      "2020-02-23    7551\n",
      "2020-01-14    7527\n",
      "2020-01-16    7515\n",
      "2020-02-27    7468\n",
      "2020-02-13    7421\n",
      "Name: reply_to, dtype: int64\n"
     ]
    }
   ],
   "source": [
    "#jumlahkan mentions keseluruhan\n",
    "all_mentions_notnull_before_covid = tweet_data_before_covid_df[tweet_data_before_covid_df['mentions'] != '[]']\n",
    "all_mentions_each_day_before_covid = all_mentions_notnull_before_covid.count()\n",
    "\n",
    "#jumlahkan reply_to keseluruhan\n",
    "all_replyto_notnull_before_covid = tweet_data_before_covid_df[tweet_data_before_covid_df['reply_to'] != '[]']\n",
    "all_replyto_each_day_before_covid = all_replyto_notnull_before_covid.count()\n",
    "\n",
    "#jumlahkan mentions per user\n",
    "mentions_notnull_before_covid = tweet_data_before_covid_df[tweet_data_before_covid_df['mentions'] != '[]']\n",
    "mentions_each_day_before_covid = mentions_notnull_before_covid.groupby(\"date\")[\"mentions\"].count()\n",
    "\n",
    "#jumlahkan reply_to per user\n",
    "replyto_notnull_before_covid = tweet_data_before_covid_df[tweet_data_before_covid_df['reply_to'] != '[]']\n",
    "replyto_each_day_before_covid = replyto_notnull_before_covid.groupby(\"date\")[\"reply_to\"].count()\n",
    "\n",
    "print('Melihat keseluruhan jumlah mentions', all_mentions_each_day_before_covid['mentions'])\n",
    "print('Melihat keseluruhan jumlah reply_to:', all_replyto_each_day_before_covid['reply_to'])\n",
    "print('')\n",
    "print('Melihat hari yang paling sering banyak mentions')\n",
    "print(mentions_each_day_before_covid.sort_values(ascending=False).head(10))\n",
    "print('')\n",
    "print('Melihat hari yang paling banyak reply_to')\n",
    "print(replyto_each_day_before_covid.sort_values(ascending=False).head(10))"
   ]
  },
  {
   "cell_type": "markdown",
   "metadata": {},
   "source": [
    "b. Melihat jumlah mentions berdasarkan hari pada periode saat COVID-19"
   ]
  },
  {
   "cell_type": "code",
   "execution_count": 32,
   "metadata": {},
   "outputs": [
    {
     "name": "stdout",
     "output_type": "stream",
     "text": [
      "Melihat keseluruhan jumlah mentions 86378\n",
      "Melihat keseluruhan jumlah reply_to: 690716\n",
      "\n",
      "Melihat tanggal yang paling banyak mentions\n",
      "date\n",
      "2020-06-14    1707\n",
      "2020-03-25    1230\n",
      "2020-03-16    1169\n",
      "2020-03-28    1166\n",
      "2020-03-26    1158\n",
      "2020-03-23    1143\n",
      "2020-04-06    1097\n",
      "2020-04-08    1080\n",
      "2020-05-12    1072\n",
      "2020-03-31    1062\n",
      "Name: mentions, dtype: int64\n",
      "\n",
      "Melihat tanggal yang paling banyak reply_to\n",
      "date\n",
      "2020-03-29    9476\n",
      "2020-03-28    9464\n",
      "2020-04-12    8819\n",
      "2020-03-31    8760\n",
      "2020-04-14    8734\n",
      "2020-04-11    8697\n",
      "2020-04-19    8663\n",
      "2020-03-30    8582\n",
      "2020-04-16    8433\n",
      "2020-03-25    8353\n",
      "Name: reply_to, dtype: int64\n"
     ]
    }
   ],
   "source": [
    "#jumlahkan mentions keseluruhan\n",
    "all_mentions_notnull_during_covid = tweet_data_during_covid_df[tweet_data_during_covid_df['mentions'] != '[]']\n",
    "all_mentions_each_day_during_covid = all_mentions_notnull_during_covid.count()\n",
    "\n",
    "#jumlahkan reply_to keseluruhan\n",
    "all_replyto_notnull_during_covid = tweet_data_during_covid_df[tweet_data_during_covid_df['reply_to'] != '[]']\n",
    "all_replyto_each_day_during_covid = all_replyto_notnull_during_covid.count()\n",
    "\n",
    "#jumlahkan mentions per user\n",
    "mentions_notnull_during_covid = tweet_data_during_covid_df[tweet_data_during_covid_df['mentions'] != '[]']\n",
    "mentions_each_day_during_covid = mentions_notnull_during_covid.groupby(\"date\")[\"mentions\"].count()\n",
    "\n",
    "#jumlahkan reply_to per user\n",
    "replyto_notnull_during_covid = tweet_data_during_covid_df[tweet_data_during_covid_df['reply_to'] != '[]']\n",
    "replyto_each_day_during_covid = replyto_notnull_during_covid.groupby(\"date\")[\"reply_to\"].count()\n",
    "\n",
    "print('Melihat keseluruhan jumlah mentions', all_mentions_each_day_during_covid['mentions'])\n",
    "print('Melihat keseluruhan jumlah reply_to:', all_replyto_each_day_during_covid['reply_to'])\n",
    "print('')\n",
    "print('Melihat tanggal yang paling banyak mentions')\n",
    "print(mentions_each_day_during_covid.sort_values(ascending=False).head(10))\n",
    "print('')\n",
    "print('Melihat tanggal yang paling banyak reply_to')\n",
    "print(replyto_each_day_during_covid.sort_values(ascending=False).head(10))"
   ]
  },
  {
   "cell_type": "markdown",
   "metadata": {},
   "source": [
    "**Melihat aktivitas share foto dan video**"
   ]
  },
  {
   "cell_type": "markdown",
   "metadata": {},
   "source": [
    "**1. Berdasarkan Pengguna**"
   ]
  },
  {
   "cell_type": "markdown",
   "metadata": {},
   "source": [
    "a. Melihat jumlah share foto dan video berdasarkan pengguna pada periode sebelum COVID-19"
   ]
  },
  {
   "cell_type": "code",
   "execution_count": 33,
   "metadata": {},
   "outputs": [
    {
     "name": "stdout",
     "output_type": "stream",
     "text": [
      "Melihat keseluruhan photos: 173668\n",
      "Melihat keseluruhan videos: 201966\n",
      "\n",
      "Melihat pengguna yang paling sering melakukan photos\n",
      "username\n",
      "sonorafm92         1868\n",
      "dinsihcakung        794\n",
      "71arifin            633\n",
      "hidayathhp          606\n",
      "bentarabumi         490\n",
      "askmearmything      384\n",
      "idberry             378\n",
      "febrianrentalm1     361\n",
      "just4tien           316\n",
      "umenumen            316\n",
      "Name: photos, dtype: int64\n",
      "\n",
      "Melihat pengguna yang paling sering melakukan share video\n",
      "username\n",
      "sonorafm92         2138\n",
      "dinsihcakung        796\n",
      "hidayathhp          766\n",
      "71arifin            633\n",
      "bentarabumi         531\n",
      "idberry             522\n",
      "ronisachroni7       519\n",
      "nawannass           426\n",
      "askmearmything      392\n",
      "febrianrentalm1     363\n",
      "Name: video, dtype: int64\n"
     ]
    }
   ],
   "source": [
    "#jumlahkan share foto keseluruhan\n",
    "all_photos_notnull_before_covid = tweet_data_before_covid_df[tweet_data_before_covid_df['photos'] != '[]']\n",
    "all_photos_by_user_before_covid = all_photos_notnull_before_covid.count()\n",
    "\n",
    "#jumlahkan share video yang per user\n",
    "all_video_by_user_before_covid = tweet_data_before_covid_df['video'].sum()\n",
    "\n",
    "#jumlahkan share foto yang per user\n",
    "photos_notnull_before_covid = tweet_data_before_covid_df[tweet_data_before_covid_df['photos'] != '[]']\n",
    "photos_by_user_before_covid = photos_notnull_before_covid.groupby(\"username\")[\"photos\"].count()\n",
    "\n",
    "#jumlahkan share video yang per user\n",
    "video_by_user_before_covid = tweet_data_before_covid_df.groupby(\"username\")[\"video\"].sum()\n",
    "\n",
    "print('Melihat keseluruhan photos:', all_photos_by_user_before_covid['photos'])\n",
    "print('Melihat keseluruhan videos:', all_video_by_user_before_covid)\n",
    "print('')\n",
    "print('Melihat pengguna yang paling sering melakukan photos')\n",
    "print(photos_by_user_before_covid.sort_values(ascending=False).head(10))\n",
    "print('')\n",
    "print('Melihat pengguna yang paling sering melakukan share video')\n",
    "print(video_by_user_before_covid.sort_values(ascending=False).head(10))"
   ]
  },
  {
   "cell_type": "markdown",
   "metadata": {},
   "source": [
    "b. Melihat jumlah share foto dan video berdasarkan pengguna pada periode saat COVID-19"
   ]
  },
  {
   "cell_type": "code",
   "execution_count": 34,
   "metadata": {},
   "outputs": [
    {
     "name": "stdout",
     "output_type": "stream",
     "text": [
      "Melihat keseluruhan photos: 184415\n",
      "Melihat keseluruhan videos: 212175\n",
      "\n",
      "Melihat pengguna yang paling sering melakukan photos\n",
      "username\n",
      "dinsihcakung       1172\n",
      "71arifin            758\n",
      "idberry             673\n",
      "hms44826300         592\n",
      "nawannass           575\n",
      "kopiteberi          465\n",
      "cineverse_id        461\n",
      "madroni01730783     450\n",
      "prayougee           434\n",
      "m_natsirdmokrat     403\n",
      "Name: photos, dtype: int64\n",
      "\n",
      "Melihat pengguna yang paling sering melakukan share video\n",
      "username\n",
      "dinsihcakung     1172\n",
      "idberry           953\n",
      "71arifin          758\n",
      "hms44826300       672\n",
      "nawannass         630\n",
      "hidayathhp        498\n",
      "cagubnyinyir2     490\n",
      "kopiteberi        486\n",
      "cineverse_id      485\n",
      "prayougee         479\n",
      "Name: video, dtype: int64\n"
     ]
    }
   ],
   "source": [
    "#jumlahkan share foto keseluruhan\n",
    "all_photos_notnull_during_covid = tweet_data_during_covid_df[tweet_data_during_covid_df['photos'] != '[]']\n",
    "all_photos_by_user_during_covid = all_photos_notnull_during_covid.count()\n",
    "\n",
    "#jumlahkan share video keseluruhan\n",
    "all_video_by_user_during_covid = tweet_data_during_covid_df['video'].sum()\n",
    "\n",
    "#jumlahkan share foto per user\n",
    "photos_notnull_during_covid = tweet_data_during_covid_df[tweet_data_during_covid_df['photos'] != '[]']\n",
    "photos_by_user_during_covid = photos_notnull_during_covid.groupby(\"username\")[\"photos\"].count()\n",
    "\n",
    "#jumlahkan share foto per user\n",
    "video_by_user_during_covid = tweet_data_during_covid_df.groupby(\"username\")[\"video\"].sum()\n",
    "\n",
    "print('Melihat keseluruhan photos:', all_photos_by_user_during_covid['photos'])\n",
    "print('Melihat keseluruhan videos:', all_video_by_user_during_covid)\n",
    "print('')\n",
    "print('Melihat pengguna yang paling sering melakukan photos')\n",
    "print(photos_by_user_during_covid.sort_values(ascending=False).head(10))\n",
    "print('')\n",
    "print('Melihat pengguna yang paling sering melakukan share video')\n",
    "print(video_by_user_during_covid.sort_values(ascending=False).head(10))"
   ]
  },
  {
   "cell_type": "markdown",
   "metadata": {},
   "source": [
    "**2. Berdasarkan Hari**"
   ]
  },
  {
   "cell_type": "markdown",
   "metadata": {},
   "source": [
    "a. Melihat jumlah share foto dan video berdasarkan hari pada periode sebelum COVID-19"
   ]
  },
  {
   "cell_type": "code",
   "execution_count": 35,
   "metadata": {},
   "outputs": [
    {
     "name": "stdout",
     "output_type": "stream",
     "text": [
      "Melihat keseluruhan photos: 173668\n",
      "Melihat keseluruhan videos: 201966\n",
      "\n",
      "Melihat hari yang paling sering photos\n",
      "date\n",
      "2020-01-01    3387\n",
      "2020-02-25    2959\n",
      "2020-02-23    2492\n",
      "2020-01-15    2476\n",
      "2019-12-31    2353\n",
      "2020-01-29    2341\n",
      "2020-02-21    2333\n",
      "2020-01-19    2289\n",
      "2020-01-14    2263\n",
      "2020-01-13    2228\n",
      "Name: photos, dtype: int64\n",
      "\n",
      "Melihat hari yang paling banyak share video\n",
      "date\n",
      "2020-01-01    4497\n",
      "2020-02-25    3906\n",
      "2020-02-23    3010\n",
      "2020-01-15    2867\n",
      "2020-01-29    2697\n",
      "2019-12-31    2692\n",
      "2020-02-21    2675\n",
      "2020-01-19    2665\n",
      "2020-01-24    2632\n",
      "2020-01-14    2602\n",
      "Name: video, dtype: int64\n"
     ]
    }
   ],
   "source": [
    "#jumlahkan share foto keseluruhan\n",
    "all_photos_notnull_before_covid = tweet_data_before_covid_df[tweet_data_before_covid_df['photos'] != '[]']\n",
    "all_photos_each_day_before_covid = all_photos_notnull_before_covid.count()\n",
    "\n",
    "#jumlahkan share video yang per user\n",
    "all_video_each_day_before_covid = tweet_data_before_covid_df['video'].sum()\n",
    "\n",
    "#jumlahkan share foto yang per user\n",
    "photos_notnull_before_covid = tweet_data_before_covid_df[tweet_data_before_covid_df['photos'] != '[]']\n",
    "photos_each_day_before_covid = photos_notnull_before_covid.groupby(\"date\")[\"photos\"].count()\n",
    "\n",
    "#jumlahkan share video yang per user\n",
    "video_each_day_before_covid = tweet_data_before_covid_df.groupby(\"date\")[\"video\"].sum()\n",
    "\n",
    "print('Melihat keseluruhan photos:', all_photos_each_day_before_covid['photos'])\n",
    "print('Melihat keseluruhan videos:', all_video_each_day_before_covid)\n",
    "print('')\n",
    "print('Melihat hari yang paling sering photos')\n",
    "print(photos_each_day_before_covid.sort_values(ascending=False).head(10))\n",
    "print('')\n",
    "print('Melihat hari yang paling banyak share video')\n",
    "print(video_each_day_before_covid.sort_values(ascending=False).head(10))"
   ]
  },
  {
   "cell_type": "markdown",
   "metadata": {},
   "source": [
    "b. Melihat jumlah share foto dan video berdasarkan hari pada periode saat COVID-19"
   ]
  },
  {
   "cell_type": "code",
   "execution_count": 36,
   "metadata": {},
   "outputs": [
    {
     "name": "stdout",
     "output_type": "stream",
     "text": [
      "Melihat keseluruhan photos: 184415\n",
      "Melihat keseluruhan videos: 212175\n",
      "\n",
      "Melihat pengguna yang paling sering melakukan photos\n",
      "date\n",
      "2020-04-02    2701\n",
      "2020-03-25    2513\n",
      "2020-03-28    2471\n",
      "2020-04-03    2462\n",
      "2020-05-24    2372\n",
      "2020-03-29    2371\n",
      "2020-03-21    2324\n",
      "2020-03-22    2317\n",
      "2020-03-26    2301\n",
      "2020-04-11    2271\n",
      "Name: photos, dtype: int64\n",
      "\n",
      "Melihat pengguna yang paling sering melakukan share video\n",
      "date\n",
      "2020-04-02    3029\n",
      "2020-03-25    2867\n",
      "2020-03-28    2837\n",
      "2020-04-03    2787\n",
      "2020-03-29    2769\n",
      "2020-03-22    2699\n",
      "2020-05-24    2686\n",
      "2020-04-08    2656\n",
      "2020-03-21    2638\n",
      "2020-04-11    2629\n",
      "Name: video, dtype: int64\n"
     ]
    }
   ],
   "source": [
    "#jumlahkan share foto keseluruhan\n",
    "all_photos_notnull_during_covid = tweet_data_during_covid_df[tweet_data_during_covid_df['photos'] != '[]']\n",
    "all_photos_each_day_during_covid = all_photos_notnull_during_covid.count()\n",
    "\n",
    "#jumlahkan share video keseluruhan\n",
    "all_video_each_day_during_covid = tweet_data_during_covid_df['video'].sum()\n",
    "\n",
    "#jumlahkan share foto per user\n",
    "photos_notnull_during_covid = tweet_data_during_covid_df[tweet_data_during_covid_df['photos'] != '[]']\n",
    "photos_each_day_during_covid = photos_notnull_during_covid.groupby(\"date\")[\"photos\"].count()\n",
    "\n",
    "#jumlahkan share foto per user\n",
    "video_each_day_during_covid = tweet_data_during_covid_df.groupby(\"date\")[\"video\"].sum()\n",
    "\n",
    "print('Melihat keseluruhan photos:', all_photos_each_day_during_covid['photos'])\n",
    "print('Melihat keseluruhan videos:', all_video_each_day_during_covid)\n",
    "print('')\n",
    "print('Melihat pengguna yang paling sering melakukan photos')\n",
    "print(photos_each_day_during_covid.sort_values(ascending=False).head(10))\n",
    "print('')\n",
    "print('Melihat pengguna yang paling sering melakukan share video')\n",
    "print(video_each_day_during_covid.sort_values(ascending=False).head(10))"
   ]
  },
  {
   "cell_type": "markdown",
   "metadata": {},
   "source": [
    "**4. Melihat aktivitas replies_count, retweet_count dan likes_count**"
   ]
  },
  {
   "cell_type": "markdown",
   "metadata": {},
   "source": [
    "**1. Berdasarkan Pengguna**"
   ]
  },
  {
   "cell_type": "markdown",
   "metadata": {},
   "source": [
    "a. Melihat jumlah replies_count, retweet_count dan likes_count berdasarkan pengguna pada periode sebelum COVID-19"
   ]
  },
  {
   "cell_type": "code",
   "execution_count": 37,
   "metadata": {},
   "outputs": [
    {
     "name": "stdout",
     "output_type": "stream",
     "text": [
      "Melihat keseluruhan replies_count: 731128\n",
      "Melihat keseluruhan retweets_count: 1172275\n",
      "Melihat keseluruhan likes_count: 3030005\n",
      "\n",
      "Melihat pengguna yang paling sering mendapatkan replies_count\n",
      "username\n",
      "fahiraidris      22016\n",
      "musniumar        19940\n",
      "dr_koko28         6294\n",
      "kangsemproel      5842\n",
      "yunartowijaya     5703\n",
      "zoelfick          5367\n",
      "cagubnyinyir2     4497\n",
      "hidayathhp        3987\n",
      "bentarabumi       3815\n",
      "bangwird_         3721\n",
      "Name: replies_count, dtype: int64\n",
      "\n",
      "Melihat pengguna yang paling sering mendapatkan retweets_count\n",
      "username\n",
      "zoelfick           56759\n",
      "fahiraidris        53817\n",
      "poeticpicture      34443\n",
      "musniumar          31805\n",
      "azaayhughes        30737\n",
      "adriansyahyasin    28512\n",
      "bentarabumi        22703\n",
      "faldyrzk           22633\n",
      "mbahndi            22508\n",
      "dr_koko28          22333\n",
      "Name: retweets_count, dtype: int64\n",
      "\n",
      "Melihat pengguna yang paling sering mendapatkan likes_count\n",
      "username\n",
      "fahiraidris        234947\n",
      "musniumar          120892\n",
      "zoelfick           108394\n",
      "dr_koko28          100023\n",
      "chandraliow         63118\n",
      "ayanggwiwid         51872\n",
      "azaayhughes         39753\n",
      "bentarabumi         39519\n",
      "adriansyahyasin     38635\n",
      "umenumen            36625\n",
      "Name: likes_count, dtype: int64\n"
     ]
    }
   ],
   "source": [
    "#jumlahkan keseluruhan\n",
    "all_repliescount_by_user_before_covid = tweet_data_before_covid_df[\"replies_count\"].sum()\n",
    "all_retweetscount_by_user_before_covid = tweet_data_before_covid_df[\"retweets_count\"].sum()\n",
    "all_likescount_by_user_before_covid = tweet_data_before_covid_df[\"likes_count\"].sum()\n",
    "\n",
    "#jumlahkan per user\n",
    "repliescount_by_user_before_covid = tweet_data_before_covid_df.groupby(\"username\")[\"replies_count\"].sum()\n",
    "retweetscount_by_user_before_covid = tweet_data_before_covid_df.groupby(\"username\")[\"retweets_count\"].sum()\n",
    "likescount_by_user_before_covid = tweet_data_before_covid_df.groupby(\"username\")[\"likes_count\"].sum()\n",
    "\n",
    "print('Melihat keseluruhan replies_count:', all_repliescount_by_user_before_covid)\n",
    "print('Melihat keseluruhan retweets_count:', all_retweetscount_by_user_before_covid)\n",
    "print('Melihat keseluruhan likes_count:', all_likescount_by_user_before_covid)\n",
    "print('')\n",
    "print('Melihat pengguna yang paling sering mendapatkan replies_count')\n",
    "print(repliescount_by_user_before_covid.sort_values(ascending=False).head(10))\n",
    "print('')\n",
    "print('Melihat pengguna yang paling sering mendapatkan retweets_count')\n",
    "print(retweetscount_by_user_before_covid.sort_values(ascending=False).head(10))\n",
    "print('')\n",
    "print('Melihat pengguna yang paling sering mendapatkan likes_count')\n",
    "print(likescount_by_user_before_covid.sort_values(ascending=False).head(10))"
   ]
  },
  {
   "cell_type": "markdown",
   "metadata": {},
   "source": [
    "b. Melihat jumlah replies_count, retweet_count dan likes_count berdasarkan pengguna pada periode saat COVID-19"
   ]
  },
  {
   "cell_type": "code",
   "execution_count": 38,
   "metadata": {},
   "outputs": [
    {
     "name": "stdout",
     "output_type": "stream",
     "text": [
      "Melihat keseluruhan replies_count: 926158\n",
      "Melihat keseluruhan retweets_count: 1211840\n",
      "Melihat keseluruhan likes_count: 3748364\n",
      "\n",
      "Melihat pengguna yang paling sering mendapatkan replies_count\n",
      "username\n",
      "musniumar         52125\n",
      "rianekkyp         26931\n",
      "yunartowijaya     26919\n",
      "tirta_hudhi       26769\n",
      "fahiraidris       12037\n",
      "cagubnyinyir2     11766\n",
      "eattyl             8169\n",
      "arbainrambey       6252\n",
      "rockerspantura     4771\n",
      "mbahndi            4315\n",
      "Name: replies_count, dtype: int64\n",
      "\n",
      "Melihat pengguna yang paling sering mendapatkan retweets_count\n",
      "username\n",
      "tirta_hudhi      146304\n",
      "musniumar         77626\n",
      "yunartowijaya     58816\n",
      "rianekkyp         46761\n",
      "fahiraidris       37983\n",
      "savorezzz         34704\n",
      "unilubis          28353\n",
      "mbahndi           20615\n",
      "motulz            19067\n",
      "alinaluth         17571\n",
      "Name: retweets_count, dtype: int64\n",
      "\n",
      "Melihat pengguna yang paling sering mendapatkan likes_count\n",
      "username\n",
      "tirta_hudhi      529172\n",
      "musniumar        301816\n",
      "yunartowijaya    199301\n",
      "fahiraidris      186635\n",
      "rianekkyp        184025\n",
      "unilubis          43535\n",
      "mbahndi           41079\n",
      "biyan_sabil1      35902\n",
      "albert_na         35277\n",
      "savorezzz         35105\n",
      "Name: likes_count, dtype: int64\n"
     ]
    }
   ],
   "source": [
    "#jumlahkan keseluruhan\n",
    "all_repliescount_by_user_during_covid = tweet_data_during_covid_df[\"replies_count\"].sum()\n",
    "all_retweetscount_by_user_during_covid = tweet_data_during_covid_df[\"retweets_count\"].sum()\n",
    "all_likescount_by_user_during_covid = tweet_data_during_covid_df[\"likes_count\"].sum()\n",
    "\n",
    "#jumlahkan per user\n",
    "repliescount_by_user_during_covid = tweet_data_during_covid_df.groupby(\"username\")[\"replies_count\"].sum()\n",
    "retweetscount_by_user_during_covid = tweet_data_during_covid_df.groupby(\"username\")[\"retweets_count\"].sum()\n",
    "likescount_by_user_during_covid = tweet_data_during_covid_df.groupby(\"username\")[\"likes_count\"].sum()\n",
    "\n",
    "print('Melihat keseluruhan replies_count:', all_repliescount_by_user_during_covid)\n",
    "print('Melihat keseluruhan retweets_count:', all_retweetscount_by_user_during_covid)\n",
    "print('Melihat keseluruhan likes_count:', all_likescount_by_user_during_covid)\n",
    "print('')\n",
    "print('Melihat pengguna yang paling sering mendapatkan replies_count')\n",
    "print(repliescount_by_user_during_covid.sort_values(ascending=False).head(10))\n",
    "print('')\n",
    "print('Melihat pengguna yang paling sering mendapatkan retweets_count')\n",
    "print(retweetscount_by_user_during_covid.sort_values(ascending=False).head(10))\n",
    "print('')\n",
    "print('Melihat pengguna yang paling sering mendapatkan likes_count')\n",
    "print(likescount_by_user_during_covid.sort_values(ascending=False).head(10))"
   ]
  },
  {
   "cell_type": "markdown",
   "metadata": {},
   "source": [
    "**2. Berdasarkan Hari**"
   ]
  },
  {
   "cell_type": "markdown",
   "metadata": {},
   "source": [
    "a. Melihat jumlah replies_count, retweet_count dan likes_count berdasarkan hari pada periode sebelum COVID-19"
   ]
  },
  {
   "cell_type": "code",
   "execution_count": 39,
   "metadata": {},
   "outputs": [
    {
     "name": "stdout",
     "output_type": "stream",
     "text": [
      "Melihat keseluruhan replies_count: 731128\n",
      "Melihat keseluruhan retweets_count: 1172275\n",
      "Melihat keseluruhan likes_count: 3030005\n",
      "\n",
      "Melihat hari yang paling banyak replies_count\n",
      "date\n",
      "2020-02-25    17318\n",
      "2020-03-12    16812\n",
      "2020-01-01    13738\n",
      "2020-01-14    13449\n",
      "2020-01-15    11837\n",
      "2020-01-29    11230\n",
      "2020-02-12    10790\n",
      "2020-02-29    10642\n",
      "2020-02-27    10532\n",
      "2020-01-07    10492\n",
      "Name: replies_count, dtype: int64\n",
      "\n",
      "Melihat hari yang paling banyak retweets_count\n",
      "date\n",
      "2020-01-01    56887\n",
      "2020-01-07    54486\n",
      "2019-12-21    39046\n",
      "2020-01-09    38677\n",
      "2019-12-29    35453\n",
      "2019-12-23    34719\n",
      "2019-12-30    32927\n",
      "2020-01-03    31927\n",
      "2020-02-21    23046\n",
      "2020-01-14    22658\n",
      "Name: retweets_count, dtype: int64\n",
      "\n",
      "Melihat hari yang paling banyak  likes_count\n",
      "date\n",
      "2020-01-07    98741\n",
      "2020-01-09    94437\n",
      "2020-01-01    73404\n",
      "2020-02-28    65236\n",
      "2020-01-14    64105\n",
      "2020-02-21    63624\n",
      "2019-12-30    60432\n",
      "2020-02-25    59568\n",
      "2020-01-17    56407\n",
      "2020-01-22    56325\n",
      "Name: likes_count, dtype: int64\n"
     ]
    }
   ],
   "source": [
    "#jumlahkan keseluruhan\n",
    "all_repliescount_each_day_before_covid = tweet_data_before_covid_df[\"replies_count\"].sum()\n",
    "all_retweetscount_each_day_before_covid = tweet_data_before_covid_df[\"retweets_count\"].sum()\n",
    "all_likescount_each_day_before_covid = tweet_data_before_covid_df[\"likes_count\"].sum()\n",
    "\n",
    "#jumlahkan per user\n",
    "repliescount_each_day_before_covid = tweet_data_before_covid_df.groupby(\"date\")[\"replies_count\"].sum()\n",
    "retweetscount_each_day_before_covid = tweet_data_before_covid_df.groupby(\"date\")[\"retweets_count\"].sum()\n",
    "likescount_each_day_before_covid = tweet_data_before_covid_df.groupby(\"date\")[\"likes_count\"].sum()\n",
    "\n",
    "print('Melihat keseluruhan replies_count:', all_repliescount_each_day_before_covid)\n",
    "print('Melihat keseluruhan retweets_count:', all_retweetscount_each_day_before_covid)\n",
    "print('Melihat keseluruhan likes_count:', all_likescount_each_day_before_covid)\n",
    "print('')\n",
    "print('Melihat hari yang paling banyak replies_count')\n",
    "print(repliescount_each_day_before_covid.sort_values(ascending=False).head(10))\n",
    "print('')\n",
    "print('Melihat hari yang paling banyak retweets_count')\n",
    "print(retweetscount_each_day_before_covid.sort_values(ascending=False).head(10))\n",
    "print('')\n",
    "print('Melihat hari yang paling banyak  likes_count')\n",
    "print(likescount_each_day_before_covid.sort_values(ascending=False).head(10))"
   ]
  },
  {
   "cell_type": "markdown",
   "metadata": {},
   "source": [
    "b. Melihat jumlah replies_count, retweet_count dan likes_count berdasarkan hari pada periode saat COVID-19"
   ]
  },
  {
   "cell_type": "code",
   "execution_count": 40,
   "metadata": {},
   "outputs": [
    {
     "name": "stdout",
     "output_type": "stream",
     "text": [
      "Melihat keseluruhan replies_count: 926158\n",
      "Melihat keseluruhan retweets_count: 1211840\n",
      "Melihat keseluruhan likes_count: 3748364\n",
      "\n",
      "Melihat hari yang paling banyak replies_count\n",
      "date\n",
      "2020-04-01    30322\n",
      "2020-03-28    25176\n",
      "2020-03-31    18716\n",
      "2020-03-29    17253\n",
      "2020-03-25    15459\n",
      "2020-03-27    14095\n",
      "2020-05-14    13312\n",
      "2020-03-26    12717\n",
      "2020-04-02    12506\n",
      "2020-04-05    12385\n",
      "Name: replies_count, dtype: int64\n",
      "\n",
      "Melihat hari yang paling banyak retweets_count\n",
      "username\n",
      "tirta_hudhi      146304\n",
      "musniumar         77626\n",
      "yunartowijaya     58816\n",
      "rianekkyp         46761\n",
      "fahiraidris       37983\n",
      "savorezzz         34704\n",
      "unilubis          28353\n",
      "mbahndi           20615\n",
      "motulz            19067\n",
      "alinaluth         17571\n",
      "Name: retweets_count, dtype: int64\n",
      "\n",
      "Melihat hari yang paling banyak likes_count\n",
      "date\n",
      "2020-03-25    239176\n",
      "2020-03-27    186133\n",
      "2020-03-28    177841\n",
      "2020-04-01    160431\n",
      "2020-05-09     86983\n",
      "2020-03-31     85664\n",
      "2020-03-26     80887\n",
      "2020-04-02     73891\n",
      "2020-03-22     73158\n",
      "2020-03-29     70741\n",
      "Name: likes_count, dtype: int64\n"
     ]
    }
   ],
   "source": [
    "#jumlahkan keseluruhan\n",
    "all_repliescount_each_day_during_covid = tweet_data_during_covid_df[\"replies_count\"].sum()\n",
    "all_retweetscount_each_day_during_covid = tweet_data_during_covid_df[\"retweets_count\"].sum()\n",
    "all_likescount_each_day_during_covid = tweet_data_during_covid_df[\"likes_count\"].sum()\n",
    "\n",
    "#jumlahkan per user\n",
    "repliescount_each_day_during_covid = tweet_data_during_covid_df.groupby(\"date\")[\"replies_count\"].sum()\n",
    "retweetscount_each_day_during_covid = tweet_data_during_covid_df.groupby(\"date\")[\"retweets_count\"].sum()\n",
    "likescount_each_day_during_covid = tweet_data_during_covid_df.groupby(\"date\")[\"likes_count\"].sum()\n",
    "\n",
    "print('Melihat keseluruhan replies_count:', all_repliescount_each_day_during_covid)\n",
    "print('Melihat keseluruhan retweets_count:', all_retweetscount_each_day_during_covid)\n",
    "print('Melihat keseluruhan likes_count:', all_likescount_each_day_during_covid)\n",
    "print('')\n",
    "print('Melihat hari yang paling banyak replies_count')\n",
    "print(repliescount_each_day_during_covid.sort_values(ascending=False).head(10))\n",
    "print('')\n",
    "print('Melihat hari yang paling banyak retweets_count')\n",
    "print(retweetscount_by_user_during_covid.sort_values(ascending=False).head(10))\n",
    "print('')\n",
    "print('Melihat hari yang paling banyak likes_count')\n",
    "print(likescount_each_day_during_covid.sort_values(ascending=False).head(10))"
   ]
  },
  {
   "cell_type": "markdown",
   "metadata": {},
   "source": [
    "**Melihat Grafik Perbandingan Tweet**"
   ]
  },
  {
   "cell_type": "markdown",
   "metadata": {},
   "source": [
    "a. Melihat grafik perbedaan jumlah mentions, reply_to, photos, video, replies_count, retweet_count, dan likes_count secara keseluruhan"
   ]
  },
  {
   "cell_type": "code",
   "execution_count": 41,
   "metadata": {},
   "outputs": [
    {
     "data": {
      "image/png": "[encoded data removed]",
      "text/plain": [
       "<Figure size 1080x360 with 1 Axes>"
      ]
     },
     "metadata": {
      "needs_background": "light"
     },
     "output_type": "display_data"
    }
   ],
   "source": [
    "all_compare_time_labels = ['mentions', 'reply_to', 'photos', 'video', 'replies_count', 'retweet_count', 'likes_count']\n",
    "all_user_tracing_before_covid = [all_mentions_by_user_before_covid['mentions'], all_replyto_by_user_before_covid['reply_to'], all_photos_by_user_before_covid['photos'], all_video_by_user_before_covid, all_repliescount_by_user_before_covid, all_retweetscount_by_user_before_covid, all_likescount_by_user_before_covid]\n",
    "all_user_tracing_during_covid = [all_mentions_by_user_during_covid['mentions'], all_replyto_by_user_during_covid['reply_to'], all_photos_by_user_during_covid['photos'], all_video_by_user_during_covid,all_repliescount_by_user_during_covid, all_retweetscount_by_user_during_covid, all_likescount_by_user_during_covid]\n",
    "\n",
    "x = np.arange(len(all_compare_time_labels))  # the label locations\n",
    "width = 0.3  # the width of the bars\n",
    "\n",
    "fig, ax = plt.subplots(figsize=((15, 5)))\n",
    "rects1 = ax.bar(x - width/2, all_user_tracing_before_covid, width, label='Before COVID-19')\n",
    "rects2 = ax.bar(x + width/2, all_user_tracing_during_covid, width, label='During COVID-19')\n",
    "\n",
    "# Add some text for labels, title and custom x-axis tick labels, etc.\n",
    "ax.set_ylabel('Total')\n",
    "ax.set_title('Total - Before and During COVID-19')\n",
    "ax.set_xticks(x)\n",
    "ax.set_xticklabels(all_compare_time_labels)\n",
    "ax.legend()\n",
    "\n",
    "grouped_autolabel(rects1)\n",
    "grouped_autolabel(rects2)\n",
    "\n",
    "fig.tight_layout()\n",
    "\n",
    "plt.show()"
   ]
  },
  {
   "cell_type": "markdown",
   "metadata": {},
   "source": [
    "Mendefenisikan perbedaan jumlah mentions, reply_to, photos, video, replies_count, retweet_count, dan likes_count dari setiap user sebelum COVID-19"
   ]
  },
  {
   "cell_type": "code",
   "execution_count": 42,
   "metadata": {},
   "outputs": [],
   "source": [
    "username = 'hidayathhp'\n",
    "\n",
    "#jumlahkan mentions keseluruhan\n",
    "user_mentions_notnull_before_covid = tweet_data_before_covid_df[(tweet_data_before_covid_df['mentions'] != '[]') & (tweet_data_before_covid_df['username'] == username)]\n",
    "user_mentions_by_user_before_covid = user_mentions_notnull_before_covid['mentions'].count()\n",
    "\n",
    "#jumlahkan reply_to keseluruhan\n",
    "user_replyto_notnull_before_covid = tweet_data_before_covid_df[(tweet_data_before_covid_df['reply_to'] != '[]') & (tweet_data_before_covid_df['username'] == username)]\n",
    "user_replyto_by_user_before_covid = user_replyto_notnull_before_covid['reply_to'].count()\n",
    "\n",
    "#jumlahkan share foto per user\n",
    "user_photos_notnull_before_covid = tweet_data_before_covid_df[(tweet_data_before_covid_df['photos'] != '[]') & (tweet_data_before_covid_df['username'] == username)]\n",
    "user_photos_by_user_before_covid = user_photos_notnull_before_covid['photos'].count()\n",
    "\n",
    "user_video_notnull_before_covid = tweet_data_before_covid_df[(tweet_data_before_covid_df['username'] == username)]\n",
    "\n",
    "#jumlahkan share video per user\n",
    "user_video_by_user_before_covid = user_video_notnull_before_covid['video'].sum()\n",
    "\n",
    "#jumlahkan replies_count keseluruhan\n",
    "user_repliescount_by_user_before_covid = user_video_notnull_before_covid[\"replies_count\"].sum()\n",
    "\n",
    "#jumlahkan retweets_count keseluruhan\n",
    "user_retweetscount_by_user_before_covid = user_video_notnull_before_covid[\"retweets_count\"].sum()\n",
    "\n",
    "#jumlahkan likes_count keseluruhan\n",
    "all_likescount_by_user_before_covid = user_video_notnull_before_covid[\"likes_count\"].sum()"
   ]
  },
  {
   "cell_type": "markdown",
   "metadata": {},
   "source": [
    "Mendefenisikan perbedaan jumlah mentions, reply_to, photos, video, replies_count, retweet_count, dan likes_count dari setiap user saat COVID-19"
   ]
  },
  {
   "cell_type": "code",
   "execution_count": 43,
   "metadata": {},
   "outputs": [],
   "source": [
    "username = 'hidayathhp'\n",
    "\n",
    "#jumlahkan mentions keseluruhan\n",
    "user_mentions_notnull_during_covid = tweet_data_during_covid_df[(tweet_data_during_covid_df['mentions'] != '[]') & (tweet_data_during_covid_df['username'] == username)]\n",
    "user_mentions_by_user_during_covid = user_mentions_notnull_during_covid['mentions'].count()\n",
    "\n",
    "#jumlahkan reply_to keseluruhan\n",
    "user_replyto_notnull_during_covid = tweet_data_during_covid_df[(tweet_data_during_covid_df['reply_to'] != '[]') & (tweet_data_during_covid_df['username'] == username)]\n",
    "user_replyto_by_user_during_covid = user_replyto_notnull_during_covid['reply_to'].count()\n",
    "\n",
    "#jumlahkan share foto per user\n",
    "user_photos_notnull_during_covid = tweet_data_during_covid_df[(tweet_data_during_covid_df['photos'] != '[]') & (tweet_data_during_covid_df['username'] == username)]\n",
    "user_photos_by_user_during_covid = user_photos_notnull_during_covid['photos'].count()\n",
    "\n",
    "user_video_notnull_during_covid = tweet_data_during_covid_df[(tweet_data_during_covid_df['username'] == username)]\n",
    "\n",
    "#jumlahkan share video per user\n",
    "user_video_by_user_during_covid = user_video_notnull_during_covid['video'].sum()\n",
    "\n",
    "#jumlahkan replies_count keseluruhan\n",
    "user_repliescount_by_user_during_covid = user_video_notnull_during_covid[\"replies_count\"].sum()\n",
    "\n",
    "#jumlahkan retweets_count keseluruhan\n",
    "user_retweetscount_by_user_during_covid = user_video_notnull_during_covid[\"retweets_count\"].sum()\n",
    "\n",
    "#jumlahkan likes_count keseluruhan\n",
    "all_likescount_by_user_during_covid = user_video_notnull_during_covid[\"likes_count\"].sum()"
   ]
  },
  {
   "cell_type": "markdown",
   "metadata": {},
   "source": [
    "b. Melihat grafik perbedaan jumlah mentions, reply_to, photos, video, replies_count, retweet_count, dan likes_count dari suatu user tertentu"
   ]
  },
  {
   "cell_type": "code",
   "execution_count": 44,
   "metadata": {},
   "outputs": [
    {
     "data": {
      "image/png": "[encoded data removed]",
      "text/plain": [
       "<Figure size 1080x360 with 1 Axes>"
      ]
     },
     "metadata": {
      "needs_background": "light"
     },
     "output_type": "display_data"
    }
   ],
   "source": [
    "user_compare_user_time_labels = ['mentions', 'reply_to', 'photos', 'video', 'replies_count', 'retweet_count', 'likes_count']\n",
    "user_tracing_before_covid = [user_mentions_by_user_before_covid, user_replyto_by_user_before_covid, user_photos_by_user_before_covid, user_video_by_user_before_covid, user_repliescount_by_user_before_covid, user_retweetscount_by_user_before_covid, all_likescount_by_user_before_covid]\n",
    "user_tracing_during_covid = [user_mentions_by_user_during_covid, user_replyto_by_user_during_covid, user_photos_by_user_during_covid, user_video_by_user_during_covid, user_repliescount_by_user_during_covid, user_retweetscount_by_user_during_covid, all_likescount_by_user_during_covid]\n",
    "\n",
    "x = np.arange(len(user_compare_user_time_labels))  # the label locations\n",
    "width = 0.3  # the width of the bars\n",
    "\n",
    "fig, ax = plt.subplots(figsize=((15, 5)))\n",
    "rects1 = ax.bar(x - width/2, user_tracing_before_covid, width, label='Before COVID-19')\n",
    "rects2 = ax.bar(x + width/2, user_tracing_during_covid, width, label='During COVID-19')\n",
    "\n",
    "# Add some text for labels, title and custom x-axis tick labels, etc.\n",
    "ax.set_ylabel('Total')\n",
    "ax.set_title(f'Total - Before and During COVID-19 (Username: {username})')\n",
    "ax.set_xticks(x)\n",
    "ax.set_xticklabels(user_compare_user_time_labels)\n",
    "ax.legend()\n",
    "\n",
    "grouped_autolabel(rects1)\n",
    "grouped_autolabel(rects2)\n",
    "\n",
    "fig.tight_layout()\n",
    "\n",
    "plt.show()"
   ]
  },
  {
   "cell_type": "markdown",
   "metadata": {},
   "source": [
    "**Melihat Karakteristik Tweet**"
   ]
  },
  {
   "cell_type": "markdown",
   "metadata": {},
   "source": [
    "**1. Berdasarkan Lokasi Postingan**"
   ]
  },
  {
   "cell_type": "markdown",
   "metadata": {},
   "source": [
    "a. Melihat jumlah postingan yang menyertakan titik lokasi"
   ]
  },
  {
   "cell_type": "code",
   "execution_count": 45,
   "metadata": {},
   "outputs": [
    {
     "name": "stdout",
     "output_type": "stream",
     "text": [
      "Data sebelum COVID-19\n",
      "Jumlah Seluruh Data: 102709\n",
      "Jumlah Postingan dengan Titik Lokasi: 102709\n",
      "\n",
      "Data saat COVID-19\n",
      "Jumlah Seluruh Data: 100774\n",
      "Jumlah Postingan dengan Titik Lokasi: 100774\n"
     ]
    }
   ],
   "source": [
    "print('Data sebelum COVID-19')\n",
    "print('Jumlah Seluruh Data:', tweet_data_before_covid_df['place'].count())\n",
    "print('Jumlah Postingan dengan Titik Lokasi:', tweet_data_before_covid_df['place'].notnull().sum())\n",
    "print('')\n",
    "print('Data saat COVID-19')\n",
    "print('Jumlah Seluruh Data:', tweet_data_during_covid_df['place'].count())\n",
    "print('Jumlah Postingan dengan Titik Lokasi:', tweet_data_during_covid_df['place'].notnull().sum())"
   ]
  },
  {
   "cell_type": "markdown",
   "metadata": {},
   "source": [
    "**Berdasarkan Bahasa**"
   ]
  },
  {
   "cell_type": "markdown",
   "metadata": {},
   "source": [
    "2.Melihat variasi bahasa yang digunakan saat melakukan tweet"
   ]
  },
  {
   "cell_type": "code",
   "execution_count": 46,
   "metadata": {},
   "outputs": [
    {
     "name": "stdout",
     "output_type": "stream",
     "text": [
      "Data sebelum COVID-19: ['in' 'ja' 'en' 'tl' 'et' 'und' 'tr' 'ht' 'de' 'es' 'eu' 'cy' 'hi' 'fr'\n",
      " 'pt' 'no' 'lt' 'ca' 'sv' 'lv' 'pl' 'hu' 'ar' 'nl' 'ro' 'cs' 'it' 'da'\n",
      " 'is' 'fi' 'ko' 'zh' 'sl' 'th' 'vi' 'ru' 'el' 'uk' 'si' 'iw' 'ta' 'mr'\n",
      " 'ne' 'fa' 'bg' 'ur' 'kn']\n",
      "Data saat COVID-19: ['in' 'en' 'und' 'ar' 'tl' 'tr' 'de' 'es' 'ht' 'ja' 'eu' 'hi' 'et' 'pt'\n",
      " 'fi' 'no' 'sl' 'nl' 'fr' 'it' 'vi' 'cy' 'sv' 'pl' 'hu' 'da' 'lv' 'lt'\n",
      " 'ro' 'ko' 'th' 'cs' 'ca' 'is' 'zh' 'ru' 'ne' 'el' 'fa' 'ml' 'ug' 'bn'\n",
      " 'sd' 'ta' 'pa' 'my' 'uk' 'iw' 'ur']\n"
     ]
    }
   ],
   "source": [
    "print('Data sebelum COVID-19:', tweet_data_before_covid_df['language'].unique())\n",
    "print('Data saat COVID-19:', tweet_data_during_covid_df['language'].unique())"
   ]
  },
  {
   "cell_type": "code",
   "execution_count": 47,
   "metadata": {},
   "outputs": [
    {
     "name": "stdout",
     "output_type": "stream",
     "text": [
      "Data sebelum COVID-19: 47 bahasa\n",
      "Data saat COVID-19: 49 bahasa\n"
     ]
    }
   ],
   "source": [
    "print('Data sebelum COVID-19:', tweet_data_before_covid_df['language'].nunique(), 'bahasa')\n",
    "print('Data saat COVID-19:', tweet_data_during_covid_df['language'].nunique(), 'bahasa')"
   ]
  },
  {
   "cell_type": "markdown",
   "metadata": {},
   "source": [
    "Melihat jenis 10 bahasa yang paling banyak digunakan sebelum COVID-19"
   ]
  },
  {
   "cell_type": "code",
   "execution_count": 48,
   "metadata": {},
   "outputs": [
    {
     "data": {
      "text/html": [
       "<div>\n",
       "<style scoped>\n",
       "    .dataframe tbody tr th:only-of-type {\n",
       "        vertical-align: middle;\n",
       "    }\n",
       "\n",
       "    .dataframe tbody tr th {\n",
       "        vertical-align: top;\n",
       "    }\n",
       "\n",
       "    .dataframe thead th {\n",
       "        text-align: right;\n",
       "    }\n",
       "</style>\n",
       "<table border=\"1\" class=\"dataframe\">\n",
       "  <thead>\n",
       "    <tr style=\"text-align: right;\">\n",
       "      <th></th>\n",
       "      <th>tweet_count</th>\n",
       "      <th>percentage (%)</th>\n",
       "    </tr>\n",
       "    <tr>\n",
       "      <th>language</th>\n",
       "      <th></th>\n",
       "      <th></th>\n",
       "    </tr>\n",
       "  </thead>\n",
       "  <tbody>\n",
       "    <tr>\n",
       "      <th>in</th>\n",
       "      <td>1059729</td>\n",
       "      <td>75.05</td>\n",
       "    </tr>\n",
       "    <tr>\n",
       "      <th>en</th>\n",
       "      <td>149505</td>\n",
       "      <td>10.59</td>\n",
       "    </tr>\n",
       "    <tr>\n",
       "      <th>und</th>\n",
       "      <td>104748</td>\n",
       "      <td>7.42</td>\n",
       "    </tr>\n",
       "    <tr>\n",
       "      <th>tl</th>\n",
       "      <td>32000</td>\n",
       "      <td>2.27</td>\n",
       "    </tr>\n",
       "    <tr>\n",
       "      <th>es</th>\n",
       "      <td>8035</td>\n",
       "      <td>0.57</td>\n",
       "    </tr>\n",
       "    <tr>\n",
       "      <th>tr</th>\n",
       "      <td>6291</td>\n",
       "      <td>0.45</td>\n",
       "    </tr>\n",
       "    <tr>\n",
       "      <th>ja</th>\n",
       "      <td>5823</td>\n",
       "      <td>0.41</td>\n",
       "    </tr>\n",
       "    <tr>\n",
       "      <th>et</th>\n",
       "      <td>5174</td>\n",
       "      <td>0.37</td>\n",
       "    </tr>\n",
       "    <tr>\n",
       "      <th>ht</th>\n",
       "      <td>4004</td>\n",
       "      <td>0.28</td>\n",
       "    </tr>\n",
       "    <tr>\n",
       "      <th>nl</th>\n",
       "      <td>3100</td>\n",
       "      <td>0.22</td>\n",
       "    </tr>\n",
       "  </tbody>\n",
       "</table>\n",
       "</div>"
      ],
      "text/plain": [
       "          tweet_count  percentage (%)\n",
       "language                             \n",
       "in            1059729           75.05\n",
       "en             149505           10.59\n",
       "und            104748            7.42\n",
       "tl              32000            2.27\n",
       "es               8035            0.57\n",
       "tr               6291            0.45\n",
       "ja               5823            0.41\n",
       "et               5174            0.37\n",
       "ht               4004            0.28\n",
       "nl               3100            0.22"
      ]
     },
     "execution_count": 48,
     "metadata": {},
     "output_type": "execute_result"
    }
   ],
   "source": [
    "#jumlahkan postingan yang berada setiap perbahasa \n",
    "language_before_covid_df = tweet_data_before_covid_df.groupby(\"language\")[\"conversation_id\"].count()\n",
    "\n",
    "#masukkan data jumlah postingan ke dataframe\n",
    "language_before_covid_df = pd.DataFrame(language_before_covid_df)\n",
    "language_before_covid_df = language_before_covid_df.rename(columns={'conversation_id': 'tweet_count'})\n",
    "\n",
    "#buat sebuah list yang berisi persentase postingan setiap harinya\n",
    "language_before_covid_percentage = []\n",
    "for i, row in language_before_covid_df.iterrows():\n",
    "    language_before_covid_percentage.append(round((row['tweet_count']/language_before_covid_df['tweet_count'].sum())*100,2))\n",
    "\n",
    "#tambahkan list persentase postingan ke dataframe\n",
    "language_before_covid_df['percentage (%)'] = language_before_covid_percentage\n",
    "\n",
    "language_before_covid_df.sort_values(by=['tweet_count'], ascending=False).head(10)"
   ]
  },
  {
   "cell_type": "markdown",
   "metadata": {},
   "source": [
    "Melihat jenis 10 bahasa yang paling banyak digunakan saat COVID-19"
   ]
  },
  {
   "cell_type": "code",
   "execution_count": 49,
   "metadata": {},
   "outputs": [
    {
     "data": {
      "text/html": [
       "<div>\n",
       "<style scoped>\n",
       "    .dataframe tbody tr th:only-of-type {\n",
       "        vertical-align: middle;\n",
       "    }\n",
       "\n",
       "    .dataframe tbody tr th {\n",
       "        vertical-align: top;\n",
       "    }\n",
       "\n",
       "    .dataframe thead th {\n",
       "        text-align: right;\n",
       "    }\n",
       "</style>\n",
       "<table border=\"1\" class=\"dataframe\">\n",
       "  <thead>\n",
       "    <tr style=\"text-align: right;\">\n",
       "      <th></th>\n",
       "      <th>tweet_count</th>\n",
       "      <th>percentage (%)</th>\n",
       "    </tr>\n",
       "    <tr>\n",
       "      <th>language</th>\n",
       "      <th></th>\n",
       "      <th></th>\n",
       "    </tr>\n",
       "  </thead>\n",
       "  <tbody>\n",
       "    <tr>\n",
       "      <th>in</th>\n",
       "      <td>1250769</td>\n",
       "      <td>77.35</td>\n",
       "    </tr>\n",
       "    <tr>\n",
       "      <th>en</th>\n",
       "      <td>141478</td>\n",
       "      <td>8.75</td>\n",
       "    </tr>\n",
       "    <tr>\n",
       "      <th>und</th>\n",
       "      <td>117249</td>\n",
       "      <td>7.25</td>\n",
       "    </tr>\n",
       "    <tr>\n",
       "      <th>tl</th>\n",
       "      <td>34209</td>\n",
       "      <td>2.12</td>\n",
       "    </tr>\n",
       "    <tr>\n",
       "      <th>es</th>\n",
       "      <td>9214</td>\n",
       "      <td>0.57</td>\n",
       "    </tr>\n",
       "    <tr>\n",
       "      <th>tr</th>\n",
       "      <td>7176</td>\n",
       "      <td>0.44</td>\n",
       "    </tr>\n",
       "    <tr>\n",
       "      <th>et</th>\n",
       "      <td>6102</td>\n",
       "      <td>0.38</td>\n",
       "    </tr>\n",
       "    <tr>\n",
       "      <th>ja</th>\n",
       "      <td>5848</td>\n",
       "      <td>0.36</td>\n",
       "    </tr>\n",
       "    <tr>\n",
       "      <th>ht</th>\n",
       "      <td>4338</td>\n",
       "      <td>0.27</td>\n",
       "    </tr>\n",
       "    <tr>\n",
       "      <th>nl</th>\n",
       "      <td>3248</td>\n",
       "      <td>0.20</td>\n",
       "    </tr>\n",
       "  </tbody>\n",
       "</table>\n",
       "</div>"
      ],
      "text/plain": [
       "          tweet_count  percentage (%)\n",
       "language                             \n",
       "in            1250769           77.35\n",
       "en             141478            8.75\n",
       "und            117249            7.25\n",
       "tl              34209            2.12\n",
       "es               9214            0.57\n",
       "tr               7176            0.44\n",
       "et               6102            0.38\n",
       "ja               5848            0.36\n",
       "ht               4338            0.27\n",
       "nl               3248            0.20"
      ]
     },
     "execution_count": 49,
     "metadata": {},
     "output_type": "execute_result"
    }
   ],
   "source": [
    "#jumlahkan postingan yang berada setiap perbahasa \n",
    "language_during_covid_df = tweet_data_during_covid_df.groupby(\"language\")[\"conversation_id\"].count()\n",
    "\n",
    "#masukkan data jumlah postingan ke dataframe\n",
    "language_during_covid_df = pd.DataFrame(language_during_covid_df)\n",
    "language_during_covid_df = language_during_covid_df.rename(columns={'conversation_id': 'tweet_count'})\n",
    "\n",
    "#buat sebuah list yang berisi persentase postingan setiap harinya\n",
    "language_during_covid_percentage = []\n",
    "for i, row in language_during_covid_df.iterrows():\n",
    "    language_during_covid_percentage.append(round((row['tweet_count']/language_during_covid_df['tweet_count'].sum())*100,2))\n",
    "\n",
    "#tambahkan list persentase postingan ke dataframe\n",
    "language_during_covid_df['percentage (%)'] = language_during_covid_percentage\n",
    "\n",
    "language_during_covid_df.sort_values(by=['tweet_count'], ascending=False).head(10)"
   ]
  },
  {
   "cell_type": "code",
   "execution_count": null,
   "metadata": {},
   "outputs": [],
   "source": []
  }
 ],
 "metadata": {
  "kernelspec": {
   "display_name": "Python 3",
   "language": "python",
   "name": "python3"
  },
  "language_info": {
   "codemirror_mode": {
    "name": "ipython",
    "version": 3
   },
   "file_extension": ".py",
   "mimetype": "text/x-python",
   "name": "python",
   "nbconvert_exporter": "python",
   "pygments_lexer": "ipython3",
   "version": "3.7.6"
  }
 },
 "nbformat": 4,
 "nbformat_minor": 4
}

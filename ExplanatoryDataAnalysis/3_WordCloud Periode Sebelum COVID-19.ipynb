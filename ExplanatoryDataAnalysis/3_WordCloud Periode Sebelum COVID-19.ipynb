{
 "cells": [
  {
   "cell_type": "markdown",
   "metadata": {},
   "source": [
    "# Membuat WordCloud dari Tweets"
   ]
  },
  {
   "cell_type": "markdown",
   "metadata": {},
   "source": [
    "**1. Persiapan Data**"
   ]
  },
  {
   "cell_type": "markdown",
   "metadata": {},
   "source": [
    "**Install Packages**"
   ]
  },
  {
   "cell_type": "markdown",
   "metadata": {},
   "source": [
    "Pada pengerjaan ini, ada beberapa packages yang digunakan yaitu:\n",
    "1. Package NLTK\n",
    "2. Package Symspellpy\n",
    "3. Package Spacy\n",
    "4. Package Sastrawi\n",
    "5. Package Swifter\n",
    "6. Package WordCloud"
   ]
  },
  {
   "cell_type": "code",
   "execution_count": 1,
   "metadata": {},
   "outputs": [
    {
     "name": "stdout",
     "output_type": "stream",
     "text": [
      "Requirement already satisfied: nltk in /Users/toniafriantoni/opt/anaconda3/lib/python3.7/site-packages (3.4.5)\n",
      "Requirement already satisfied: six in /Users/toniafriantoni/opt/anaconda3/lib/python3.7/site-packages (from nltk) (1.14.0)\n",
      "Note: you may need to restart the kernel to use updated packages.\n"
     ]
    }
   ],
   "source": [
    "pip install nltk"
   ]
  },
  {
   "cell_type": "code",
   "execution_count": 2,
   "metadata": {},
   "outputs": [
    {
     "name": "stdout",
     "output_type": "stream",
     "text": [
      "Requirement already satisfied: symspellpy in /Users/toniafriantoni/opt/anaconda3/lib/python3.7/site-packages (6.7.0)\n",
      "Requirement already satisfied: numpy>=1.13.1 in /Users/toniafriantoni/opt/anaconda3/lib/python3.7/site-packages (from symspellpy) (1.18.1)\n",
      "Note: you may need to restart the kernel to use updated packages.\n"
     ]
    }
   ],
   "source": [
    "pip install symspellpy"
   ]
  },
  {
   "cell_type": "code",
   "execution_count": 3,
   "metadata": {},
   "outputs": [
    {
     "name": "stdout",
     "output_type": "stream",
     "text": [
      "Requirement already satisfied: spacy in /Users/toniafriantoni/opt/anaconda3/lib/python3.7/site-packages (3.0.5)\n",
      "Requirement already satisfied: numpy>=1.15.0 in /Users/toniafriantoni/opt/anaconda3/lib/python3.7/site-packages (from spacy) (1.18.1)\n",
      "Requirement already satisfied: pydantic<1.8.0,>=1.7.1 in /Users/toniafriantoni/opt/anaconda3/lib/python3.7/site-packages (from spacy) (1.7.3)\n",
      "Requirement already satisfied: tqdm<5.0.0,>=4.38.0 in /Users/toniafriantoni/opt/anaconda3/lib/python3.7/site-packages (from spacy) (4.42.1)\n",
      "Requirement already satisfied: typing-extensions<4.0.0.0,>=3.7.4; python_version < \"3.8\" in /Users/toniafriantoni/opt/anaconda3/lib/python3.7/site-packages (from spacy) (3.7.4.3)\n",
      "Requirement already satisfied: importlib-metadata>=0.20; python_version < \"3.8\" in /Users/toniafriantoni/opt/anaconda3/lib/python3.7/site-packages (from spacy) (1.5.0)\n",
      "Requirement already satisfied: catalogue<2.1.0,>=2.0.1 in /Users/toniafriantoni/opt/anaconda3/lib/python3.7/site-packages (from spacy) (2.0.1)\n",
      "Requirement already satisfied: jinja2 in /Users/toniafriantoni/opt/anaconda3/lib/python3.7/site-packages (from spacy) (2.11.1)\n",
      "Requirement already satisfied: preshed<3.1.0,>=3.0.2 in /Users/toniafriantoni/opt/anaconda3/lib/python3.7/site-packages (from spacy) (3.0.5)\n",
      "Requirement already satisfied: packaging>=20.0 in /Users/toniafriantoni/opt/anaconda3/lib/python3.7/site-packages (from spacy) (20.1)\n",
      "Requirement already satisfied: blis<0.8.0,>=0.4.0 in /Users/toniafriantoni/opt/anaconda3/lib/python3.7/site-packages (from spacy) (0.7.4)\n",
      "Requirement already satisfied: srsly<3.0.0,>=2.4.0 in /Users/toniafriantoni/opt/anaconda3/lib/python3.7/site-packages (from spacy) (2.4.0)\n",
      "Requirement already satisfied: murmurhash<1.1.0,>=0.28.0 in /Users/toniafriantoni/opt/anaconda3/lib/python3.7/site-packages (from spacy) (1.0.5)\n",
      "Requirement already satisfied: pathy>=0.3.5 in /Users/toniafriantoni/opt/anaconda3/lib/python3.7/site-packages (from spacy) (0.4.0)\n",
      "Requirement already satisfied: setuptools in /Users/toniafriantoni/opt/anaconda3/lib/python3.7/site-packages (from spacy) (46.0.0.post20200309)\n",
      "Requirement already satisfied: thinc<8.1.0,>=8.0.2 in /Users/toniafriantoni/opt/anaconda3/lib/python3.7/site-packages (from spacy) (8.0.2)\n",
      "Requirement already satisfied: wasabi<1.1.0,>=0.8.1 in /Users/toniafriantoni/opt/anaconda3/lib/python3.7/site-packages (from spacy) (0.8.2)\n",
      "Requirement already satisfied: requests<3.0.0,>=2.13.0 in /Users/toniafriantoni/opt/anaconda3/lib/python3.7/site-packages (from spacy) (2.22.0)\n",
      "Requirement already satisfied: typer<0.4.0,>=0.3.0 in /Users/toniafriantoni/opt/anaconda3/lib/python3.7/site-packages (from spacy) (0.3.2)\n",
      "Requirement already satisfied: cymem<2.1.0,>=2.0.2 in /Users/toniafriantoni/opt/anaconda3/lib/python3.7/site-packages (from spacy) (2.0.5)\n",
      "Requirement already satisfied: spacy-legacy<3.1.0,>=3.0.0 in /Users/toniafriantoni/opt/anaconda3/lib/python3.7/site-packages (from spacy) (3.0.2)\n",
      "Requirement already satisfied: zipp>=0.5 in /Users/toniafriantoni/opt/anaconda3/lib/python3.7/site-packages (from importlib-metadata>=0.20; python_version < \"3.8\"->spacy) (2.2.0)\n",
      "Requirement already satisfied: MarkupSafe>=0.23 in /Users/toniafriantoni/opt/anaconda3/lib/python3.7/site-packages (from jinja2->spacy) (1.1.1)\n",
      "Requirement already satisfied: pyparsing>=2.0.2 in /Users/toniafriantoni/opt/anaconda3/lib/python3.7/site-packages (from packaging>=20.0->spacy) (2.4.6)\n",
      "Requirement already satisfied: six in /Users/toniafriantoni/opt/anaconda3/lib/python3.7/site-packages (from packaging>=20.0->spacy) (1.14.0)\n",
      "Requirement already satisfied: smart-open<4.0.0,>=2.2.0 in /Users/toniafriantoni/opt/anaconda3/lib/python3.7/site-packages (from pathy>=0.3.5->spacy) (3.0.0)\n",
      "Requirement already satisfied: chardet<3.1.0,>=3.0.2 in /Users/toniafriantoni/opt/anaconda3/lib/python3.7/site-packages (from requests<3.0.0,>=2.13.0->spacy) (3.0.4)\n",
      "Requirement already satisfied: urllib3!=1.25.0,!=1.25.1,<1.26,>=1.21.1 in /Users/toniafriantoni/opt/anaconda3/lib/python3.7/site-packages (from requests<3.0.0,>=2.13.0->spacy) (1.25.8)\n",
      "Requirement already satisfied: certifi>=2017.4.17 in /Users/toniafriantoni/opt/anaconda3/lib/python3.7/site-packages (from requests<3.0.0,>=2.13.0->spacy) (2019.11.28)\n",
      "Requirement already satisfied: idna<2.9,>=2.5 in /Users/toniafriantoni/opt/anaconda3/lib/python3.7/site-packages (from requests<3.0.0,>=2.13.0->spacy) (2.8)\n",
      "Requirement already satisfied: click<7.2.0,>=7.1.1 in /Users/toniafriantoni/opt/anaconda3/lib/python3.7/site-packages (from typer<0.4.0,>=0.3.0->spacy) (7.1.2)\n",
      "Note: you may need to restart the kernel to use updated packages.\n"
     ]
    }
   ],
   "source": [
    "pip install spacy"
   ]
  },
  {
   "cell_type": "code",
   "execution_count": 4,
   "metadata": {},
   "outputs": [
    {
     "name": "stdout",
     "output_type": "stream",
     "text": [
      "Requirement already satisfied: Sastrawi in /Users/toniafriantoni/opt/anaconda3/lib/python3.7/site-packages (1.0.1)\n",
      "Note: you may need to restart the kernel to use updated packages.\n"
     ]
    }
   ],
   "source": [
    "pip install Sastrawi"
   ]
  },
  {
   "cell_type": "code",
   "execution_count": 5,
   "metadata": {},
   "outputs": [
    {
     "name": "stdout",
     "output_type": "stream",
     "text": [
      "Requirement already satisfied: swifter in /Users/toniafriantoni/opt/anaconda3/lib/python3.7/site-packages (1.0.7)\n",
      "Requirement already satisfied: pandas>=1.0.0 in /Users/toniafriantoni/opt/anaconda3/lib/python3.7/site-packages (from swifter) (1.0.1)\n",
      "Requirement already satisfied: tqdm>=4.33.0 in /Users/toniafriantoni/opt/anaconda3/lib/python3.7/site-packages (from swifter) (4.42.1)\n",
      "Requirement already satisfied: dask[dataframe]>=2.10.0 in /Users/toniafriantoni/opt/anaconda3/lib/python3.7/site-packages (from swifter) (2.11.0)\n",
      "Requirement already satisfied: ipywidgets>=7.0.0cloudpickle>=0.2.2 in /Users/toniafriantoni/opt/anaconda3/lib/python3.7/site-packages (from swifter) (7.6.3)\n",
      "Requirement already satisfied: modin[ray]>=0.8.1.1 in /Users/toniafriantoni/opt/anaconda3/lib/python3.7/site-packages (from swifter) (0.9.1)\n",
      "Requirement already satisfied: psutil>=5.6.6 in /Users/toniafriantoni/opt/anaconda3/lib/python3.7/site-packages (from swifter) (5.6.7)\n",
      "Requirement already satisfied: bleach>=3.1.1 in /Users/toniafriantoni/opt/anaconda3/lib/python3.7/site-packages (from swifter) (3.3.0)\n",
      "Requirement already satisfied: parso>0.4.0 in /Users/toniafriantoni/opt/anaconda3/lib/python3.7/site-packages (from swifter) (0.5.2)\n",
      "Requirement already satisfied: pytz>=2017.2 in /Users/toniafriantoni/opt/anaconda3/lib/python3.7/site-packages (from pandas>=1.0.0->swifter) (2019.3)\n",
      "Requirement already satisfied: python-dateutil>=2.6.1 in /Users/toniafriantoni/opt/anaconda3/lib/python3.7/site-packages (from pandas>=1.0.0->swifter) (2.8.1)\n",
      "Requirement already satisfied: numpy>=1.13.3 in /Users/toniafriantoni/opt/anaconda3/lib/python3.7/site-packages (from pandas>=1.0.0->swifter) (1.18.1)\n",
      "Requirement already satisfied: partd>=0.3.10; extra == \"dataframe\" in /Users/toniafriantoni/opt/anaconda3/lib/python3.7/site-packages (from dask[dataframe]>=2.10.0->swifter) (1.1.0)\n",
      "Requirement already satisfied: fsspec>=0.6.0; extra == \"dataframe\" in /Users/toniafriantoni/opt/anaconda3/lib/python3.7/site-packages (from dask[dataframe]>=2.10.0->swifter) (0.6.2)\n",
      "Requirement already satisfied: toolz>=0.7.3; extra == \"dataframe\" in /Users/toniafriantoni/opt/anaconda3/lib/python3.7/site-packages (from dask[dataframe]>=2.10.0->swifter) (0.10.0)\n",
      "Requirement already satisfied: jupyterlab-widgets>=1.0.0; python_version >= \"3.6\" in /Users/toniafriantoni/opt/anaconda3/lib/python3.7/site-packages (from ipywidgets>=7.0.0cloudpickle>=0.2.2->swifter) (1.0.0)\n",
      "Requirement already satisfied: ipython>=4.0.0; python_version >= \"3.3\" in /Users/toniafriantoni/opt/anaconda3/lib/python3.7/site-packages (from ipywidgets>=7.0.0cloudpickle>=0.2.2->swifter) (7.12.0)\n",
      "Requirement already satisfied: traitlets>=4.3.1 in /Users/toniafriantoni/opt/anaconda3/lib/python3.7/site-packages (from ipywidgets>=7.0.0cloudpickle>=0.2.2->swifter) (4.3.3)\n",
      "Requirement already satisfied: ipykernel>=4.5.1 in /Users/toniafriantoni/opt/anaconda3/lib/python3.7/site-packages (from ipywidgets>=7.0.0cloudpickle>=0.2.2->swifter) (5.1.4)\n",
      "Requirement already satisfied: widgetsnbextension~=3.5.0 in /Users/toniafriantoni/opt/anaconda3/lib/python3.7/site-packages (from ipywidgets>=7.0.0cloudpickle>=0.2.2->swifter) (3.5.1)\n",
      "Requirement already satisfied: nbformat>=4.2.0 in /Users/toniafriantoni/opt/anaconda3/lib/python3.7/site-packages (from ipywidgets>=7.0.0cloudpickle>=0.2.2->swifter) (5.0.4)\n",
      "Requirement already satisfied: packaging in /Users/toniafriantoni/opt/anaconda3/lib/python3.7/site-packages (from modin[ray]>=0.8.1.1->swifter) (20.1)\n",
      "Requirement already satisfied: pyarrow==1.0; extra == \"ray\" in /Users/toniafriantoni/opt/anaconda3/lib/python3.7/site-packages (from modin[ray]>=0.8.1.1->swifter) (1.0.0)\n",
      "Requirement already satisfied: ray<1.2.0,>=1.0.0; extra == \"ray\" in /Users/toniafriantoni/opt/anaconda3/lib/python3.7/site-packages (from modin[ray]>=0.8.1.1->swifter) (1.1.0)\n",
      "Requirement already satisfied: six>=1.9.0 in /Users/toniafriantoni/opt/anaconda3/lib/python3.7/site-packages (from bleach>=3.1.1->swifter) (1.14.0)\n",
      "Requirement already satisfied: webencodings in /Users/toniafriantoni/opt/anaconda3/lib/python3.7/site-packages (from bleach>=3.1.1->swifter) (0.5.1)\n",
      "Requirement already satisfied: locket in /Users/toniafriantoni/opt/anaconda3/lib/python3.7/site-packages (from partd>=0.3.10; extra == \"dataframe\"->dask[dataframe]>=2.10.0->swifter) (0.2.0)\n",
      "Requirement already satisfied: backcall in /Users/toniafriantoni/opt/anaconda3/lib/python3.7/site-packages (from ipython>=4.0.0; python_version >= \"3.3\"->ipywidgets>=7.0.0cloudpickle>=0.2.2->swifter) (0.1.0)\n",
      "Requirement already satisfied: pygments in /Users/toniafriantoni/opt/anaconda3/lib/python3.7/site-packages (from ipython>=4.0.0; python_version >= \"3.3\"->ipywidgets>=7.0.0cloudpickle>=0.2.2->swifter) (2.5.2)\n",
      "Requirement already satisfied: pexpect; sys_platform != \"win32\" in /Users/toniafriantoni/opt/anaconda3/lib/python3.7/site-packages (from ipython>=4.0.0; python_version >= \"3.3\"->ipywidgets>=7.0.0cloudpickle>=0.2.2->swifter) (4.8.0)\n",
      "Requirement already satisfied: prompt-toolkit!=3.0.0,!=3.0.1,<3.1.0,>=2.0.0 in /Users/toniafriantoni/opt/anaconda3/lib/python3.7/site-packages (from ipython>=4.0.0; python_version >= \"3.3\"->ipywidgets>=7.0.0cloudpickle>=0.2.2->swifter) (3.0.3)\n",
      "Requirement already satisfied: decorator in /Users/toniafriantoni/opt/anaconda3/lib/python3.7/site-packages (from ipython>=4.0.0; python_version >= \"3.3\"->ipywidgets>=7.0.0cloudpickle>=0.2.2->swifter) (4.4.1)\n",
      "Requirement already satisfied: appnope; sys_platform == \"darwin\" in /Users/toniafriantoni/opt/anaconda3/lib/python3.7/site-packages (from ipython>=4.0.0; python_version >= \"3.3\"->ipywidgets>=7.0.0cloudpickle>=0.2.2->swifter) (0.1.0)\n",
      "Requirement already satisfied: pickleshare in /Users/toniafriantoni/opt/anaconda3/lib/python3.7/site-packages (from ipython>=4.0.0; python_version >= \"3.3\"->ipywidgets>=7.0.0cloudpickle>=0.2.2->swifter) (0.7.5)\n",
      "Requirement already satisfied: jedi>=0.10 in /Users/toniafriantoni/opt/anaconda3/lib/python3.7/site-packages (from ipython>=4.0.0; python_version >= \"3.3\"->ipywidgets>=7.0.0cloudpickle>=0.2.2->swifter) (0.14.1)\n",
      "Requirement already satisfied: setuptools>=18.5 in /Users/toniafriantoni/opt/anaconda3/lib/python3.7/site-packages (from ipython>=4.0.0; python_version >= \"3.3\"->ipywidgets>=7.0.0cloudpickle>=0.2.2->swifter) (46.0.0.post20200309)\n",
      "Requirement already satisfied: ipython-genutils in /Users/toniafriantoni/opt/anaconda3/lib/python3.7/site-packages (from traitlets>=4.3.1->ipywidgets>=7.0.0cloudpickle>=0.2.2->swifter) (0.2.0)\n",
      "Requirement already satisfied: tornado>=4.2 in /Users/toniafriantoni/opt/anaconda3/lib/python3.7/site-packages (from ipykernel>=4.5.1->ipywidgets>=7.0.0cloudpickle>=0.2.2->swifter) (6.0.3)\n",
      "Requirement already satisfied: jupyter-client in /Users/toniafriantoni/opt/anaconda3/lib/python3.7/site-packages (from ipykernel>=4.5.1->ipywidgets>=7.0.0cloudpickle>=0.2.2->swifter) (5.3.4)\n",
      "Requirement already satisfied: notebook>=4.4.1 in /Users/toniafriantoni/opt/anaconda3/lib/python3.7/site-packages (from widgetsnbextension~=3.5.0->ipywidgets>=7.0.0cloudpickle>=0.2.2->swifter) (6.0.3)\n",
      "Requirement already satisfied: jupyter-core in /Users/toniafriantoni/opt/anaconda3/lib/python3.7/site-packages (from nbformat>=4.2.0->ipywidgets>=7.0.0cloudpickle>=0.2.2->swifter) (4.6.1)\n",
      "Requirement already satisfied: jsonschema!=2.5.0,>=2.4 in /Users/toniafriantoni/opt/anaconda3/lib/python3.7/site-packages (from nbformat>=4.2.0->ipywidgets>=7.0.0cloudpickle>=0.2.2->swifter) (3.2.0)\n",
      "Requirement already satisfied: pyparsing>=2.0.2 in /Users/toniafriantoni/opt/anaconda3/lib/python3.7/site-packages (from packaging->modin[ray]>=0.8.1.1->swifter) (2.4.6)\n",
      "Requirement already satisfied: pyyaml in /Users/toniafriantoni/opt/anaconda3/lib/python3.7/site-packages (from ray<1.2.0,>=1.0.0; extra == \"ray\"->modin[ray]>=0.8.1.1->swifter) (5.3)\n",
      "Requirement already satisfied: aiohttp in /Users/toniafriantoni/opt/anaconda3/lib/python3.7/site-packages (from ray<1.2.0,>=1.0.0; extra == \"ray\"->modin[ray]>=0.8.1.1->swifter) (3.7.4.post0)\n",
      "Requirement already satisfied: msgpack<2.0.0,>=1.0.0 in /Users/toniafriantoni/opt/anaconda3/lib/python3.7/site-packages (from ray<1.2.0,>=1.0.0; extra == \"ray\"->modin[ray]>=0.8.1.1->swifter) (1.0.2)\n",
      "Requirement already satisfied: opencensus in /Users/toniafriantoni/opt/anaconda3/lib/python3.7/site-packages (from ray<1.2.0,>=1.0.0; extra == \"ray\"->modin[ray]>=0.8.1.1->swifter) (0.7.12)\n",
      "Requirement already satisfied: aiohttp-cors in /Users/toniafriantoni/opt/anaconda3/lib/python3.7/site-packages (from ray<1.2.0,>=1.0.0; extra == \"ray\"->modin[ray]>=0.8.1.1->swifter) (0.7.0)\n",
      "Requirement already satisfied: colorful in /Users/toniafriantoni/opt/anaconda3/lib/python3.7/site-packages (from ray<1.2.0,>=1.0.0; extra == \"ray\"->modin[ray]>=0.8.1.1->swifter) (0.5.4)\n",
      "Requirement already satisfied: grpcio>=1.28.1 in /Users/toniafriantoni/opt/anaconda3/lib/python3.7/site-packages (from ray<1.2.0,>=1.0.0; extra == \"ray\"->modin[ray]>=0.8.1.1->swifter) (1.37.0)\n",
      "Requirement already satisfied: prometheus-client>=0.7.1 in /Users/toniafriantoni/opt/anaconda3/lib/python3.7/site-packages (from ray<1.2.0,>=1.0.0; extra == \"ray\"->modin[ray]>=0.8.1.1->swifter) (0.7.1)\n",
      "Requirement already satisfied: gpustat in /Users/toniafriantoni/opt/anaconda3/lib/python3.7/site-packages (from ray<1.2.0,>=1.0.0; extra == \"ray\"->modin[ray]>=0.8.1.1->swifter) (0.6.0)\n",
      "Requirement already satisfied: py-spy>=0.2.0 in /Users/toniafriantoni/opt/anaconda3/lib/python3.7/site-packages (from ray<1.2.0,>=1.0.0; extra == \"ray\"->modin[ray]>=0.8.1.1->swifter) (0.3.5)\n",
      "Requirement already satisfied: filelock in /Users/toniafriantoni/opt/anaconda3/lib/python3.7/site-packages (from ray<1.2.0,>=1.0.0; extra == \"ray\"->modin[ray]>=0.8.1.1->swifter) (3.0.12)\n",
      "Requirement already satisfied: protobuf>=3.8.0 in /Users/toniafriantoni/opt/anaconda3/lib/python3.7/site-packages (from ray<1.2.0,>=1.0.0; extra == \"ray\"->modin[ray]>=0.8.1.1->swifter) (3.15.8)\n",
      "Requirement already satisfied: colorama in /Users/toniafriantoni/opt/anaconda3/lib/python3.7/site-packages (from ray<1.2.0,>=1.0.0; extra == \"ray\"->modin[ray]>=0.8.1.1->swifter) (0.4.3)\n",
      "Requirement already satisfied: redis>=3.5.0 in /Users/toniafriantoni/opt/anaconda3/lib/python3.7/site-packages (from ray<1.2.0,>=1.0.0; extra == \"ray\"->modin[ray]>=0.8.1.1->swifter) (3.5.3)\n",
      "Requirement already satisfied: aioredis in /Users/toniafriantoni/opt/anaconda3/lib/python3.7/site-packages (from ray<1.2.0,>=1.0.0; extra == \"ray\"->modin[ray]>=0.8.1.1->swifter) (1.3.1)\n",
      "Requirement already satisfied: requests in /Users/toniafriantoni/opt/anaconda3/lib/python3.7/site-packages (from ray<1.2.0,>=1.0.0; extra == \"ray\"->modin[ray]>=0.8.1.1->swifter) (2.22.0)\n",
      "Requirement already satisfied: click>=7.0 in /Users/toniafriantoni/opt/anaconda3/lib/python3.7/site-packages (from ray<1.2.0,>=1.0.0; extra == \"ray\"->modin[ray]>=0.8.1.1->swifter) (7.1.2)\n",
      "Requirement already satisfied: ptyprocess>=0.5 in /Users/toniafriantoni/opt/anaconda3/lib/python3.7/site-packages (from pexpect; sys_platform != \"win32\"->ipython>=4.0.0; python_version >= \"3.3\"->ipywidgets>=7.0.0cloudpickle>=0.2.2->swifter) (0.6.0)\n",
      "Requirement already satisfied: wcwidth in /Users/toniafriantoni/opt/anaconda3/lib/python3.7/site-packages (from prompt-toolkit!=3.0.0,!=3.0.1,<3.1.0,>=2.0.0->ipython>=4.0.0; python_version >= \"3.3\"->ipywidgets>=7.0.0cloudpickle>=0.2.2->swifter) (0.1.8)\n",
      "Requirement already satisfied: pyzmq>=13 in /Users/toniafriantoni/opt/anaconda3/lib/python3.7/site-packages (from jupyter-client->ipykernel>=4.5.1->ipywidgets>=7.0.0cloudpickle>=0.2.2->swifter) (18.1.1)\n",
      "Requirement already satisfied: terminado>=0.8.1 in /Users/toniafriantoni/opt/anaconda3/lib/python3.7/site-packages (from notebook>=4.4.1->widgetsnbextension~=3.5.0->ipywidgets>=7.0.0cloudpickle>=0.2.2->swifter) (0.8.3)\n",
      "Requirement already satisfied: Send2Trash in /Users/toniafriantoni/opt/anaconda3/lib/python3.7/site-packages (from notebook>=4.4.1->widgetsnbextension~=3.5.0->ipywidgets>=7.0.0cloudpickle>=0.2.2->swifter) (1.5.0)\n",
      "Requirement already satisfied: jinja2 in /Users/toniafriantoni/opt/anaconda3/lib/python3.7/site-packages (from notebook>=4.4.1->widgetsnbextension~=3.5.0->ipywidgets>=7.0.0cloudpickle>=0.2.2->swifter) (2.11.1)\n",
      "Requirement already satisfied: nbconvert in /Users/toniafriantoni/opt/anaconda3/lib/python3.7/site-packages (from notebook>=4.4.1->widgetsnbextension~=3.5.0->ipywidgets>=7.0.0cloudpickle>=0.2.2->swifter) (5.6.1)\n",
      "Requirement already satisfied: pyrsistent>=0.14.0 in /Users/toniafriantoni/opt/anaconda3/lib/python3.7/site-packages (from jsonschema!=2.5.0,>=2.4->nbformat>=4.2.0->ipywidgets>=7.0.0cloudpickle>=0.2.2->swifter) (0.15.7)\n",
      "Requirement already satisfied: importlib-metadata; python_version < \"3.8\" in /Users/toniafriantoni/opt/anaconda3/lib/python3.7/site-packages (from jsonschema!=2.5.0,>=2.4->nbformat>=4.2.0->ipywidgets>=7.0.0cloudpickle>=0.2.2->swifter) (1.5.0)\n",
      "Requirement already satisfied: attrs>=17.4.0 in /Users/toniafriantoni/opt/anaconda3/lib/python3.7/site-packages (from jsonschema!=2.5.0,>=2.4->nbformat>=4.2.0->ipywidgets>=7.0.0cloudpickle>=0.2.2->swifter) (19.3.0)\n",
      "Requirement already satisfied: chardet<5.0,>=2.0 in /Users/toniafriantoni/opt/anaconda3/lib/python3.7/site-packages (from aiohttp->ray<1.2.0,>=1.0.0; extra == \"ray\"->modin[ray]>=0.8.1.1->swifter) (3.0.4)\n",
      "Requirement already satisfied: typing-extensions>=3.6.5 in /Users/toniafriantoni/opt/anaconda3/lib/python3.7/site-packages (from aiohttp->ray<1.2.0,>=1.0.0; extra == \"ray\"->modin[ray]>=0.8.1.1->swifter) (3.7.4.3)\n",
      "Requirement already satisfied: yarl<2.0,>=1.0 in /Users/toniafriantoni/opt/anaconda3/lib/python3.7/site-packages (from aiohttp->ray<1.2.0,>=1.0.0; extra == \"ray\"->modin[ray]>=0.8.1.1->swifter) (1.6.3)\n",
      "Requirement already satisfied: multidict<7.0,>=4.5 in /Users/toniafriantoni/opt/anaconda3/lib/python3.7/site-packages (from aiohttp->ray<1.2.0,>=1.0.0; extra == \"ray\"->modin[ray]>=0.8.1.1->swifter) (5.1.0)\n",
      "Requirement already satisfied: async-timeout<4.0,>=3.0 in /Users/toniafriantoni/opt/anaconda3/lib/python3.7/site-packages (from aiohttp->ray<1.2.0,>=1.0.0; extra == \"ray\"->modin[ray]>=0.8.1.1->swifter) (3.0.1)\n",
      "Requirement already satisfied: opencensus-context==0.1.2 in /Users/toniafriantoni/opt/anaconda3/lib/python3.7/site-packages (from opencensus->ray<1.2.0,>=1.0.0; extra == \"ray\"->modin[ray]>=0.8.1.1->swifter) (0.1.2)\n",
      "Requirement already satisfied: google-api-core<2.0.0,>=1.0.0 in /Users/toniafriantoni/opt/anaconda3/lib/python3.7/site-packages (from opencensus->ray<1.2.0,>=1.0.0; extra == \"ray\"->modin[ray]>=0.8.1.1->swifter) (1.26.3)\n",
      "Requirement already satisfied: nvidia-ml-py3>=7.352.0 in /Users/toniafriantoni/opt/anaconda3/lib/python3.7/site-packages (from gpustat->ray<1.2.0,>=1.0.0; extra == \"ray\"->modin[ray]>=0.8.1.1->swifter) (7.352.0)\n",
      "Requirement already satisfied: blessings>=1.6 in /Users/toniafriantoni/opt/anaconda3/lib/python3.7/site-packages (from gpustat->ray<1.2.0,>=1.0.0; extra == \"ray\"->modin[ray]>=0.8.1.1->swifter) (1.7)\n",
      "Requirement already satisfied: hiredis in /Users/toniafriantoni/opt/anaconda3/lib/python3.7/site-packages (from aioredis->ray<1.2.0,>=1.0.0; extra == \"ray\"->modin[ray]>=0.8.1.1->swifter) (2.0.0)\n",
      "Requirement already satisfied: idna<2.9,>=2.5 in /Users/toniafriantoni/opt/anaconda3/lib/python3.7/site-packages (from requests->ray<1.2.0,>=1.0.0; extra == \"ray\"->modin[ray]>=0.8.1.1->swifter) (2.8)\n",
      "Requirement already satisfied: urllib3!=1.25.0,!=1.25.1,<1.26,>=1.21.1 in /Users/toniafriantoni/opt/anaconda3/lib/python3.7/site-packages (from requests->ray<1.2.0,>=1.0.0; extra == \"ray\"->modin[ray]>=0.8.1.1->swifter) (1.25.8)\n",
      "Requirement already satisfied: certifi>=2017.4.17 in /Users/toniafriantoni/opt/anaconda3/lib/python3.7/site-packages (from requests->ray<1.2.0,>=1.0.0; extra == \"ray\"->modin[ray]>=0.8.1.1->swifter) (2019.11.28)\n",
      "Requirement already satisfied: MarkupSafe>=0.23 in /Users/toniafriantoni/opt/anaconda3/lib/python3.7/site-packages (from jinja2->notebook>=4.4.1->widgetsnbextension~=3.5.0->ipywidgets>=7.0.0cloudpickle>=0.2.2->swifter) (1.1.1)\n",
      "Requirement already satisfied: mistune<2,>=0.8.1 in /Users/toniafriantoni/opt/anaconda3/lib/python3.7/site-packages (from nbconvert->notebook>=4.4.1->widgetsnbextension~=3.5.0->ipywidgets>=7.0.0cloudpickle>=0.2.2->swifter) (0.8.4)\n",
      "Requirement already satisfied: entrypoints>=0.2.2 in /Users/toniafriantoni/opt/anaconda3/lib/python3.7/site-packages (from nbconvert->notebook>=4.4.1->widgetsnbextension~=3.5.0->ipywidgets>=7.0.0cloudpickle>=0.2.2->swifter) (0.3)\n",
      "Requirement already satisfied: testpath in /Users/toniafriantoni/opt/anaconda3/lib/python3.7/site-packages (from nbconvert->notebook>=4.4.1->widgetsnbextension~=3.5.0->ipywidgets>=7.0.0cloudpickle>=0.2.2->swifter) (0.4.4)\n",
      "Requirement already satisfied: pandocfilters>=1.4.1 in /Users/toniafriantoni/opt/anaconda3/lib/python3.7/site-packages (from nbconvert->notebook>=4.4.1->widgetsnbextension~=3.5.0->ipywidgets>=7.0.0cloudpickle>=0.2.2->swifter) (1.4.2)\n",
      "Requirement already satisfied: defusedxml in /Users/toniafriantoni/opt/anaconda3/lib/python3.7/site-packages (from nbconvert->notebook>=4.4.1->widgetsnbextension~=3.5.0->ipywidgets>=7.0.0cloudpickle>=0.2.2->swifter) (0.6.0)\n",
      "Requirement already satisfied: zipp>=0.5 in /Users/toniafriantoni/opt/anaconda3/lib/python3.7/site-packages (from importlib-metadata; python_version < \"3.8\"->jsonschema!=2.5.0,>=2.4->nbformat>=4.2.0->ipywidgets>=7.0.0cloudpickle>=0.2.2->swifter) (2.2.0)\n",
      "Requirement already satisfied: googleapis-common-protos<2.0dev,>=1.6.0 in /Users/toniafriantoni/opt/anaconda3/lib/python3.7/site-packages (from google-api-core<2.0.0,>=1.0.0->opencensus->ray<1.2.0,>=1.0.0; extra == \"ray\"->modin[ray]>=0.8.1.1->swifter) (1.53.0)\n",
      "Requirement already satisfied: google-auth<2.0dev,>=1.21.1 in /Users/toniafriantoni/opt/anaconda3/lib/python3.7/site-packages (from google-api-core<2.0.0,>=1.0.0->opencensus->ray<1.2.0,>=1.0.0; extra == \"ray\"->modin[ray]>=0.8.1.1->swifter) (1.28.1)\n",
      "Requirement already satisfied: cachetools<5.0,>=2.0.0 in /Users/toniafriantoni/opt/anaconda3/lib/python3.7/site-packages (from google-auth<2.0dev,>=1.21.1->google-api-core<2.0.0,>=1.0.0->opencensus->ray<1.2.0,>=1.0.0; extra == \"ray\"->modin[ray]>=0.8.1.1->swifter) (4.2.1)\n",
      "Requirement already satisfied: rsa<5,>=3.1.4; python_version >= \"3.6\" in /Users/toniafriantoni/opt/anaconda3/lib/python3.7/site-packages (from google-auth<2.0dev,>=1.21.1->google-api-core<2.0.0,>=1.0.0->opencensus->ray<1.2.0,>=1.0.0; extra == \"ray\"->modin[ray]>=0.8.1.1->swifter) (4.7.2)\n",
      "Requirement already satisfied: pyasn1-modules>=0.2.1 in /Users/toniafriantoni/opt/anaconda3/lib/python3.7/site-packages (from google-auth<2.0dev,>=1.21.1->google-api-core<2.0.0,>=1.0.0->opencensus->ray<1.2.0,>=1.0.0; extra == \"ray\"->modin[ray]>=0.8.1.1->swifter) (0.2.8)\n",
      "Requirement already satisfied: pyasn1>=0.1.3 in /Users/toniafriantoni/opt/anaconda3/lib/python3.7/site-packages (from rsa<5,>=3.1.4; python_version >= \"3.6\"->google-auth<2.0dev,>=1.21.1->google-api-core<2.0.0,>=1.0.0->opencensus->ray<1.2.0,>=1.0.0; extra == \"ray\"->modin[ray]>=0.8.1.1->swifter) (0.4.8)\n",
      "Note: you may need to restart the kernel to use updated packages.\n"
     ]
    }
   ],
   "source": [
    "pip install swifter"
   ]
  },
  {
   "cell_type": "code",
   "execution_count": 6,
   "metadata": {},
   "outputs": [
    {
     "name": "stdout",
     "output_type": "stream",
     "text": [
      "Requirement already satisfied: wordcloud in /Users/toniafriantoni/opt/anaconda3/lib/python3.7/site-packages (1.8.1)\n",
      "Requirement already satisfied: pillow in /Users/toniafriantoni/opt/anaconda3/lib/python3.7/site-packages (from wordcloud) (7.0.0)\n",
      "Requirement already satisfied: matplotlib in /Users/toniafriantoni/opt/anaconda3/lib/python3.7/site-packages (from wordcloud) (3.1.3)\n",
      "Requirement already satisfied: numpy>=1.6.1 in /Users/toniafriantoni/opt/anaconda3/lib/python3.7/site-packages (from wordcloud) (1.18.1)\n",
      "Requirement already satisfied: cycler>=0.10 in /Users/toniafriantoni/opt/anaconda3/lib/python3.7/site-packages (from matplotlib->wordcloud) (0.10.0)\n",
      "Requirement already satisfied: python-dateutil>=2.1 in /Users/toniafriantoni/opt/anaconda3/lib/python3.7/site-packages (from matplotlib->wordcloud) (2.8.1)\n",
      "Requirement already satisfied: pyparsing!=2.0.4,!=2.1.2,!=2.1.6,>=2.0.1 in /Users/toniafriantoni/opt/anaconda3/lib/python3.7/site-packages (from matplotlib->wordcloud) (2.4.6)\n",
      "Requirement already satisfied: kiwisolver>=1.0.1 in /Users/toniafriantoni/opt/anaconda3/lib/python3.7/site-packages (from matplotlib->wordcloud) (1.1.0)\n",
      "Requirement already satisfied: six in /Users/toniafriantoni/opt/anaconda3/lib/python3.7/site-packages (from cycler>=0.10->matplotlib->wordcloud) (1.14.0)\n",
      "Requirement already satisfied: setuptools in /Users/toniafriantoni/opt/anaconda3/lib/python3.7/site-packages (from kiwisolver>=1.0.1->matplotlib->wordcloud) (46.0.0.post20200309)\n",
      "Note: you may need to restart the kernel to use updated packages.\n"
     ]
    }
   ],
   "source": [
    "pip install wordcloud"
   ]
  },
  {
   "cell_type": "markdown",
   "metadata": {},
   "source": [
    "**Melakukan Import Library**"
   ]
  },
  {
   "cell_type": "markdown",
   "metadata": {},
   "source": [
    "Pertama, lakukan import library yang dibutuhkan berikut:"
   ]
  },
  {
   "cell_type": "code",
   "execution_count": 7,
   "metadata": {},
   "outputs": [],
   "source": [
    "import pandas as pd \n",
    "import numpy as np\n",
    "import string \n",
    "import re #regex library\n",
    "\n",
    "# import word_tokenize & FreqDist from NLTK\n",
    "import nltk\n",
    "%matplotlib inline\n",
    "from nltk.tokenize import word_tokenize \n",
    "from nltk.probability import FreqDist\n",
    "from matplotlib import pyplot as plt\n",
    "from wordcloud import STOPWORDS\n",
    "from wordcloud import WordCloud "
   ]
  },
  {
   "cell_type": "markdown",
   "metadata": {},
   "source": [
    "Selanjutnya, lakukan download resources dari NLTK untuk proses text processing"
   ]
  },
  {
   "cell_type": "code",
   "execution_count": 8,
   "metadata": {},
   "outputs": [
    {
     "name": "stderr",
     "output_type": "stream",
     "text": [
      "[nltk_data] Downloading package punkt to\n",
      "[nltk_data]     /Users/toniafriantoni/nltk_data...\n",
      "[nltk_data]   Package punkt is already up-to-date!\n"
     ]
    },
    {
     "data": {
      "text/plain": [
       "True"
      ]
     },
     "execution_count": 8,
     "metadata": {},
     "output_type": "execute_result"
    }
   ],
   "source": [
    "nltk.download('punkt')"
   ]
  },
  {
   "cell_type": "code",
   "execution_count": 9,
   "metadata": {},
   "outputs": [
    {
     "name": "stderr",
     "output_type": "stream",
     "text": [
      "[nltk_data] Downloading package stopwords to\n",
      "[nltk_data]     /Users/toniafriantoni/nltk_data...\n",
      "[nltk_data]   Package stopwords is already up-to-date!\n"
     ]
    },
    {
     "data": {
      "text/plain": [
       "True"
      ]
     },
     "execution_count": 9,
     "metadata": {},
     "output_type": "execute_result"
    }
   ],
   "source": [
    "nltk.download('stopwords')"
   ]
  },
  {
   "cell_type": "markdown",
   "metadata": {},
   "source": [
    "**Melakukan Persiapan Data**"
   ]
  },
  {
   "cell_type": "markdown",
   "metadata": {},
   "source": [
    "Membaca file CSV yang berisi kumpulan tweets data Twitter pada periode sebelum terjadi COVID-19 yang sudah di-filter"
   ]
  },
  {
   "cell_type": "code",
   "execution_count": 10,
   "metadata": {},
   "outputs": [
    {
     "name": "stderr",
     "output_type": "stream",
     "text": [
      "/Users/toniafriantoni/opt/anaconda3/lib/python3.7/site-packages/IPython/core/interactiveshell.py:3063: DtypeWarning: Columns (0,1,2,16,22) have mixed types.Specify dtype option on import or set low_memory=False.\n",
      "  interactivity=interactivity, compiler=compiler, result=result)\n"
     ]
    }
   ],
   "source": [
    "#membaca file CSV\n",
    "tweet_before_covid_df = pd.read_csv(\"data/filter/noncovid/tweet_after_filter__13122019-13032020.csv\")"
   ]
  },
  {
   "cell_type": "markdown",
   "metadata": {},
   "source": [
    "Melihat sampel lima data teratas"
   ]
  },
  {
   "cell_type": "code",
   "execution_count": 11,
   "metadata": {},
   "outputs": [
    {
     "data": {
      "text/html": [
       "<div>\n",
       "<style scoped>\n",
       "    .dataframe tbody tr th:only-of-type {\n",
       "        vertical-align: middle;\n",
       "    }\n",
       "\n",
       "    .dataframe tbody tr th {\n",
       "        vertical-align: top;\n",
       "    }\n",
       "\n",
       "    .dataframe thead th {\n",
       "        text-align: right;\n",
       "    }\n",
       "</style>\n",
       "<table border=\"1\" class=\"dataframe\">\n",
       "  <thead>\n",
       "    <tr style=\"text-align: right;\">\n",
       "      <th></th>\n",
       "      <th>Unnamed: 0</th>\n",
       "      <th>id</th>\n",
       "      <th>conversation_id</th>\n",
       "      <th>created_at</th>\n",
       "      <th>date</th>\n",
       "      <th>time</th>\n",
       "      <th>timezone</th>\n",
       "      <th>user_id</th>\n",
       "      <th>username</th>\n",
       "      <th>name</th>\n",
       "      <th>...</th>\n",
       "      <th>geo</th>\n",
       "      <th>source</th>\n",
       "      <th>user_rt_id</th>\n",
       "      <th>user_rt</th>\n",
       "      <th>retweet_id</th>\n",
       "      <th>reply_to</th>\n",
       "      <th>retweet_date</th>\n",
       "      <th>translate</th>\n",
       "      <th>trans_src</th>\n",
       "      <th>trans_dest</th>\n",
       "    </tr>\n",
       "  </thead>\n",
       "  <tbody>\n",
       "    <tr>\n",
       "      <th>0</th>\n",
       "      <td>8054</td>\n",
       "      <td>1228273430837026817</td>\n",
       "      <td>1228273430837026817</td>\n",
       "      <td>2020-02-14 18:03:00 WIB</td>\n",
       "      <td>2020-02-14</td>\n",
       "      <td>18:03:00</td>\n",
       "      <td>700</td>\n",
       "      <td>1069991112</td>\n",
       "      <td>1lleg1irl</td>\n",
       "      <td>LifeGoesOn #1 BB Hot100 🍻🍻 CJ⁷ | 💜</td>\n",
       "      <td>...</td>\n",
       "      <td>-6.216657128974757,106.83030289065285,10km</td>\n",
       "      <td>NaN</td>\n",
       "      <td>NaN</td>\n",
       "      <td>NaN</td>\n",
       "      <td>NaN</td>\n",
       "      <td>[]</td>\n",
       "      <td>NaN</td>\n",
       "      <td>NaN</td>\n",
       "      <td>NaN</td>\n",
       "      <td>NaN</td>\n",
       "    </tr>\n",
       "    <tr>\n",
       "      <th>1</th>\n",
       "      <td>8099</td>\n",
       "      <td>1228272673391697920</td>\n",
       "      <td>1228272673391697920</td>\n",
       "      <td>2020-02-14 18:00:00 WIB</td>\n",
       "      <td>2020-02-14</td>\n",
       "      <td>18:00:00</td>\n",
       "      <td>700</td>\n",
       "      <td>1069991112</td>\n",
       "      <td>1lleg1irl</td>\n",
       "      <td>LifeGoesOn #1 BB Hot100 🍻🍻 CJ⁷ | 💜</td>\n",
       "      <td>...</td>\n",
       "      <td>-6.216657128974757,106.83030289065285,10km</td>\n",
       "      <td>NaN</td>\n",
       "      <td>NaN</td>\n",
       "      <td>NaN</td>\n",
       "      <td>NaN</td>\n",
       "      <td>[]</td>\n",
       "      <td>NaN</td>\n",
       "      <td>NaN</td>\n",
       "      <td>NaN</td>\n",
       "      <td>NaN</td>\n",
       "    </tr>\n",
       "    <tr>\n",
       "      <th>2</th>\n",
       "      <td>8163</td>\n",
       "      <td>1228271469538336769</td>\n",
       "      <td>1228271469538336769</td>\n",
       "      <td>2020-02-14 17:55:13 WIB</td>\n",
       "      <td>2020-02-14</td>\n",
       "      <td>17:55:13</td>\n",
       "      <td>700</td>\n",
       "      <td>1069991112</td>\n",
       "      <td>1lleg1irl</td>\n",
       "      <td>LifeGoesOn #1 BB Hot100 🍻🍻 CJ⁷ | 💜</td>\n",
       "      <td>...</td>\n",
       "      <td>-6.216657128974757,106.83030289065285,10km</td>\n",
       "      <td>NaN</td>\n",
       "      <td>NaN</td>\n",
       "      <td>NaN</td>\n",
       "      <td>NaN</td>\n",
       "      <td>[]</td>\n",
       "      <td>NaN</td>\n",
       "      <td>NaN</td>\n",
       "      <td>NaN</td>\n",
       "      <td>NaN</td>\n",
       "    </tr>\n",
       "    <tr>\n",
       "      <th>3</th>\n",
       "      <td>8834</td>\n",
       "      <td>1228260870473388032</td>\n",
       "      <td>1228260870473388032</td>\n",
       "      <td>2020-02-14 17:13:06 WIB</td>\n",
       "      <td>2020-02-14</td>\n",
       "      <td>17:13:06</td>\n",
       "      <td>700</td>\n",
       "      <td>1069991112</td>\n",
       "      <td>1lleg1irl</td>\n",
       "      <td>LifeGoesOn #1 BB Hot100 🍻🍻 CJ⁷ | 💜</td>\n",
       "      <td>...</td>\n",
       "      <td>-6.216657128974757,106.83030289065285,10km</td>\n",
       "      <td>NaN</td>\n",
       "      <td>NaN</td>\n",
       "      <td>NaN</td>\n",
       "      <td>NaN</td>\n",
       "      <td>[]</td>\n",
       "      <td>NaN</td>\n",
       "      <td>NaN</td>\n",
       "      <td>NaN</td>\n",
       "      <td>NaN</td>\n",
       "    </tr>\n",
       "    <tr>\n",
       "      <th>4</th>\n",
       "      <td>10578</td>\n",
       "      <td>1228229024528269314</td>\n",
       "      <td>1228229024528269314</td>\n",
       "      <td>2020-02-14 15:06:33 WIB</td>\n",
       "      <td>2020-02-14</td>\n",
       "      <td>15:06:33</td>\n",
       "      <td>700</td>\n",
       "      <td>1069991112</td>\n",
       "      <td>1lleg1irl</td>\n",
       "      <td>LifeGoesOn #1 BB Hot100 🍻🍻 CJ⁷ | 💜</td>\n",
       "      <td>...</td>\n",
       "      <td>-6.216657128974757,106.83030289065285,10km</td>\n",
       "      <td>NaN</td>\n",
       "      <td>NaN</td>\n",
       "      <td>NaN</td>\n",
       "      <td>NaN</td>\n",
       "      <td>[]</td>\n",
       "      <td>NaN</td>\n",
       "      <td>NaN</td>\n",
       "      <td>NaN</td>\n",
       "      <td>NaN</td>\n",
       "    </tr>\n",
       "  </tbody>\n",
       "</table>\n",
       "<p>5 rows × 37 columns</p>\n",
       "</div>"
      ],
      "text/plain": [
       "  Unnamed: 0                   id      conversation_id  \\\n",
       "0       8054  1228273430837026817  1228273430837026817   \n",
       "1       8099  1228272673391697920  1228272673391697920   \n",
       "2       8163  1228271469538336769  1228271469538336769   \n",
       "3       8834  1228260870473388032  1228260870473388032   \n",
       "4      10578  1228229024528269314  1228229024528269314   \n",
       "\n",
       "                created_at        date      time  timezone     user_id  \\\n",
       "0  2020-02-14 18:03:00 WIB  2020-02-14  18:03:00       700  1069991112   \n",
       "1  2020-02-14 18:00:00 WIB  2020-02-14  18:00:00       700  1069991112   \n",
       "2  2020-02-14 17:55:13 WIB  2020-02-14  17:55:13       700  1069991112   \n",
       "3  2020-02-14 17:13:06 WIB  2020-02-14  17:13:06       700  1069991112   \n",
       "4  2020-02-14 15:06:33 WIB  2020-02-14  15:06:33       700  1069991112   \n",
       "\n",
       "    username                                name  ...  \\\n",
       "0  1lleg1irl  LifeGoesOn #1 BB Hot100 🍻🍻 CJ⁷ | 💜  ...   \n",
       "1  1lleg1irl  LifeGoesOn #1 BB Hot100 🍻🍻 CJ⁷ | 💜  ...   \n",
       "2  1lleg1irl  LifeGoesOn #1 BB Hot100 🍻🍻 CJ⁷ | 💜  ...   \n",
       "3  1lleg1irl  LifeGoesOn #1 BB Hot100 🍻🍻 CJ⁷ | 💜  ...   \n",
       "4  1lleg1irl  LifeGoesOn #1 BB Hot100 🍻🍻 CJ⁷ | 💜  ...   \n",
       "\n",
       "                                          geo source user_rt_id user_rt  \\\n",
       "0  -6.216657128974757,106.83030289065285,10km    NaN        NaN     NaN   \n",
       "1  -6.216657128974757,106.83030289065285,10km    NaN        NaN     NaN   \n",
       "2  -6.216657128974757,106.83030289065285,10km    NaN        NaN     NaN   \n",
       "3  -6.216657128974757,106.83030289065285,10km    NaN        NaN     NaN   \n",
       "4  -6.216657128974757,106.83030289065285,10km    NaN        NaN     NaN   \n",
       "\n",
       "  retweet_id reply_to retweet_date  translate  trans_src trans_dest  \n",
       "0        NaN       []          NaN        NaN        NaN        NaN  \n",
       "1        NaN       []          NaN        NaN        NaN        NaN  \n",
       "2        NaN       []          NaN        NaN        NaN        NaN  \n",
       "3        NaN       []          NaN        NaN        NaN        NaN  \n",
       "4        NaN       []          NaN        NaN        NaN        NaN  \n",
       "\n",
       "[5 rows x 37 columns]"
      ]
     },
     "execution_count": 11,
     "metadata": {},
     "output_type": "execute_result"
    }
   ],
   "source": [
    "#melihat sampel 5 data\n",
    "tweet_before_covid_df.head(5)"
   ]
  },
  {
   "cell_type": "markdown",
   "metadata": {},
   "source": [
    "# Text Processing"
   ]
  },
  {
   "cell_type": "markdown",
   "metadata": {},
   "source": [
    "**Melakukan Case Folding**"
   ]
  },
  {
   "cell_type": "markdown",
   "metadata": {},
   "source": [
    "*Case folding* bertujuan untuk mengubah semua huruf dalam sebuah dokumen teks menjadi huruf kecil (lowercase)"
   ]
  },
  {
   "cell_type": "code",
   "execution_count": 12,
   "metadata": {},
   "outputs": [
    {
     "name": "stdout",
     "output_type": "stream",
     "text": [
      "Case Folding Result : \n",
      "\n",
      "0                   😭😭😭😭🤧🤧🤧🤧🤧  https://t.co/0dz2udtzgh\n",
      "1    kalo tatapan bisa membunuh.. matik lo semua.. ...\n",
      "2    ini malaikat pencabut nyawa lagi nyari mangsa ...\n",
      "3    ini b cut cem gini??? *mimisan*kenapa ga ada e...\n",
      "4        baru kemaren we makan beginian.. woohooooo...\n",
      "Name: tweet, dtype: object\n",
      "\n",
      "\n",
      "\n",
      "\n"
     ]
    }
   ],
   "source": [
    "# ------ Case Folding --------\n",
    "# gunakan fungsi Series.str.lower() pada Pandas\n",
    "tweet_before_covid_df['tweet'] = tweet_before_covid_df['tweet'].str.lower()\n",
    "\n",
    "\n",
    "print('Case Folding Result : \\n')\n",
    "print(tweet_before_covid_df['tweet'].head(5))\n",
    "print('\\n\\n\\n')"
   ]
  },
  {
   "cell_type": "markdown",
   "metadata": {},
   "source": [
    "**Tokenizing**"
   ]
  },
  {
   "cell_type": "markdown",
   "metadata": {},
   "source": [
    "*Tokenizing* adalah operasi memisahkan teks menjadi potongan-potongan berupa token, bisa berupa potongan huruf, kata, atau kalimat, sebelum dianalisis lebih lanjut. Entitas yang bisa disebut sebagai token misalnya kata, angka, simbol, tanda baca, dan lain sebagainya"
   ]
  },
  {
   "cell_type": "code",
   "execution_count": 13,
   "metadata": {},
   "outputs": [
    {
     "name": "stdout",
     "output_type": "stream",
     "text": [
      "Tokenizing Result : \n",
      "\n",
      "0                                                   []\n",
      "1    [kalo, tatapan, bisa, membunuh, matik, lo, semua]\n",
      "2    [ini, malaikat, pencabut, nyawa, lagi, nyari, ...\n",
      "3    [ini, cut, cem, gini, mimisankenapa, ga, ada, ...\n",
      "4      [baru, kemaren, we, makan, beginian, woohooooo]\n",
      "Name: tweet_tokens, dtype: object\n",
      "\n",
      "\n",
      "\n",
      "\n"
     ]
    }
   ],
   "source": [
    "# ------ Tokenizing ---------\n",
    "def remove_tweet_special(text):\n",
    "    # remove tab, new line, ans back slice\n",
    "    text = text.replace('\\\\t',\" \").replace('\\\\n',\" \").replace('\\\\u',\" \").replace('\\\\',\"\")\n",
    "    # remove non ASCII (emoticon, .etc)\n",
    "    text = text.encode('ascii', 'replace').decode('ascii')\n",
    "    # remove mention, link, hashtag\n",
    "    text = ' '.join(re.sub(\"([@#][A-Za-z0-9]+)|(\\w+:\\/\\/\\S+)\",\" \", text).split())\n",
    "    # remove incomplete URL\n",
    "    return text.replace(\"http://\", \" \").replace(\"https://\", \" \")\n",
    "                \n",
    "tweet_before_covid_df['tweet'] = tweet_before_covid_df['tweet'].apply(remove_tweet_special)\n",
    "\n",
    "#remove number\n",
    "def remove_number(text):\n",
    "    return  re.sub(r\"\\d+\", \"\", text)\n",
    "\n",
    "tweet_before_covid_df['tweet'] = tweet_before_covid_df['tweet'].apply(remove_number)\n",
    "\n",
    "#remove punctuation\n",
    "def remove_punctuation(text):\n",
    "    return text.translate(str.maketrans(\"\",\"\",string.punctuation))\n",
    "\n",
    "tweet_before_covid_df['tweet'] = tweet_before_covid_df['tweet'].apply(remove_punctuation)\n",
    "\n",
    "#remove whitespace leading & trailing\n",
    "def remove_whitespace_LT(text):\n",
    "    return text.strip()\n",
    "\n",
    "tweet_before_covid_df['tweet'] = tweet_before_covid_df['tweet'].apply(remove_whitespace_LT)\n",
    "\n",
    "#remove multiple whitespace into single whitespace\n",
    "def remove_whitespace_multiple(text):\n",
    "    return re.sub('\\s+',' ',text)\n",
    "\n",
    "tweet_before_covid_df['tweet'] = tweet_before_covid_df['tweet'].apply(remove_whitespace_multiple)\n",
    "\n",
    "# remove single char\n",
    "def remove_singl_char(text):\n",
    "    return re.sub(r\"\\b[a-zA-Z]\\b\", \"\", text)\n",
    "\n",
    "tweet_before_covid_df['tweet'] = tweet_before_covid_df['tweet'].apply(remove_singl_char)\n",
    "\n",
    "# NLTK word rokenize \n",
    "def word_tokenize_wrapper(text):\n",
    "    return word_tokenize(text)\n",
    "\n",
    "tweet_before_covid_df['tweet_tokens'] = tweet_before_covid_df['tweet'].apply(word_tokenize_wrapper)\n",
    "\n",
    "print('Tokenizing Result : \\n') \n",
    "print(tweet_before_covid_df['tweet_tokens'].head())\n",
    "print('\\n\\n\\n')"
   ]
  },
  {
   "cell_type": "markdown",
   "metadata": {},
   "source": [
    "**Menghitung Frekwensi**"
   ]
  },
  {
   "cell_type": "markdown",
   "metadata": {},
   "source": [
    "Melakukan perhitungan frekuensi distribusi token pada tiap row data pada Dataframe "
   ]
  },
  {
   "cell_type": "code",
   "execution_count": 14,
   "metadata": {},
   "outputs": [
    {
     "name": "stdout",
     "output_type": "stream",
     "text": [
      "Frequency Tokens : \n",
      "\n",
      "0                                                   []\n",
      "1    [(kalo, 1), (tatapan, 1), (bisa, 1), (membunuh...\n",
      "2    [(ini, 1), (malaikat, 1), (pencabut, 1), (nyaw...\n",
      "3    [(ini, 1), (cut, 1), (cem, 1), (gini, 1), (mim...\n",
      "4    [(baru, 1), (kemaren, 1), (we, 1), (makan, 1),...\n",
      "Name: tweet_tokens_fdist, dtype: object\n"
     ]
    }
   ],
   "source": [
    "# NLTK calc frequency distribution\n",
    "def freqDist_wrapper(text):\n",
    "    return FreqDist(text)\n",
    "\n",
    "tweet_before_covid_df['tweet_tokens_fdist'] = tweet_before_covid_df['tweet_tokens'].apply(freqDist_wrapper)\n",
    "\n",
    "print('Frequency Tokens : \\n') \n",
    "print(tweet_before_covid_df['tweet_tokens_fdist'].head().apply(lambda x : x.most_common()))"
   ]
  },
  {
   "cell_type": "markdown",
   "metadata": {},
   "source": [
    "**Filtering (Stopword Removal)**"
   ]
  },
  {
   "cell_type": "markdown",
   "metadata": {},
   "source": [
    "Menghilangkan kata umum (*common words*) yang biasanya muncul dalam jumlah besar dan dianggap tidak memiliki makna."
   ]
  },
  {
   "cell_type": "code",
   "execution_count": 15,
   "metadata": {},
   "outputs": [
    {
     "name": "stdout",
     "output_type": "stream",
     "text": [
      "0                                                 []\n",
      "1                         [tatapan, membunuh, matik]\n",
      "2         [malaikat, pencabut, nyawa, nyari, mangsa]\n",
      "3    [cut, cem, gini, mimisankenapa, emoji, mimisan]\n",
      "4                        [kemaren, makan, woohooooo]\n",
      "Name: tweet_tokens_WSW, dtype: object\n"
     ]
    }
   ],
   "source": [
    "from nltk.corpus import stopwords\n",
    "# ----------------------- get stopword from NLTK stopword -------------------------------\n",
    "# get stopword indonesia\n",
    "list_stopwords = stopwords.words('indonesian')\n",
    "\n",
    "\n",
    "# ---------------------------- manualy add stopword  ------------------------------------\n",
    "# append additional stopword\n",
    "list_stopwords.extend([\"yg\", \"dg\", \"rt\", \"dgn\", \"ny\", \"d\", 'klo', \n",
    "                       'kalo', 'amp', 'biar', 'bikin', 'bilang', \n",
    "                       'gak', 'ga', 'krn', 'nya', 'nih', 'sih', \n",
    "                       'si', 'tau', 'tdk', 'tuh', 'utk', 'ya', \n",
    "                       'jd', 'jgn', 'sdh', 'aja', 'n', 't', \n",
    "                       'nyg', 'hehe', 'pen', 'u', 'nan', 'loh', 'rt',\n",
    "                       '&amp', 'yah', 'sudah', 'benar', 'sampai', 'kayak',\n",
    "                       'engga','banget', 'memang', 'pakai', 'hahaha', 'pas', \n",
    "                       'ya', 'gua', 'gue', 'ya', 'memang', 'bang', 'ku', 'doang',\n",
    "                      'begini', 'coba', 'sudah', 'pakai', 'sama', 'aku', 'pengin',\n",
    "                      'kaya', 'kemarin',])\n",
    "\n",
    "# ----------------------- add stopword from txt file ------------------------------------\n",
    "# read txt stopword using pandas\n",
    "txt_stopword = pd.read_csv(\"stopwords.txt\", names= [\"stopwords\"], header = None)\n",
    "\n",
    "# convert stopword string to list & append additional stopword\n",
    "list_stopwords.extend(txt_stopword[\"stopwords\"][0].split(' '))\n",
    "\n",
    "# ---------------------------------------------------------------------------------------\n",
    "\n",
    "# convert list to dictionary\n",
    "list_stopwords = set(list_stopwords)\n",
    "\n",
    "\n",
    "#remove stopword pada list token\n",
    "def stopwords_removal(words):\n",
    "    return [word for word in words if word not in list_stopwords]\n",
    "\n",
    "tweet_before_covid_df['tweet_tokens_WSW'] = tweet_before_covid_df['tweet_tokens'].apply(stopwords_removal) \n",
    "\n",
    "\n",
    "print(tweet_before_covid_df['tweet_tokens_WSW'].head())"
   ]
  },
  {
   "cell_type": "markdown",
   "metadata": {},
   "source": [
    "**Normalization**"
   ]
  },
  {
   "cell_type": "markdown",
   "metadata": {},
   "source": [
    "Normalization digunakan untuk menyeragamkan term yang memiliki makna sama namun penulisanya berbeda, bisa diakibatkan kesalahan penulisan, penyingkatan kata, ataupun “bahasa gaul”."
   ]
  },
  {
   "cell_type": "code",
   "execution_count": 16,
   "metadata": {},
   "outputs": [
    {
     "data": {
      "text/plain": [
       "0                                                   []\n",
       "1                           [tatapan, membunuh, matik]\n",
       "2         [malaikat, pencabut, nyawa, mencari, mangsa]\n",
       "3    [cut, macam, begini, mimisankenapa, emoji, mim...\n",
       "4                          [kemarin, makan, woohooooo]\n",
       "5                            [wadawww, grand, central]\n",
       "6                                     [katalk, dibuka]\n",
       "7                                           [taehyung]\n",
       "8                 [jadikan, bts, model, iklan, bighit]\n",
       "9                             [anak, mamah, tahun, sd]\n",
       "Name: tweet_normalized, dtype: object"
      ]
     },
     "execution_count": 16,
     "metadata": {},
     "output_type": "execute_result"
    }
   ],
   "source": [
    "normalizad_word = pd.read_csv(\"colloquial-indonesian-lexicon.csv\")\n",
    "\n",
    "normalizad_word_dict = {}\n",
    "\n",
    "for index, row in normalizad_word.iterrows():\n",
    "    if row[0] not in normalizad_word_dict:\n",
    "        normalizad_word_dict[row[0]] = row[1] \n",
    "\n",
    "def normalized_term(document):\n",
    "    return [normalizad_word_dict[term] if term in normalizad_word_dict else term for term in document]\n",
    "\n",
    "tweet_before_covid_df['tweet_normalized'] = tweet_before_covid_df['tweet_tokens_WSW'].apply(normalized_term)\n",
    "\n",
    "tweet_before_covid_df['tweet_normalized'].head(10)"
   ]
  },
  {
   "cell_type": "markdown",
   "metadata": {},
   "source": [
    "**Stemming**"
   ]
  },
  {
   "cell_type": "markdown",
   "metadata": {},
   "source": [
    "Function stemmer dari library Sastrawi untuk mengembalikan kata kebentuk dasarnya. Karena fungsi stemmer.stem() pada library Sastrawi lambat, kita dapat menggunakan library swifter untuk mempercepat froses stemming pada Dataframe dengan menjalankan task secara parallel. Kecepatan pemrosesan bisa dua kali bahkan lebih cepat jika tanpa menggunakan swifter. Hal ini bergantung pada jumlah core yang dimiliki oleh komputer yang kita gunakan, defaultnya akan digunakan npartitions = cpu_count()*2."
   ]
  },
  {
   "cell_type": "code",
   "execution_count": null,
   "metadata": {},
   "outputs": [],
   "source": [
    "\n",
    "# import Sastrawi package\n",
    "from Sastrawi.Stemmer.StemmerFactory import StemmerFactory\n",
    "import swifter\n",
    "\n",
    "\n",
    "# create stemmer\n",
    "factory = StemmerFactory()\n",
    "stemmer = factory.create_stemmer()\n",
    "\n",
    "# stemmed\n",
    "def stemmed_wrapper(term):\n",
    "    return stemmer.stem(term)\n",
    "\n",
    "term_dict = {}\n",
    "\n",
    "for document in tweet_before:\n",
    "    for term in document:\n",
    "        if term not in term_dict:\n",
    "            term_dict[term] = ' '\n",
    "            \n",
    "print(len(term_dict))\n",
    "print(\"------------------------\")\n",
    "\n",
    "for term in term_dict:\n",
    "    term_dict[term] = stemmed_wrapper(term)\n",
    "    print(term,\":\" ,term_dict[term])\n",
    "    \n",
    "print(term_dict)\n",
    "print(\"------------------------\")\n",
    "\n",
    "\n",
    "# apply stemmed term to dataframe\n",
    "def get_stemmed_term(document):\n",
    "    return [term_dict[term] for term in document]\n",
    "\n",
    "tweet_before_covid_df['tweet_tokens_stemmed'] = tweet_before_covid_df['tweet_normalized'].swifter.apply(get_stemmed_term)\n",
    "print(tweet_before_covid_df['tweet_tokens_stemmed'])\n",
    "\n",
    "#save to csv\n",
    "tweet_before_covid_df['tweet_tokens_stemmed'].to_csv('output/before_covid.csv')"
   ]
  },
  {
   "cell_type": "markdown",
   "metadata": {},
   "source": [
    "**Menampilkan WordCloud**"
   ]
  },
  {
   "cell_type": "markdown",
   "metadata": {},
   "source": [
    "Membuat file penyimpanan hasil normalisasi ke **teks_str_before_covid.txt**"
   ]
  },
  {
   "cell_type": "code",
   "execution_count": 22,
   "metadata": {},
   "outputs": [],
   "source": [
    "import os\n",
    "\n",
    "#create folder data before covid-19\n",
    "if not os.path.exists('output/teks_str_before_covid.txt'):\n",
    "    f= open(\"output/teks_str_before_covid.txt\",\"w+\")"
   ]
  },
  {
   "cell_type": "markdown",
   "metadata": {},
   "source": [
    "Membuat fungsi untuk menggabungkan list menjadi string"
   ]
  },
  {
   "cell_type": "code",
   "execution_count": 23,
   "metadata": {},
   "outputs": [],
   "source": [
    "def listToString(s): \n",
    "    \n",
    "    str = ', '.join(s)\n",
    "    \n",
    "    return str"
   ]
  },
  {
   "cell_type": "markdown",
   "metadata": {},
   "source": [
    "Memanggil fungsi untuk konversi list ke bentuk string"
   ]
  },
  {
   "cell_type": "code",
   "execution_count": 24,
   "metadata": {},
   "outputs": [],
   "source": [
    "tweets_string = []\n",
    "\n",
    "for i, row in tweet_before_covid_df['tweet_normalized'].iteritems():\n",
    "    str = listToString(row)\n",
    "    #tweets_string.append(str)\n",
    "    f=open(\"output/teks_str_before_covid.txt\", \"a+\")\n",
    "    f.write(\" {}\".format(str))"
   ]
  },
  {
   "cell_type": "code",
   "execution_count": 25,
   "metadata": {},
   "outputs": [],
   "source": [
    "with open('output/teks_str_before_covid.txt', 'r') as file:\n",
    "    data = file.read().replace('\\n', '')"
   ]
  },
  {
   "cell_type": "code",
   "execution_count": 37,
   "metadata": {},
   "outputs": [],
   "source": [
    "data = data.replace(\"memang\", \"\");\n",
    "data = data.replace(\"enggak\", \"\");\n",
    "data = data.replace(\"saja\", \"\");\n",
    "data = data.replace(\"belum\", \"\");\n",
    "data = data.replace(\"sudah\", \"\");\n",
    "data = data.replace(\"pakai\", \"\");\n",
    "data = data.replace(\"sampai\", \"\");\n",
    "data = data.replace(\"sama\", \"\");\n",
    "data = data.replace(\"begini\", \"\");\n",
    "data = data.replace(\"kok\", \"\");\n",
    "data = data.replace(\"ya\", \"\");\n",
    "data = data.replace(\"ada\", \"\");\n",
    "data = data.replace(\"aku\", \"\");\n",
    "data = data.replace(\"tau\", \"\");\n",
    "data = data.replace(\"dapat\", \"\");\n",
    "data = data.replace(\"pengin\", \"\");\n",
    "data = data.replace(\"anjir\", \"\");"
   ]
  },
  {
   "cell_type": "markdown",
   "metadata": {},
   "source": [
    "Menampilkan wordcloud"
   ]
  },
  {
   "cell_type": "code",
   "execution_count": 42,
   "metadata": {},
   "outputs": [
    {
     "data": {
      "image/png": "[encoded data removed]",
      "text/plain": [
       "<Figure size 432x288 with 1 Axes>"
      ]
     },
     "metadata": {
      "needs_background": "light"
     },
     "output_type": "display_data"
    }
   ],
   "source": [
    "wc = WordCloud(background_color=\"white\", max_words=100,\n",
    "               stopwords=STOPWORDS, max_font_size=256,\n",
    "               random_state=42, width=1000, height=1000)\n",
    "wc.generate(data)\n",
    "plt.imshow(wc, interpolation=\"bilinear\")\n",
    "plt.axis('off')\n",
    "plt.show()"
   ]
  },
  {
   "cell_type": "code",
   "execution_count": null,
   "metadata": {},
   "outputs": [],
   "source": []
  }
 ],
 "metadata": {
  "kernelspec": {
   "display_name": "Python 3",
   "language": "python",
   "name": "python3"
  },
  "language_info": {
   "codemirror_mode": {
    "name": "ipython",
    "version": 3
   },
   "file_extension": ".py",
   "mimetype": "text/x-python",
   "name": "python",
   "nbconvert_exporter": "python",
   "pygments_lexer": "ipython3",
   "version": "3.7.6"
  }
 },
 "nbformat": 4,
 "nbformat_minor": 4
}

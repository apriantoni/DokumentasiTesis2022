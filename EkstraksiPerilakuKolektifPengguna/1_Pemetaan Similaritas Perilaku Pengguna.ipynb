{
  "nbformat": 4,
  "nbformat_minor": 0,
  "metadata": {
    "kernelspec": {
      "display_name": "Python 3",
      "language": "python",
      "name": "python3"
    },
    "language_info": {
      "codemirror_mode": {
        "name": "ipython",
        "version": 3
      },
      "file_extension": ".py",
      "mimetype": "text/x-python",
      "name": "python",
      "nbconvert_exporter": "python",
      "pygments_lexer": "ipython3",
      "version": "3.7.6"
    },
    "colab": {
      "name": "Task_6_Semantic_Behavior_Pattern.ipynb",
      "provenance": [],
      "collapsed_sections": [
        "V7NzmvJKnkEb",
        "BHt282217-OO",
        "9M_dvh9hkhn1",
        "9XbO_qKIk_9v"
      ]
    }
  },
  "cells": [
    {
      "cell_type": "markdown",
      "source": [
        "## Pemetaan Hubungan Perilaku antar Pengguna"
      ],
      "metadata": {
        "id": "bzG5LENGnCng"
      }
    },
    {
      "cell_type": "markdown",
      "source": [
        "### Library yang Dibutuhkan"
      ],
      "metadata": {
        "id": "V7NzmvJKnkEb"
      }
    },
    {
      "cell_type": "markdown",
      "source": [
        "Melakukan import library yang dibutuhkan"
      ],
      "metadata": {
        "id": "wEpnWrc3oZbI"
      }
    },
    {
      "cell_type": "code",
      "source": [
        "pip install association-metrics"
      ],
      "metadata": {
        "id": "JzdHNZN9mtJ6",
        "colab": {
          "base_uri": "https://localhost:8080/"
        },
        "outputId": "ee13f39b-a00e-42ba-f109-ed957f2af49f"
      },
      "execution_count": null,
      "outputs": [
        {
          "output_type": "stream",
          "name": "stdout",
          "text": [
            "Requirement already satisfied: association-metrics in /usr/local/lib/python3.7/dist-packages (0.0.1)\n"
          ]
        }
      ]
    },
    {
      "cell_type": "code",
      "metadata": {
        "id": "ePLKqK5k2xIf"
      },
      "source": [
        "import pickle\n",
        "import pandas as pd\n",
        "import numpy as np\n",
        "import matplotlib.pyplot as plt\n",
        "import seaborn as sns\n",
        "import collections\n",
        "import scipy.stats as scp\n",
        "import association_metrics as am\n",
        "\n",
        "from sklearn.preprocessing import LabelEncoder \n",
        "from collections import OrderedDict\n",
        "from scipy.stats import chisquare\n",
        "from sklearn.feature_selection import chi2"
      ],
      "execution_count": null,
      "outputs": []
    },
    {
      "cell_type": "markdown",
      "source": [
        "Melakukan koneksi sumber data ke Google Drive"
      ],
      "metadata": {
        "id": "x0KDfeMgj-Ro"
      }
    },
    {
      "cell_type": "code",
      "metadata": {
        "colab": {
          "base_uri": "https://localhost:8080/"
        },
        "id": "zVpHRnAk4AR4",
        "outputId": "dfe5504e-92f3-4de4-9997-3a07d82eb79b"
      },
      "source": [
        "from google.colab import drive\n",
        "drive.mount('/content/drive')"
      ],
      "execution_count": null,
      "outputs": [
        {
          "output_type": "stream",
          "name": "stdout",
          "text": [
            "Drive already mounted at /content/drive; to attempt to forcibly remount, call drive.mount(\"/content/drive\", force_remount=True).\n"
          ]
        }
      ]
    },
    {
      "cell_type": "markdown",
      "source": [
        "### Load Data Periode Sebelum dan Setelah COVID-19"
      ],
      "metadata": {
        "id": "BHt282217-OO"
      }
    },
    {
      "cell_type": "markdown",
      "source": [
        "Melakukan load data pengguna aktif pada periode sebelum dan setelah COVID-19"
      ],
      "metadata": {
        "id": "PFP4THjmkMiH"
      }
    },
    {
      "cell_type": "code",
      "metadata": {
        "id": "cBxe6zhX2xIl"
      },
      "source": [
        "#before covid\n",
        "data_df = pd.read_csv('/content/drive/MyDrive/Thesis/output/4_07022022_noncovid_ekstraksi_variabel_perilaku.csv')\n",
        "\n",
        "#after covid\n",
        "#data_df = pd.read_csv('/content/drive/MyDrive/Thesis/output/4_07022022_covid_ekstraksi_variabel_perilaku.csv')"
      ],
      "execution_count": null,
      "outputs": []
    },
    {
      "cell_type": "markdown",
      "source": [
        "Menghitung jumlah data penggun aktif"
      ],
      "metadata": {
        "id": "1OsxHyO3kR3R"
      }
    },
    {
      "cell_type": "code",
      "metadata": {
        "id": "T4ckz4R02xIl",
        "colab": {
          "base_uri": "https://localhost:8080/"
        },
        "outputId": "7b3440ef-1ec3-4be6-90a9-a03d90364fd9"
      },
      "source": [
        "len(data_df)"
      ],
      "execution_count": null,
      "outputs": [
        {
          "output_type": "execute_result",
          "data": {
            "text/plain": [
              "23647"
            ]
          },
          "metadata": {},
          "execution_count": 44
        }
      ]
    },
    {
      "cell_type": "markdown",
      "source": [
        "### Konversi dan Perhitungan Populasitas Pengguna berdasarkan Tweet"
      ],
      "metadata": {
        "id": "9M_dvh9hkhn1"
      }
    },
    {
      "cell_type": "markdown",
      "source": [
        "Melakukan konvert kolom label emosi ke dalam bentuk Integer"
      ],
      "metadata": {
        "id": "TYov1GLYCi3I"
      }
    },
    {
      "cell_type": "code",
      "source": [
        "#labelencoder= LabelEncoder() #initializing an object of class LabelEncoder\n",
        "#data_df['emotion'] = labelencoder.fit_transform(data_df['emotion']) #fitting and transforming the desired categorical column.\n",
        "\n",
        "#data_df = data_df.replace(to_replace =\"anger\", value = 1)\n",
        "#data_df = data_df.replace(to_replace =\"happy\", value = 2)\n",
        "#data_df = data_df.replace(to_replace =\"sadness\", value = 3)\n",
        "#data_df = data_df.replace(to_replace =\"fear\", value = 4)\n",
        "#data_df = data_df.replace(to_replace =\"love\", value = 5)"
      ],
      "metadata": {
        "id": "AMRK2rScCn4G"
      },
      "execution_count": null,
      "outputs": []
    },
    {
      "cell_type": "markdown",
      "source": [
        "Menentukan tweet popularitas berdasarkan jumlah like, jumlah retweet dan jumlah reply"
      ],
      "metadata": {
        "id": "N3136HMu8At3"
      }
    },
    {
      "cell_type": "code",
      "source": [
        "data_df['replies_count'].replace(to_replace = '-6.216657128974757,106.83030289065285,10km', value = 0, inplace = True)\n",
        "\n",
        "data_df['likes_count'] = data_df['likes_count'].fillna(0).astype(int)\n",
        "data_df['replies_count'] = data_df['replies_count'].fillna(0).astype(int)\n",
        "data_df['retweets_count'] = data_df['retweets_count'].fillna(0).astype(int)\n",
        "#data_df['emotion'] = data_df['emotion'].fillna(0).astype(int)\n",
        "\n",
        "tweet_popularity_label = []\n",
        "\n",
        "for i, data in data_df.iterrows():\n",
        "  tweet_popularity = (data['replies_count'] + data['likes_count'] + data['retweets_count'])\n",
        "\n",
        "  tweet_popularity_label.append(tweet_popularity)\n",
        "\n",
        "data_df['tweet_popularity'] = tweet_popularity_label"
      ],
      "metadata": {
        "id": "nqVrTq_H78Wa"
      },
      "execution_count": null,
      "outputs": []
    },
    {
      "cell_type": "markdown",
      "source": [
        "Menampilkan jumlah pengguna aktif berdasarkan hasi perhitungan popularitas tweet"
      ],
      "metadata": {
        "id": "o9cbQbUCk55Q"
      }
    },
    {
      "cell_type": "code",
      "metadata": {
        "id": "xS68EQCD2xIo"
      },
      "source": [
        "users = data_df['username'].unique().tolist()"
      ],
      "execution_count": null,
      "outputs": []
    },
    {
      "cell_type": "code",
      "source": [
        "#data_df['cluster'][data_df.tweet_id == 1227612537065074688] = 2\n",
        "#data_df['cluster'][data_df.tweet_id == 1227439087528882178] = 2\n",
        "#data_df['cluster'][data_df.tweet_id == 1226368440966897664] = 2\n",
        "#data_df['cluster'][data_df.tweet_id == 1226368286054502402] = 2\n",
        "\n",
        "data_df = data_df.loc[:, ~data_df.columns.str.contains('^Unnamed')]"
      ],
      "metadata": {
        "id": "V5u5PJhAvVRM"
      },
      "execution_count": null,
      "outputs": []
    },
    {
      "cell_type": "markdown",
      "source": [
        "### Melakukan Pemetaan Similaritas Perilaku"
      ],
      "metadata": {
        "id": "9XbO_qKIk_9v"
      }
    },
    {
      "cell_type": "markdown",
      "source": [
        "Melakukan deklarasi persamaan Cramer's V"
      ],
      "metadata": {
        "id": "SP-860QDlFnG"
      }
    },
    {
      "cell_type": "code",
      "source": [
        "#def cramers_V(var1, var2) :\n",
        "#  crosstab =np.array(pd.crosstab(var1, var2, rownames=None, colnames=None)) # Cross table building\n",
        "#  stat = scp.chi2_contingency(crosstab)[0] # Keeping of the test statistic of the Chi2 test\n",
        "#  obs = np.sum(crosstab) # Number of observations\n",
        "#  mini = min(crosstab.shape)-1 # Take the minimum value between the columns and the rows of the cross table\n",
        "  \n",
        " # return (stat/(obs*mini))"
      ],
      "metadata": {
        "id": "q0nk2BsdfkiO"
      },
      "execution_count": null,
      "outputs": []
    },
    {
      "cell_type": "markdown",
      "source": [
        "Melakukan proses pemetaan perilaku dari kombinasi pengguna aktif berdasarkan Persamaan Cramer's V"
      ],
      "metadata": {
        "id": "PdoHjJKhlK25"
      }
    },
    {
      "cell_type": "code",
      "metadata": {
        "id": "gLkmrNa_2xIo",
        "colab": {
          "base_uri": "https://localhost:8080/"
        },
        "outputId": "c82216ce-5957-4e45-dd21-9d1917d66bfb"
      },
      "source": [
        "#from scipy.stats import pearsonr\n",
        "\n",
        "relation_data = []\n",
        "\n",
        "for vi in users:\n",
        "    for vj in users:\n",
        "        if vi != vj:\n",
        "            data_vi = data_df[data_df['username'] == vi]\n",
        "            data_vj = data_df[data_df['username'] == vj]\n",
        "            \n",
        "            len_data = min(len(data_vi),len(data_vj))\n",
        "\n",
        "            if len_data > 100:\n",
        "            #if len_data > 50:\n",
        "              #seleksi data berdasarkan tingginya popularitas jumlah like, jumlah retweet dan jumlah reply\n",
        "              final_data_vi = data_vi.sort_values(by=['tweet_popularity'], ascending=False).head(len_data)\n",
        "              final_data_vj = data_vj.sort_values(by=['tweet_popularity'], ascending=False).head(len_data)\n",
        "\n",
        "              behavior_df = pd.DataFrame()\n",
        "              behavior_df['cluster_user1'] = final_data_vi['cluster'].tolist()\n",
        "              behavior_df['emotion_user1'] = final_data_vi['emotion'].tolist()\n",
        "\n",
        "              behavior_df['cluster_user2'] = final_data_vj['cluster'].tolist()\n",
        "              behavior_df['emotion_user2'] = final_data_vj['emotion'].tolist()\n",
        "\n",
        "              #convert column to str\n",
        "              behavior_df['cluster_user1'] = behavior_df['cluster_user1'].values.astype(str)\n",
        "              behavior_df['cluster_user2'] = behavior_df['cluster_user2'].values.astype(str)\n",
        "              #behavior_df['topic_predict_user1'] = behavior_df['topic_predict_user1'].values.astype(str)\n",
        "              #behavior_df['topic_predict_user2'] = behavior_df['topic_predict_user2'].values.astype(str)\n",
        "\n",
        "              # Convert you str columns to Category columns\n",
        "              behavior_df = behavior_df.apply(\n",
        "                                lambda x: x.astype(\"category\") if x.dtype == \"O\" else x)\n",
        "              \n",
        "              #topic_corr = cramers_V(behavior_df['cluster_user1'], behavior_df['cluster_user2'])\n",
        "              #emotion_corr = cramers_V(behavior_df['emotion_user1'], behavior_df['emotion_user2'])\n",
        "\n",
        "              # Initialize a CamresV object using you pandas.DataFrame\n",
        "              \n",
        "              #topic\n",
        "              try:\n",
        "                topic_cramersv = am.CramersV(behavior_df[['cluster_user1', 'cluster_user2']])\n",
        "                #topic_corr = cramers_V(behavior_df[['cluster_user1', 'cluster_user2']])\n",
        "                # will return a pairwise matrix filled with Cramer's V, where columns and index are \n",
        "                # the categorical variables of the passed pandas.DataFrame\n",
        "                topic_corr = topic_cramersv.fit()\n",
        "                topic_corr = topic_corr.iloc[0, 1]\n",
        "              except:\n",
        "                topic_corr = 0\n",
        "                #print(\"{}-{}\".format(vi, vj))\n",
        "\n",
        "              #emotion\n",
        "              try:\n",
        "                emotion_cramersv = am.CramersV(behavior_df[['emotion_user1', 'emotion_user2']])\n",
        "                #emotion_corr = cramers_V(behavior_df[['emotion_user1', 'emotion_user2']])\n",
        "                # will return a pairwise matrix filled with Cramer's V, where columns and index are \n",
        "                # the categorical variables of the passed pandas.DataFrame\n",
        "                emotion_corr = emotion_cramersv.fit()\n",
        "                emotion_corr = emotion_corr.iloc[0, 1]\n",
        "              except:\n",
        "                emotion_corr = 0\n",
        "                #print(\"emotion\")\n",
        "              \n",
        "              if topic_corr > 0.25 or emotion_corr > 0.25:\n",
        "              #if topic_corr > 0.25 and emotion_corr > 0.25:\n",
        "                  similarity_variable = max(topic_corr, emotion_corr)\n",
        "                  if(similarity_variable == topic_corr):\n",
        "                      relation_data.append([vi, len(data_vi), vj, len(data_vj), topic_corr, \"topic\"])\n",
        "                  elif (similarity_variable == emotion_corr):\n",
        "                      relation_data.append([vi, len(data_vi), vj, len(data_vj), emotion_corr, \"emotion\"])\n",
        "                  #relation_data.append([vi, len(data_vi), vj, len(data_vj), emotion_corr, topic_corr])"
      ],
      "execution_count": null,
      "outputs": [
        {
          "output_type": "stream",
          "name": "stderr",
          "text": [
            "/usr/local/lib/python3.7/dist-packages/pandas/core/reshape/pivot.py:188: SettingWithCopyWarning: \n",
            "A value is trying to be set on a copy of a slice from a DataFrame.\n",
            "Try using .loc[row_indexer,col_indexer] = value instead\n",
            "\n",
            "See the caveats in the documentation: https://pandas.pydata.org/pandas-docs/stable/user_guide/indexing.html#returning-a-view-versus-a-copy\n",
            "  agged[v] = maybe_downcast_to_dtype(agged[v], data[v].dtype)\n"
          ]
        }
      ]
    },
    {
      "cell_type": "code",
      "metadata": {
        "id": "8EehW4T10jKk",
        "colab": {
          "base_uri": "https://localhost:8080/"
        },
        "outputId": "fe9b821f-479c-4ec9-9632-9251728b14d6"
      },
      "source": [
        "len(relation_data)"
      ],
      "execution_count": null,
      "outputs": [
        {
          "output_type": "execute_result",
          "data": {
            "text/plain": [
              "634"
            ]
          },
          "metadata": {},
          "execution_count": 50
        }
      ]
    },
    {
      "cell_type": "markdown",
      "source": [
        "### Konversi Hasil Pemetaan Similaritas Perilaku Pengguna"
      ],
      "metadata": {
        "id": "3zLW1ertlVa9"
      }
    },
    {
      "cell_type": "markdown",
      "source": [
        "Melakukan konversi hasil pemetaan similaritas perilaku ke dalam sebuah tabel DataFrame"
      ],
      "metadata": {
        "id": "Y9ZKfoo-lbrd"
      }
    },
    {
      "cell_type": "code",
      "source": [
        "result_data = pd.DataFrame(relation_data, columns=['from_user', 'from_user_tweet_number', 'to_user', 'to_user_tweet_number', 'relation_value', 'relation_type'])"
      ],
      "metadata": {
        "id": "7Razr37fUDxP"
      },
      "execution_count": null,
      "outputs": []
    },
    {
      "cell_type": "code",
      "source": [
        "labelencoder= LabelEncoder() #initializing an object of class LabelEncoder\n",
        "result_data['from_user_alias'] = result_data['from_user']\n",
        "result_data['from_user_alias'] = labelencoder.fit_transform(result_data['from_user_alias']) \n",
        "#fitting and transforming the desired categorical column."
      ],
      "metadata": {
        "id": "uzibgW5-T7IQ"
      },
      "execution_count": null,
      "outputs": []
    },
    {
      "cell_type": "markdown",
      "source": [
        "Menampilkan hasil similaritas perilaku pengguna"
      ],
      "metadata": {
        "id": "lN7Vm94RljOl"
      }
    },
    {
      "cell_type": "code",
      "source": [
        "result_data"
      ],
      "metadata": {
        "id": "iIceiQTEUrUx",
        "colab": {
          "base_uri": "https://localhost:8080/",
          "height": 423
        },
        "outputId": "651ba43e-3e00-4384-834a-9d5bcc378230"
      },
      "execution_count": null,
      "outputs": [
        {
          "output_type": "execute_result",
          "data": {
            "text/plain": [
              "       from_user  from_user_tweet_number         to_user  \\\n",
              "0       3le4n012                     235         cyfranz   \n",
              "1       3le4n012                     235        isar____   \n",
              "2       3le4n012                     235    jodi_wirawan   \n",
              "3       3le4n012                     235    lisasarilisa   \n",
              "4       3le4n012                     235       migumogu_   \n",
              "..           ...                     ...             ...   \n",
              "629  yuliani2907                     130   cagubnyinyir2   \n",
              "630  yuliani2907                     130    kwonfire3424   \n",
              "631  yuliani2907                     130  lovelyndelight   \n",
              "632  yuliani2907                     130       m_jahroni   \n",
              "633  yuliani2907                     130        tatatrst   \n",
              "\n",
              "     to_user_tweet_number  relation_value relation_type  from_user_alias  \n",
              "0                     101        0.274448         topic                0  \n",
              "1                     146        0.254276         topic                0  \n",
              "2                     170        0.290601         topic                0  \n",
              "3                     103        0.361930         topic                0  \n",
              "4                     168        0.273407         topic                0  \n",
              "..                    ...             ...           ...              ...  \n",
              "629                   300        0.259802       emotion               97  \n",
              "630                   155        0.278908       emotion               97  \n",
              "631                   296        0.275543         topic               97  \n",
              "632                   274        0.267136         topic               97  \n",
              "633                   119        0.280380         topic               97  \n",
              "\n",
              "[634 rows x 7 columns]"
            ],
            "text/html": [
              "\n",
              "  <div id=\"df-9134eadb-9ed2-49b0-a015-670f26047560\">\n",
              "    <div class=\"colab-df-container\">\n",
              "      <div>\n",
              "<style scoped>\n",
              "    .dataframe tbody tr th:only-of-type {\n",
              "        vertical-align: middle;\n",
              "    }\n",
              "\n",
              "    .dataframe tbody tr th {\n",
              "        vertical-align: top;\n",
              "    }\n",
              "\n",
              "    .dataframe thead th {\n",
              "        text-align: right;\n",
              "    }\n",
              "</style>\n",
              "<table border=\"1\" class=\"dataframe\">\n",
              "  <thead>\n",
              "    <tr style=\"text-align: right;\">\n",
              "      <th></th>\n",
              "      <th>from_user</th>\n",
              "      <th>from_user_tweet_number</th>\n",
              "      <th>to_user</th>\n",
              "      <th>to_user_tweet_number</th>\n",
              "      <th>relation_value</th>\n",
              "      <th>relation_type</th>\n",
              "      <th>from_user_alias</th>\n",
              "    </tr>\n",
              "  </thead>\n",
              "  <tbody>\n",
              "    <tr>\n",
              "      <th>0</th>\n",
              "      <td>3le4n012</td>\n",
              "      <td>235</td>\n",
              "      <td>cyfranz</td>\n",
              "      <td>101</td>\n",
              "      <td>0.274448</td>\n",
              "      <td>topic</td>\n",
              "      <td>0</td>\n",
              "    </tr>\n",
              "    <tr>\n",
              "      <th>1</th>\n",
              "      <td>3le4n012</td>\n",
              "      <td>235</td>\n",
              "      <td>isar____</td>\n",
              "      <td>146</td>\n",
              "      <td>0.254276</td>\n",
              "      <td>topic</td>\n",
              "      <td>0</td>\n",
              "    </tr>\n",
              "    <tr>\n",
              "      <th>2</th>\n",
              "      <td>3le4n012</td>\n",
              "      <td>235</td>\n",
              "      <td>jodi_wirawan</td>\n",
              "      <td>170</td>\n",
              "      <td>0.290601</td>\n",
              "      <td>topic</td>\n",
              "      <td>0</td>\n",
              "    </tr>\n",
              "    <tr>\n",
              "      <th>3</th>\n",
              "      <td>3le4n012</td>\n",
              "      <td>235</td>\n",
              "      <td>lisasarilisa</td>\n",
              "      <td>103</td>\n",
              "      <td>0.361930</td>\n",
              "      <td>topic</td>\n",
              "      <td>0</td>\n",
              "    </tr>\n",
              "    <tr>\n",
              "      <th>4</th>\n",
              "      <td>3le4n012</td>\n",
              "      <td>235</td>\n",
              "      <td>migumogu_</td>\n",
              "      <td>168</td>\n",
              "      <td>0.273407</td>\n",
              "      <td>topic</td>\n",
              "      <td>0</td>\n",
              "    </tr>\n",
              "    <tr>\n",
              "      <th>...</th>\n",
              "      <td>...</td>\n",
              "      <td>...</td>\n",
              "      <td>...</td>\n",
              "      <td>...</td>\n",
              "      <td>...</td>\n",
              "      <td>...</td>\n",
              "      <td>...</td>\n",
              "    </tr>\n",
              "    <tr>\n",
              "      <th>629</th>\n",
              "      <td>yuliani2907</td>\n",
              "      <td>130</td>\n",
              "      <td>cagubnyinyir2</td>\n",
              "      <td>300</td>\n",
              "      <td>0.259802</td>\n",
              "      <td>emotion</td>\n",
              "      <td>97</td>\n",
              "    </tr>\n",
              "    <tr>\n",
              "      <th>630</th>\n",
              "      <td>yuliani2907</td>\n",
              "      <td>130</td>\n",
              "      <td>kwonfire3424</td>\n",
              "      <td>155</td>\n",
              "      <td>0.278908</td>\n",
              "      <td>emotion</td>\n",
              "      <td>97</td>\n",
              "    </tr>\n",
              "    <tr>\n",
              "      <th>631</th>\n",
              "      <td>yuliani2907</td>\n",
              "      <td>130</td>\n",
              "      <td>lovelyndelight</td>\n",
              "      <td>296</td>\n",
              "      <td>0.275543</td>\n",
              "      <td>topic</td>\n",
              "      <td>97</td>\n",
              "    </tr>\n",
              "    <tr>\n",
              "      <th>632</th>\n",
              "      <td>yuliani2907</td>\n",
              "      <td>130</td>\n",
              "      <td>m_jahroni</td>\n",
              "      <td>274</td>\n",
              "      <td>0.267136</td>\n",
              "      <td>topic</td>\n",
              "      <td>97</td>\n",
              "    </tr>\n",
              "    <tr>\n",
              "      <th>633</th>\n",
              "      <td>yuliani2907</td>\n",
              "      <td>130</td>\n",
              "      <td>tatatrst</td>\n",
              "      <td>119</td>\n",
              "      <td>0.280380</td>\n",
              "      <td>topic</td>\n",
              "      <td>97</td>\n",
              "    </tr>\n",
              "  </tbody>\n",
              "</table>\n",
              "<p>634 rows × 7 columns</p>\n",
              "</div>\n",
              "      <button class=\"colab-df-convert\" onclick=\"convertToInteractive('df-9134eadb-9ed2-49b0-a015-670f26047560')\"\n",
              "              title=\"Convert this dataframe to an interactive table.\"\n",
              "              style=\"display:none;\">\n",
              "        \n",
              "  <svg xmlns=\"http://www.w3.org/2000/svg\" height=\"24px\"viewBox=\"0 0 24 24\"\n",
              "       width=\"24px\">\n",
              "    <path d=\"M0 0h24v24H0V0z\" fill=\"none\"/>\n",
              "    <path d=\"M18.56 5.44l.94 2.06.94-2.06 2.06-.94-2.06-.94-.94-2.06-.94 2.06-2.06.94zm-11 1L8.5 8.5l.94-2.06 2.06-.94-2.06-.94L8.5 2.5l-.94 2.06-2.06.94zm10 10l.94 2.06.94-2.06 2.06-.94-2.06-.94-.94-2.06-.94 2.06-2.06.94z\"/><path d=\"M17.41 7.96l-1.37-1.37c-.4-.4-.92-.59-1.43-.59-.52 0-1.04.2-1.43.59L10.3 9.45l-7.72 7.72c-.78.78-.78 2.05 0 2.83L4 21.41c.39.39.9.59 1.41.59.51 0 1.02-.2 1.41-.59l7.78-7.78 2.81-2.81c.8-.78.8-2.07 0-2.86zM5.41 20L4 18.59l7.72-7.72 1.47 1.35L5.41 20z\"/>\n",
              "  </svg>\n",
              "      </button>\n",
              "      \n",
              "  <style>\n",
              "    .colab-df-container {\n",
              "      display:flex;\n",
              "      flex-wrap:wrap;\n",
              "      gap: 12px;\n",
              "    }\n",
              "\n",
              "    .colab-df-convert {\n",
              "      background-color: #E8F0FE;\n",
              "      border: none;\n",
              "      border-radius: 50%;\n",
              "      cursor: pointer;\n",
              "      display: none;\n",
              "      fill: #1967D2;\n",
              "      height: 32px;\n",
              "      padding: 0 0 0 0;\n",
              "      width: 32px;\n",
              "    }\n",
              "\n",
              "    .colab-df-convert:hover {\n",
              "      background-color: #E2EBFA;\n",
              "      box-shadow: 0px 1px 2px rgba(60, 64, 67, 0.3), 0px 1px 3px 1px rgba(60, 64, 67, 0.15);\n",
              "      fill: #174EA6;\n",
              "    }\n",
              "\n",
              "    [theme=dark] .colab-df-convert {\n",
              "      background-color: #3B4455;\n",
              "      fill: #D2E3FC;\n",
              "    }\n",
              "\n",
              "    [theme=dark] .colab-df-convert:hover {\n",
              "      background-color: #434B5C;\n",
              "      box-shadow: 0px 1px 3px 1px rgba(0, 0, 0, 0.15);\n",
              "      filter: drop-shadow(0px 1px 2px rgba(0, 0, 0, 0.3));\n",
              "      fill: #FFFFFF;\n",
              "    }\n",
              "  </style>\n",
              "\n",
              "      <script>\n",
              "        const buttonEl =\n",
              "          document.querySelector('#df-9134eadb-9ed2-49b0-a015-670f26047560 button.colab-df-convert');\n",
              "        buttonEl.style.display =\n",
              "          google.colab.kernel.accessAllowed ? 'block' : 'none';\n",
              "\n",
              "        async function convertToInteractive(key) {\n",
              "          const element = document.querySelector('#df-9134eadb-9ed2-49b0-a015-670f26047560');\n",
              "          const dataTable =\n",
              "            await google.colab.kernel.invokeFunction('convertToInteractive',\n",
              "                                                     [key], {});\n",
              "          if (!dataTable) return;\n",
              "\n",
              "          const docLinkHtml = 'Like what you see? Visit the ' +\n",
              "            '<a target=\"_blank\" href=https://colab.research.google.com/notebooks/data_table.ipynb>data table notebook</a>'\n",
              "            + ' to learn more about interactive tables.';\n",
              "          element.innerHTML = '';\n",
              "          dataTable['output_type'] = 'display_data';\n",
              "          await google.colab.output.renderOutput(dataTable, element);\n",
              "          const docLink = document.createElement('div');\n",
              "          docLink.innerHTML = docLinkHtml;\n",
              "          element.appendChild(docLink);\n",
              "        }\n",
              "      </script>\n",
              "    </div>\n",
              "  </div>\n",
              "  "
            ]
          },
          "metadata": {},
          "execution_count": 53
        }
      ]
    },
    {
      "cell_type": "markdown",
      "source": [
        "Melakukan penyimpanan data hasil similaritas perilaku pengguna"
      ],
      "metadata": {
        "id": "5MLyri5NloA-"
      }
    },
    {
      "cell_type": "code",
      "source": [
        "to_user_label = []\n",
        "\n",
        "for i, data in result_data.iterrows():\n",
        "  resulted_data = result_data[result_data['from_user'] == data['to_user']]['from_user_alias'].drop_duplicates()\n",
        "\n",
        "  to_user_label.append(resulted_data.iloc[0])\n",
        "\n",
        "result_data['to_user_alias'] = to_user_label"
      ],
      "metadata": {
        "id": "ZADe_zd9UZsi"
      },
      "execution_count": null,
      "outputs": []
    },
    {
      "cell_type": "code",
      "metadata": {
        "id": "LvjBkNst2hXe"
      },
      "source": [
        "result_data.to_csv('/content/drive/MyDrive/Thesis/output/6_04042022_before_covid_pearson_result.csv')\n",
        "#result_data.to_csv('/content/drive/MyDrive/Thesis/output/6_04042022_after_covid_pearson_result.csv')"
      ],
      "execution_count": null,
      "outputs": []
    }
  ]
}